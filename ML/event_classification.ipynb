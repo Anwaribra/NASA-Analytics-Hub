{
 "cells": [
  {
   "cell_type": "markdown",
   "id": "1335098f",
   "metadata": {},
   "source": [
    "# NASA Event Classification\n",
    "\n",
    "A simple machine learning model to classify NASA EONET (Earth Observatory Natural Event Tracker) events.\n",
    "\n"
   ]
  },
  {
   "cell_type": "code",
   "execution_count": null,
   "id": "0db609be",
   "metadata": {},
   "outputs": [],
   "source": [
    "import os\n",
    "import pandas as pd\n",
    "import numpy as np\n",
    "from sklearn.model_selection import train_test_split\n",
    "from sklearn.preprocessing import LabelEncoder\n",
    "from sklearn.ensemble import RandomForestClassifier\n",
    "from sklearn.metrics import classification_report\n",
    "import plotly.express as px\n",
    "from dotenv import load_dotenv\n",
    "import snowflake.connector\n",
    "from pathlib import Path\n",
    "\n",
    "load_dotenv()\n",
    "\n",
    "SNOWFLAKE_CONFIG = {\n",
    "    \"account\": os.getenv(\"SNOWFLAKE_ACCOUNT\"),\n",
    "    \"user\": os.getenv(\"SNOWFLAKE_USER\"),\n",
    "    \"password\": os.getenv(\"SNOWFLAKE_PASSWORD\"),\n",
    "    \"warehouse\": os.getenv(\"SNOWFLAKE_WAREHOUSE\"),\n",
    "    \"database\": os.getenv(\"SNOWFLAKE_DATABASE\"),\n",
    "    \"schema\": os.getenv(\"SNOWFLAKE_SCHEMA\")\n",
    "}\n",
    "\n",
    "# Create directory for saving models\n",
    "MODELS_DIR = Path(\"models\")\n",
    "MODELS_DIR.mkdir(exist_ok=True)\n"
   ]
  },
  {
   "cell_type": "code",
   "execution_count": 2,
   "id": "46532732",
   "metadata": {},
   "outputs": [
    {
     "name": "stderr",
     "output_type": "stream",
     "text": [
      "C:\\Users\\anwar\\AppData\\Local\\Temp\\ipykernel_8904\\1053063240.py:25: UserWarning: pandas only supports SQLAlchemy connectable (engine/connection) or database string URI or sqlite3 DBAPI2 connection. Other DBAPI2 objects are not tested. Please consider using SQLAlchemy.\n",
      "  df = pd.read_sql(query, conn)\n"
     ]
    },
    {
     "name": "stdout",
     "output_type": "stream",
     "text": [
      "Loaded 2316 events\n",
      "After cleaning: 1535 valid events\n",
      "\n",
      "Event categories found:\n",
      "CATEGORY\n",
      "Wildfires           1506\n",
      "Volcanoes             17\n",
      "Sea and Lake Ice      10\n",
      "Severe Storms          2\n",
      "Name: count, dtype: int64\n"
     ]
    }
   ],
   "source": [
    "def load_events(days=30):\n",
    "    \"\"\"Load EONET events from Snowflake\"\"\"\n",
    "    try:\n",
    "        conn = snowflake.connector.connect(**SNOWFLAKE_CONFIG)\n",
    "\n",
    "        query = f\"\"\"\n",
    "            WITH event_data AS (\n",
    "                SELECT \n",
    "                    EVENT_TIME,\n",
    "                    EVENT_ID,\n",
    "                    TITLE,\n",
    "                    CATEGORIES[0]:title::STRING as CATEGORY,\n",
    "                    GEOMETRIES[0]:coordinates[0]::FLOAT as LONGITUDE,\n",
    "                    GEOMETRIES[0]:coordinates[1]::FLOAT as LATITUDE\n",
    "                FROM PUBLIC_STAGING.STG_EONET_EVENTS\n",
    "                WHERE EVENT_TIME >= DATEADD(days, -{days}, CURRENT_TIMESTAMP())\n",
    "                  AND ARRAY_SIZE(CATEGORIES) > 0\n",
    "                  AND ARRAY_SIZE(GEOMETRIES) > 0\n",
    "            )\n",
    "            SELECT *\n",
    "            FROM event_data\n",
    "            WHERE LONGITUDE IS NOT NULL\n",
    "              AND LATITUDE IS NOT NULL\n",
    "        \"\"\"\n",
    "        df = pd.read_sql(query, conn)\n",
    "        print(f\"Loaded {len(df)} events\")\n",
    "        \n",
    "        df['EVENT_TIME'] = pd.to_datetime(df['EVENT_TIME'])\n",
    "\n",
    "        df = df[\n",
    "            df['LONGITUDE'].between(-180, 180) & \n",
    "            df['LATITUDE'].between(-90, 90)\n",
    "        ]\n",
    "        \n",
    "        df = df.drop_duplicates(subset=['EVENT_ID'])\n",
    "        \n",
    "        print(f\"After cleaning: {len(df)} valid events\")\n",
    "        print(\"\\nEvent categories found:\")\n",
    "        print(df['CATEGORY'].value_counts())\n",
    "        \n",
    "        return df\n",
    "        \n",
    "    except Exception as e:\n",
    "        print(f\"Error loading data: {str(e)}\")\n",
    "        raise\n",
    "    finally:\n",
    "        if 'conn' in locals():\n",
    "            conn.close()\n",
    "\n",
    "df_events = load_events()\n"
   ]
  },
  {
   "cell_type": "code",
   "execution_count": 3,
   "id": "b293efa2",
   "metadata": {},
   "outputs": [
    {
     "name": "stdout",
     "output_type": "stream",
     "text": [
      "\n",
      "Data Summary:\n",
      "Total samples: 1535\n",
      "\n",
      "Categories:\n",
      "  Wildfires: 1506\n",
      "  Volcanoes: 17\n",
      "  Sea and Lake Ice: 10\n",
      "  Severe Storms: 2\n"
     ]
    }
   ],
   "source": [
    "def prepare_data(df):\n",
    "    \"\"\"Create features and prepare data for modeling\"\"\"\n",
    "    df['month'] = df['EVENT_TIME'].dt.month\n",
    "    df['day_of_year'] = df['EVENT_TIME'].dt.dayofyear\n",
    "\n",
    "    df['region'] = pd.cut(\n",
    "        df['LATITUDE'], \n",
    "        bins=[-90, -30, 0, 30, 90],\n",
    "        labels=['South', 'Tropical South', 'Tropical North', 'North']\n",
    "    )\n",
    "\n",
    "    le = LabelEncoder()\n",
    "    df['category_encoded'] = le.fit_transform(df['CATEGORY'])\n",
    "    df['region_encoded'] = LabelEncoder().fit_transform(df['region'])\n",
    "    \n",
    "    # create feature matrix\n",
    "    X = df[[\n",
    "        'month', 'day_of_year', 'LONGITUDE', 'LATITUDE', 'region_encoded'\n",
    "    ]].copy()\n",
    "    \n",
    "    y = df['category_encoded']\n",
    "    \n",
    "\n",
    "    print(\"\\nData Summary:\")\n",
    "    print(f\"Total samples: {len(df)}\")\n",
    "    print(\"\\nCategories:\")\n",
    "    for cat, count in df['CATEGORY'].value_counts().items():\n",
    "        print(f\"  {cat}: {count}\")\n",
    "    \n",
    "    return X, y, le\n",
    "\n",
    "X, y, label_encoder = prepare_data(df_events)\n",
    "\n",
    "# split into train -simple test\n",
    "X_train, X_test, y_train, y_test = train_test_split(\n",
    "    X, y, test_size=0.2, random_state=42, stratify=y\n",
    ")"
   ]
  },
  {
   "cell_type": "code",
   "execution_count": null,
   "id": "b1628386",
   "metadata": {},
   "outputs": [
    {
     "name": "stdout",
     "output_type": "stream",
     "text": [
      "Training Random Forest classifier...\n",
      "Making predictions...\n",
      "\n",
      "Model Results:\n",
      "=============\n",
      "\n",
      "Classification Report:\n",
      "                  precision    recall  f1-score   support\n",
      "\n",
      "Sea and Lake Ice       1.00      1.00      1.00         2\n",
      "   Severe Storms       0.00      0.00      0.00         0\n",
      "       Volcanoes       1.00      0.75      0.86         4\n",
      "       Wildfires       1.00      1.00      1.00       301\n",
      "\n",
      "        accuracy                           1.00       307\n",
      "       macro avg       0.75      0.69      0.71       307\n",
      "    weighted avg       1.00      1.00      1.00       307\n",
      "\n",
      "\n",
      "Feature Importance:\n",
      "  LATITUDE: 0.482\n",
      "  LONGITUDE: 0.371\n",
      "  region_encoded: 0.146\n",
      "  month: 0.000\n",
      "  day_of_year: 0.000\n",
      "\n",
      "Model saved to models\\event_classifier.joblib\n"
     ]
    }
   ],
   "source": [
    "# train and evaluate model\n",
    "def train_and_evaluate():\n",
    "    \"\"\"Train and evaluate a Random Forest classifier\"\"\"\n",
    "    print(\"Training Random Forest classifier...\")\n",
    "    model = RandomForestClassifier(\n",
    "        n_estimators=100,\n",
    "        max_depth=10,\n",
    "        class_weight='balanced',\n",
    "        random_state=42\n",
    "    )\n",
    "    model.fit(X_train, y_train)\n",
    "    \n",
    "    # mmake predictions\n",
    "    print(\"Making predictions...\")\n",
    "    y_pred = model.predict(X_test)\n",
    "    \n",
    "    print(\"\\nModel Results:\")\n",
    "    print(\"=============\")\n",
    "    print(\"\\nClassification Report:\")\n",
    "    print(classification_report(\n",
    "        y_test, y_pred,\n",
    "        target_names=label_encoder.classes_,\n",
    "        zero_division=0\n",
    "    ))\n",
    "    \n",
    "\n",
    "    importance = pd.DataFrame({\n",
    "        'feature': X.columns,\n",
    "        'importance': model.feature_importances_\n",
    "    }).sort_values('importance', ascending=False)\n",
    "    \n",
    "    print(\"\\nFeature Importance:\")\n",
    "    for _, row in importance.iterrows():\n",
    "        print(f\"  {row['feature']}: {row['importance']:.3f}\")\n",
    "    \n",
    "    # save model using joblib\n",
    "    try:\n",
    "        import joblib\n",
    "        model_path = MODELS_DIR / 'event_classifier.joblib'\n",
    "        joblib.dump(model, model_path)\n",
    "        print(f\"\\nModel saved to {model_path}\")\n",
    "    except Exception as e:\n",
    "        print(f\"Warning: Could not save model: {str(e)}\")\n",
    "    \n",
    "    return model, y_pred\n",
    "\n",
    "\n",
    "model, predictions = train_and_evaluate()\n"
   ]
  },
  {
   "cell_type": "code",
   "execution_count": null,
   "id": "a56e18e6",
   "metadata": {},
   "outputs": [
    {
     "data": {
      "application/vnd.plotly.v1+json": {
       "config": {
        "plotlyServerURL": "https://plot.ly"
       },
       "data": [
        {
         "alignmentgroup": "True",
         "hovertemplate": "variable=count<br>CATEGORY=%{x}<br>Count=%{y}<extra></extra>",
         "legendgroup": "count",
         "marker": {
          "color": "#636efa",
          "pattern": {
           "shape": ""
          }
         },
         "name": "count",
         "offsetgroup": "count",
         "orientation": "v",
         "showlegend": true,
         "textposition": "auto",
         "type": "bar",
         "x": [
          "Wildfires",
          "Volcanoes",
          "Sea and Lake Ice",
          "Severe Storms"
         ],
         "xaxis": "x",
         "y": [
          1506,
          17,
          10,
          2
         ],
         "yaxis": "y"
        }
       ],
       "layout": {
        "barmode": "relative",
        "legend": {
         "title": {
          "text": "variable"
         },
         "tracegroupgap": 0
        },
        "template": {
         "data": {
          "bar": [
           {
            "error_x": {
             "color": "#2a3f5f"
            },
            "error_y": {
             "color": "#2a3f5f"
            },
            "marker": {
             "line": {
              "color": "#E5ECF6",
              "width": 0.5
             },
             "pattern": {
              "fillmode": "overlay",
              "size": 10,
              "solidity": 0.2
             }
            },
            "type": "bar"
           }
          ],
          "barpolar": [
           {
            "marker": {
             "line": {
              "color": "#E5ECF6",
              "width": 0.5
             },
             "pattern": {
              "fillmode": "overlay",
              "size": 10,
              "solidity": 0.2
             }
            },
            "type": "barpolar"
           }
          ],
          "carpet": [
           {
            "aaxis": {
             "endlinecolor": "#2a3f5f",
             "gridcolor": "white",
             "linecolor": "white",
             "minorgridcolor": "white",
             "startlinecolor": "#2a3f5f"
            },
            "baxis": {
             "endlinecolor": "#2a3f5f",
             "gridcolor": "white",
             "linecolor": "white",
             "minorgridcolor": "white",
             "startlinecolor": "#2a3f5f"
            },
            "type": "carpet"
           }
          ],
          "choropleth": [
           {
            "colorbar": {
             "outlinewidth": 0,
             "ticks": ""
            },
            "type": "choropleth"
           }
          ],
          "contour": [
           {
            "colorbar": {
             "outlinewidth": 0,
             "ticks": ""
            },
            "colorscale": [
             [
              0,
              "#0d0887"
             ],
             [
              0.1111111111111111,
              "#46039f"
             ],
             [
              0.2222222222222222,
              "#7201a8"
             ],
             [
              0.3333333333333333,
              "#9c179e"
             ],
             [
              0.4444444444444444,
              "#bd3786"
             ],
             [
              0.5555555555555556,
              "#d8576b"
             ],
             [
              0.6666666666666666,
              "#ed7953"
             ],
             [
              0.7777777777777778,
              "#fb9f3a"
             ],
             [
              0.8888888888888888,
              "#fdca26"
             ],
             [
              1,
              "#f0f921"
             ]
            ],
            "type": "contour"
           }
          ],
          "contourcarpet": [
           {
            "colorbar": {
             "outlinewidth": 0,
             "ticks": ""
            },
            "type": "contourcarpet"
           }
          ],
          "heatmap": [
           {
            "colorbar": {
             "outlinewidth": 0,
             "ticks": ""
            },
            "colorscale": [
             [
              0,
              "#0d0887"
             ],
             [
              0.1111111111111111,
              "#46039f"
             ],
             [
              0.2222222222222222,
              "#7201a8"
             ],
             [
              0.3333333333333333,
              "#9c179e"
             ],
             [
              0.4444444444444444,
              "#bd3786"
             ],
             [
              0.5555555555555556,
              "#d8576b"
             ],
             [
              0.6666666666666666,
              "#ed7953"
             ],
             [
              0.7777777777777778,
              "#fb9f3a"
             ],
             [
              0.8888888888888888,
              "#fdca26"
             ],
             [
              1,
              "#f0f921"
             ]
            ],
            "type": "heatmap"
           }
          ],
          "heatmapgl": [
           {
            "colorbar": {
             "outlinewidth": 0,
             "ticks": ""
            },
            "colorscale": [
             [
              0,
              "#0d0887"
             ],
             [
              0.1111111111111111,
              "#46039f"
             ],
             [
              0.2222222222222222,
              "#7201a8"
             ],
             [
              0.3333333333333333,
              "#9c179e"
             ],
             [
              0.4444444444444444,
              "#bd3786"
             ],
             [
              0.5555555555555556,
              "#d8576b"
             ],
             [
              0.6666666666666666,
              "#ed7953"
             ],
             [
              0.7777777777777778,
              "#fb9f3a"
             ],
             [
              0.8888888888888888,
              "#fdca26"
             ],
             [
              1,
              "#f0f921"
             ]
            ],
            "type": "heatmapgl"
           }
          ],
          "histogram": [
           {
            "marker": {
             "pattern": {
              "fillmode": "overlay",
              "size": 10,
              "solidity": 0.2
             }
            },
            "type": "histogram"
           }
          ],
          "histogram2d": [
           {
            "colorbar": {
             "outlinewidth": 0,
             "ticks": ""
            },
            "colorscale": [
             [
              0,
              "#0d0887"
             ],
             [
              0.1111111111111111,
              "#46039f"
             ],
             [
              0.2222222222222222,
              "#7201a8"
             ],
             [
              0.3333333333333333,
              "#9c179e"
             ],
             [
              0.4444444444444444,
              "#bd3786"
             ],
             [
              0.5555555555555556,
              "#d8576b"
             ],
             [
              0.6666666666666666,
              "#ed7953"
             ],
             [
              0.7777777777777778,
              "#fb9f3a"
             ],
             [
              0.8888888888888888,
              "#fdca26"
             ],
             [
              1,
              "#f0f921"
             ]
            ],
            "type": "histogram2d"
           }
          ],
          "histogram2dcontour": [
           {
            "colorbar": {
             "outlinewidth": 0,
             "ticks": ""
            },
            "colorscale": [
             [
              0,
              "#0d0887"
             ],
             [
              0.1111111111111111,
              "#46039f"
             ],
             [
              0.2222222222222222,
              "#7201a8"
             ],
             [
              0.3333333333333333,
              "#9c179e"
             ],
             [
              0.4444444444444444,
              "#bd3786"
             ],
             [
              0.5555555555555556,
              "#d8576b"
             ],
             [
              0.6666666666666666,
              "#ed7953"
             ],
             [
              0.7777777777777778,
              "#fb9f3a"
             ],
             [
              0.8888888888888888,
              "#fdca26"
             ],
             [
              1,
              "#f0f921"
             ]
            ],
            "type": "histogram2dcontour"
           }
          ],
          "mesh3d": [
           {
            "colorbar": {
             "outlinewidth": 0,
             "ticks": ""
            },
            "type": "mesh3d"
           }
          ],
          "parcoords": [
           {
            "line": {
             "colorbar": {
              "outlinewidth": 0,
              "ticks": ""
             }
            },
            "type": "parcoords"
           }
          ],
          "pie": [
           {
            "automargin": true,
            "type": "pie"
           }
          ],
          "scatter": [
           {
            "fillpattern": {
             "fillmode": "overlay",
             "size": 10,
             "solidity": 0.2
            },
            "type": "scatter"
           }
          ],
          "scatter3d": [
           {
            "line": {
             "colorbar": {
              "outlinewidth": 0,
              "ticks": ""
             }
            },
            "marker": {
             "colorbar": {
              "outlinewidth": 0,
              "ticks": ""
             }
            },
            "type": "scatter3d"
           }
          ],
          "scattercarpet": [
           {
            "marker": {
             "colorbar": {
              "outlinewidth": 0,
              "ticks": ""
             }
            },
            "type": "scattercarpet"
           }
          ],
          "scattergeo": [
           {
            "marker": {
             "colorbar": {
              "outlinewidth": 0,
              "ticks": ""
             }
            },
            "type": "scattergeo"
           }
          ],
          "scattergl": [
           {
            "marker": {
             "colorbar": {
              "outlinewidth": 0,
              "ticks": ""
             }
            },
            "type": "scattergl"
           }
          ],
          "scattermapbox": [
           {
            "marker": {
             "colorbar": {
              "outlinewidth": 0,
              "ticks": ""
             }
            },
            "type": "scattermapbox"
           }
          ],
          "scatterpolar": [
           {
            "marker": {
             "colorbar": {
              "outlinewidth": 0,
              "ticks": ""
             }
            },
            "type": "scatterpolar"
           }
          ],
          "scatterpolargl": [
           {
            "marker": {
             "colorbar": {
              "outlinewidth": 0,
              "ticks": ""
             }
            },
            "type": "scatterpolargl"
           }
          ],
          "scatterternary": [
           {
            "marker": {
             "colorbar": {
              "outlinewidth": 0,
              "ticks": ""
             }
            },
            "type": "scatterternary"
           }
          ],
          "surface": [
           {
            "colorbar": {
             "outlinewidth": 0,
             "ticks": ""
            },
            "colorscale": [
             [
              0,
              "#0d0887"
             ],
             [
              0.1111111111111111,
              "#46039f"
             ],
             [
              0.2222222222222222,
              "#7201a8"
             ],
             [
              0.3333333333333333,
              "#9c179e"
             ],
             [
              0.4444444444444444,
              "#bd3786"
             ],
             [
              0.5555555555555556,
              "#d8576b"
             ],
             [
              0.6666666666666666,
              "#ed7953"
             ],
             [
              0.7777777777777778,
              "#fb9f3a"
             ],
             [
              0.8888888888888888,
              "#fdca26"
             ],
             [
              1,
              "#f0f921"
             ]
            ],
            "type": "surface"
           }
          ],
          "table": [
           {
            "cells": {
             "fill": {
              "color": "#EBF0F8"
             },
             "line": {
              "color": "white"
             }
            },
            "header": {
             "fill": {
              "color": "#C8D4E3"
             },
             "line": {
              "color": "white"
             }
            },
            "type": "table"
           }
          ]
         },
         "layout": {
          "annotationdefaults": {
           "arrowcolor": "#2a3f5f",
           "arrowhead": 0,
           "arrowwidth": 1
          },
          "autotypenumbers": "strict",
          "coloraxis": {
           "colorbar": {
            "outlinewidth": 0,
            "ticks": ""
           }
          },
          "colorscale": {
           "diverging": [
            [
             0,
             "#8e0152"
            ],
            [
             0.1,
             "#c51b7d"
            ],
            [
             0.2,
             "#de77ae"
            ],
            [
             0.3,
             "#f1b6da"
            ],
            [
             0.4,
             "#fde0ef"
            ],
            [
             0.5,
             "#f7f7f7"
            ],
            [
             0.6,
             "#e6f5d0"
            ],
            [
             0.7,
             "#b8e186"
            ],
            [
             0.8,
             "#7fbc41"
            ],
            [
             0.9,
             "#4d9221"
            ],
            [
             1,
             "#276419"
            ]
           ],
           "sequential": [
            [
             0,
             "#0d0887"
            ],
            [
             0.1111111111111111,
             "#46039f"
            ],
            [
             0.2222222222222222,
             "#7201a8"
            ],
            [
             0.3333333333333333,
             "#9c179e"
            ],
            [
             0.4444444444444444,
             "#bd3786"
            ],
            [
             0.5555555555555556,
             "#d8576b"
            ],
            [
             0.6666666666666666,
             "#ed7953"
            ],
            [
             0.7777777777777778,
             "#fb9f3a"
            ],
            [
             0.8888888888888888,
             "#fdca26"
            ],
            [
             1,
             "#f0f921"
            ]
           ],
           "sequentialminus": [
            [
             0,
             "#0d0887"
            ],
            [
             0.1111111111111111,
             "#46039f"
            ],
            [
             0.2222222222222222,
             "#7201a8"
            ],
            [
             0.3333333333333333,
             "#9c179e"
            ],
            [
             0.4444444444444444,
             "#bd3786"
            ],
            [
             0.5555555555555556,
             "#d8576b"
            ],
            [
             0.6666666666666666,
             "#ed7953"
            ],
            [
             0.7777777777777778,
             "#fb9f3a"
            ],
            [
             0.8888888888888888,
             "#fdca26"
            ],
            [
             1,
             "#f0f921"
            ]
           ]
          },
          "colorway": [
           "#636efa",
           "#EF553B",
           "#00cc96",
           "#ab63fa",
           "#FFA15A",
           "#19d3f3",
           "#FF6692",
           "#B6E880",
           "#FF97FF",
           "#FECB52"
          ],
          "font": {
           "color": "#2a3f5f"
          },
          "geo": {
           "bgcolor": "white",
           "lakecolor": "white",
           "landcolor": "#E5ECF6",
           "showlakes": true,
           "showland": true,
           "subunitcolor": "white"
          },
          "hoverlabel": {
           "align": "left"
          },
          "hovermode": "closest",
          "mapbox": {
           "style": "light"
          },
          "paper_bgcolor": "white",
          "plot_bgcolor": "#E5ECF6",
          "polar": {
           "angularaxis": {
            "gridcolor": "white",
            "linecolor": "white",
            "ticks": ""
           },
           "bgcolor": "#E5ECF6",
           "radialaxis": {
            "gridcolor": "white",
            "linecolor": "white",
            "ticks": ""
           }
          },
          "scene": {
           "xaxis": {
            "backgroundcolor": "#E5ECF6",
            "gridcolor": "white",
            "gridwidth": 2,
            "linecolor": "white",
            "showbackground": true,
            "ticks": "",
            "zerolinecolor": "white"
           },
           "yaxis": {
            "backgroundcolor": "#E5ECF6",
            "gridcolor": "white",
            "gridwidth": 2,
            "linecolor": "white",
            "showbackground": true,
            "ticks": "",
            "zerolinecolor": "white"
           },
           "zaxis": {
            "backgroundcolor": "#E5ECF6",
            "gridcolor": "white",
            "gridwidth": 2,
            "linecolor": "white",
            "showbackground": true,
            "ticks": "",
            "zerolinecolor": "white"
           }
          },
          "shapedefaults": {
           "line": {
            "color": "#2a3f5f"
           }
          },
          "ternary": {
           "aaxis": {
            "gridcolor": "white",
            "linecolor": "white",
            "ticks": ""
           },
           "baxis": {
            "gridcolor": "white",
            "linecolor": "white",
            "ticks": ""
           },
           "bgcolor": "#E5ECF6",
           "caxis": {
            "gridcolor": "white",
            "linecolor": "white",
            "ticks": ""
           }
          },
          "title": {
           "x": 0.05
          },
          "xaxis": {
           "automargin": true,
           "gridcolor": "white",
           "linecolor": "white",
           "ticks": "",
           "title": {
            "standoff": 15
           },
           "zerolinecolor": "white",
           "zerolinewidth": 2
          },
          "yaxis": {
           "automargin": true,
           "gridcolor": "white",
           "linecolor": "white",
           "ticks": "",
           "title": {
            "standoff": 15
           },
           "zerolinecolor": "white",
           "zerolinewidth": 2
          }
         }
        },
        "title": {
         "text": "Event Categories"
        },
        "xaxis": {
         "anchor": "y",
         "domain": [
          0,
          1
         ],
         "title": {
          "text": "CATEGORY"
         }
        },
        "yaxis": {
         "anchor": "x",
         "domain": [
          0,
          1
         ],
         "title": {
          "text": "Count"
         }
        }
       }
      }
     },
     "metadata": {},
     "output_type": "display_data"
    },
    {
     "data": {
      "application/vnd.plotly.v1+json": {
       "config": {
        "plotlyServerURL": "https://plot.ly"
       },
       "data": [
        {
         "customdata": [
          [
           "MARKS CREEK Wildfire, Crook, Oregon"
          ],
          [
           "8-Feb Wildfire, Calaveras, California"
          ],
          [
           "7-Feb Wildfire, Calaveras, California"
          ],
          [
           "5-Jun Wildfire, Tuolumne, California"
          ],
          [
           "2-Jun Wildfire, Tuolumne, California"
          ],
          [
           "2-Feb Wildfire, Stanislaus, California"
          ],
          [
           "SALT Wildfire, Fresno, California"
          ],
          [
           "LOWER SUGARLOAF Wildfire, Chelan, Washington"
          ],
          [
           "SWIFT COMPLEX Incident Complex, Trinity, California"
          ],
          [
           "ROOT Wildfire, Shasta, California"
          ],
          [
           "Rattlesnake Wildfire, Ferry, Washington"
          ],
          [
           "TACOMA CREEK Wildfire, Stevens, Washington"
          ],
          [
           "KATY CREEK Wildfire, Ferry, Washington"
          ],
          [
           "Ulm Creek Wildfire, Shoshone, Idaho"
          ],
          [
           "KATY CREEK Wildfire, Ferry, Washington"
          ],
          [
           "BLACKHAWK MOUNTAIN Wildfire, Stevens, Washington"
          ],
          [
           "CROWN CREEK Wildfire, Stevens, Washington"
          ],
          [
           "R-14 BUFFALO Wildfire, Washoe, Nevada"
          ],
          [
           "RX San Patricio 4111 Prescribed Fire, San Patricio, Texas"
          ],
          [
           "Juniper Canyon Wildfire, Umatilla, Oregon"
          ],
          [
           "SMR Unit 5/120 Rx 0827 Prescribed Fire, Wakulla, Florida"
          ],
          [
           "SMR Unit 108/122 Rx 0828 Prescribed Fire, Wakulla, Florida"
          ],
          [
           "BUTTE Wildfire, Malheur, Oregon"
          ],
          [
           "Perry Wildfire, Whatcom, Washington"
          ],
          [
           "BLUE Wildfire, Siskiyou, California"
          ],
          [
           "Canyon Wildfire, Ventura, California"
          ],
          [
           "Pony Wildfire, Rosebud, Montana"
          ],
          [
           "LOG Wildfire, Siskiyou, California"
          ],
          [
           "SMR BU 413/414 Rx 0826 Prescribed Fire, Wakulla, Florida"
          ],
          [
           "The backburn Wildfire, Rolette, North Dakota"
          ],
          [
           "Dillon Wildfire, Siskiyou, California"
          ],
          [
           "WILDCAT Wildfire, Yakima, Washington"
          ],
          [
           "PEAK Wildfire, Trinity, California"
          ],
          [
           "Big Butte Wildfire, Elko, Nevada"
          ],
          [
           "Emigrant Wildfire, Lane, Oregon"
          ],
          [
           "Five Points Wildfire, Scotland, North Carolina"
          ],
          [
           "R-3 Wildfire, Lassen, California"
          ],
          [
           "GARNET Wildfire, Fresno, California"
          ],
          [
           "Widemouth Wildfire, Millard, Utah"
          ],
          [
           "Dollar Lake Wildfire, Sublette, Wyoming"
          ],
          [
           "LITTLE Wildfire, Kern, California"
          ],
          [
           "Needwood Wildfire, Collingsworth, Texas"
          ],
          [
           "5 Mile 2025 Wildfire, Kleberg, Texas"
          ],
          [
           "Willow Creek Wildfire, Lincoln, Wyoming"
          ],
          [
           "FLAT Wildfire, Jefferson, Oregon"
          ],
          [
           "PICKETT Wildfire, Napa, California"
          ],
          [
           "Dollar Lake Wildfire, Sublette, Wyoming"
          ],
          [
           "Ransome Wildfire, Lincoln, Montana"
          ],
          [
           "Rhoda Creek Wildfire, Idaho, Idaho"
          ],
          [
           "Devil Mountain Wildfire, Powell, Montana"
          ],
          [
           "COYOTE Wildfire, El Dorado, California"
          ],
          [
           "East Wildfire, Idaho, Idaho"
          ],
          [
           "Lonely Mountain Wildfire, Idaho, Idaho"
          ],
          [
           "FT. GREEN RD. (53) Wildfire, Polk, Florida"
          ],
          [
           "West Fork Wildfire, Gallatin, Montana"
          ],
          [
           "MILE MARKER 39 FIRE (06) Wildfire, Broward, Florida"
          ],
          [
           "Fishhook Wildfire, Greenlee, Arizona"
          ],
          [
           "Pot Mountain Wildfire, Flathead, Montana"
          ],
          [
           "Moser Dome Wildfire, Yellowstone, Montana"
          ],
          [
           "Dry Head 2 Wildfire, Big Horn, Montana"
          ],
          [
           "Marceaux Wildfire, Cameron, Louisiana"
          ],
          [
           "Cow Creek Wildfire, Elko, Nevada"
          ],
          [
           "Knowles Wildfire, Sanders, Montana"
          ],
          [
           "BULL LAKE Wildfire, Fremont, Wyoming"
          ],
          [
           "Derby Wildfire, Eagle, Colorado"
          ],
          [
           "LG25 6416 - McAllister Wildfire, Madison, Montana"
          ],
          [
           "Cow Creek Wildfire, Elko, Nevada"
          ],
          [
           "Cottonwood Peak Wildfire, Elko, Nevada"
          ],
          [
           "Sand Creek Wildfire, Fremont, Idaho"
          ],
          [
           "Windy Rock Wildfire, Powell, Montana"
          ],
          [
           "Rancho Wildfire, Washoe, Nevada"
          ],
          [
           "Cloudrest Wildfire, Madison, Montana"
          ],
          [
           "Chin Creek Wildfire, White Pine, Nevada"
          ],
          [
           "SLEEPER RANCH Wildfire, Park, Wyoming"
          ],
          [
           "DRY HEAD Wildfire, Carbon, Montana"
          ],
          [
           "KING Wildfire, Los Angeles, California"
          ],
          [
           "RED CANYON Wildfire, Hot Springs, Wyoming"
          ],
          [
           "Bivens Creek Wildfire, Madison, Montana"
          ],
          [
           "CRESCENT ROAD Wildfire, Lincoln, Washington"
          ],
          [
           "Sunset Wildfire, Bonner, Idaho"
          ],
          [
           "LG25 6395 - Horn Wildfire, Madison, Montana"
          ],
          [
           "Mire Wildfire, Clearwater, Idaho"
          ],
          [
           "CENTRAL FERRY Wildfire, Whitman, Washington"
          ],
          [
           "Willard Peak Wildfire, Weber, Utah"
          ],
          [
           "Washington Wildfire, Gila, Arizona"
          ],
          [
           "SPRING CREEK Wildfire, Washakie, Wyoming"
          ],
          [
           "Summer Springs Wildfire, Treasure, Montana"
          ],
          [
           "Pony Creek Wildfire, Rosebud, Montana"
          ],
          [
           "BOX Wildfire, Owyhee, Idaho"
          ],
          [
           "ROCK Wildfire, Valley, Idaho"
          ],
          [
           "Mission Butte Wildfire, Big Horn, Montana"
          ],
          [
           "MOUNTAIN Wildfire, Modoc, California"
          ],
          [
           "Crosho Wildfire, Rio Blanco, Colorado"
          ],
          [
           "Big Springs Wildfire, Tooele, Utah"
          ],
          [
           "VEREDA BLANCA Wildfire, Sandoval, New Mexico"
          ],
          [
           "CANYON Wildfire, Ventura, California"
          ],
          [
           "Beulah Wildfire, Summit, Utah"
          ],
          [
           "Goodwin Wildfire, Graham, Arizona"
          ],
          [
           "Twelve Wildfire, Moffat, Colorado"
          ],
          [
           "Indian Creek Wildfire, Gila, Arizona"
          ],
          [
           "ANDERSON DIKE (53) Wildfire, Polk, Florida"
          ],
          [
           "ROSA Wildfire, Riverside, California"
          ],
          [
           "Tullock Wildfire, Big Horn, Montana"
          ],
          [
           "Medicine Wildfire, Yukon-Koyukuk, Alaska"
          ],
          [
           "GOLD Wildfire, San Bernardino, California"
          ],
          [
           "Backbone Wildfire, Natchitoches, Louisiana"
          ],
          [
           "Leroux Wildfire, Delta, Colorado"
          ],
          [
           "Bronco Wildfire, Gila, Arizona"
          ],
          [
           "Grease Wildfire, Rio Blanco, Colorado"
          ],
          [
           "Lee Wildfire, Rio Blanco, Colorado"
          ],
          [
           "VICTORY Wildfire, Ada, Idaho"
          ],
          [
           "Elk RBX Wildfire, Rio Blanco, Colorado"
          ],
          [
           "Adobe Mtn Wildfire, Elko, Nevada"
          ],
          [
           "MP 22 Wildfire, Elko, Nevada"
          ],
          [
           "Jakes Wildfire, Elko, Nevada"
          ],
          [
           "Snowstorm Wildfire, Elko, Nevada"
          ],
          [
           "Rattlesnake (50) Wildfire, Palm Beach, Florida"
          ],
          [
           "Kirkland Wildfire, Yavapai, Arizona"
          ],
          [
           "Gifford Wildfire, Santa Barbara, California"
          ],
          [
           "Pryor Dump Inc. 698 Wildfire, Big Horn, Montana"
          ],
          [
           "Middle Mesa Wildfire, Rio Arriba, New Mexico"
          ],
          [
           "Island Creek Wildfire, Idaho, Idaho"
          ],
          [
           "BUDDHA RANCH Wildfire, Lake, Montana"
          ],
          [
           "STUD HORSE Wildfire, Okanogan, Washington"
          ],
          [
           "Lake Creek Wildfire, Umatilla, Oregon"
          ],
          [
           "Lightning Creek Wildfire, Bonner, Idaho"
          ],
          [
           "BU 103-156 Rx 0731 Prescribed Fire, Wakulla, Florida"
          ],
          [
           "STRIKER Wildfire, Owyhee, Idaho"
          ],
          [
           "PRAIRIE MINE (53) Wildfire, Polk, Florida"
          ],
          [
           "Salt Lake Wildfire, Brazoria, Texas"
          ],
          [
           "BIG CLIFF Wildfire, Siskiyou, California"
          ],
          [
           "Elkhorn Wildfire, Custer, Idaho"
          ],
          [
           "LOST TOM Wildfire, Malheur, Oregon"
          ],
          [
           "ROCK CREEK Wildfire, Malheur, Oregon"
          ],
          [
           "Moonshine Wildfire, Humboldt, Nevada"
          ],
          [
           "Cedar Wildfire, Butte, Idaho"
          ],
          [
           "Hiland Wildfire, Natrona, Wyoming"
          ],
          [
           "Mill Wildfire, Lemhi, Idaho"
          ],
          [
           "RX Armstrong 3559 Prescribed Fire, Armstrong, Texas"
          ],
          [
           "BAER Butte Creek Emergency Stabilization, Wasco, Oregon"
          ],
          [
           "Stoner Mesa Wildfire, Dolores, Colorado"
          ],
          [
           "SMR BU 127/129 Rx 0728 Prescribed Fire, Wakulla, Florida"
          ],
          [
           "LITTLE JOHN Wildfire, Malheur, Oregon"
          ],
          [
           "LSR BU 9A/9B Rx 0727 Prescribed Fire, Dixie, Florida"
          ],
          [
           "War Creek Wildfire, Jones, South Dakota"
          ],
          [
           "VEES Wildfire, Washakie, Wyoming"
          ],
          [
           "MAMMOTH Wildfire, Modoc, California"
          ],
          [
           "Summit Wildfire, Cassia, Idaho"
          ],
          [
           "North Marsh Wildfire, Volusia, Florida"
          ],
          [
           "SMR BU 331/333 Rx 0722 Prescribed Fire, Wakulla, Florida"
          ],
          [
           "SMR BU 301/308 Rx 0721 Prescribed Fire, Wakulla, Florida"
          ],
          [
           "Ripple Wildfire, Yukon-Koyukuk, Alaska"
          ],
          [
           "CAT CANYON Wildfire, Nye, Nevada"
          ],
          [
           "LAKE SPOKANE Wildfire, Stevens, Washington"
          ],
          [
           "SMR BU 416 Rx 0719 Prescribed Fire, Wakulla, Florida"
          ],
          [
           "Butte Creek Wildfire, Wasco, Oregon"
          ],
          [
           "BURDOIN Wildfire, Klickitat, Washington"
          ],
          [
           "BRADFORD BRANCH Wildfire, Riverside, California"
          ],
          [
           "DALE Wildfire, Riverside, California"
          ],
          [
           "Buckboard Wildfire, Oneida, Idaho"
          ],
          [
           "Cabin Wildfire, Coconino, Arizona"
          ],
          [
           "TINDALL Wildfire, Owyhee, Idaho"
          ],
          [
           "Cornucopia Wildfire, Elko, Nevada"
          ],
          [
           "DAYBREAK Wildfire, Baker, Oregon"
          ],
          [
           "Fay Wildfire, Kern, California"
          ],
          [
           "BOUNDARY RD Wildfire, Yakima, Washington"
          ],
          [
           "Hagelstein Wildfire, Klamath, Oregon"
          ],
          [
           "GREENACRES Wildfire, Okanogan, Washington"
          ],
          [
           "Mutal Aid 231 Wildfire, Umatilla, Oregon"
          ],
          [
           "Camp Wildfire, Fairbanks North Star, Alaska"
          ],
          [
           "New Holland Wildfire, Jackson, South Dakota"
          ],
          [
           "Ute 63 Wildfire, La Plata, Colorado"
          ],
          [
           "0545 CRAM Wildfire, Jefferson, Oregon"
          ],
          [
           "Monroe Canyon Wildfire, Sevier, Utah"
          ],
          [
           "COYOTE Wildfire, Malheur, Oregon"
          ],
          [
           "0536 HIGHLAND Wildfire, Crook, Oregon"
          ],
          [
           "East Shelby Wildfire, Jerauld, South Dakota"
          ],
          [
           "Rolling Hills Wildfire, Converse, Wyoming"
          ],
          [
           "Johnny Buck Wildfire, Miami-Dade, Florida"
          ],
          [
           "PALM TREE Wildfire, Broward, Florida"
          ],
          [
           "Sowbelly Wildfire, Mesa, Colorado"
          ],
          [
           "Turner Gulch Wildfire, Mesa, Colorado"
          ],
          [
           "Deer Creek Wildfire, San Juan, Utah"
          ],
          [
           "Rush Wildfire, Valley, Idaho"
          ],
          [
           "South Rim Wildfire, Montrose, Colorado"
          ],
          [
           "Onion Wildfire, Northwest Arctic, Alaska"
          ],
          [
           "White Sage Wildfire, Coconino, Arizona"
          ],
          [
           "Goose Wildfire, Grant, New Mexico"
          ],
          [
           "Billy Wildfire, Gila, Arizona"
          ],
          [
           "Mica Wildfire, Tooele, Utah"
          ],
          [
           "GAP Wildfire, Millard, Utah"
          ],
          [
           "0523 WILLOW Wildfire, Crook, Oregon"
          ],
          [
           "Evans Road Mutual Aid Wildfire, Asotin, Washington"
          ],
          [
           "WESTERN PINES Wildfire, Lincoln, Washington"
          ],
          [
           "Goldrun Complex Incident Complex, Northwest Arctic, Alaska"
          ],
          [
           "Big Bear Wildfire, Idaho, Idaho"
          ],
          [
           "Reed Wildfire, Northwest Arctic, Alaska"
          ],
          [
           "RX CAT C-98 Prescribed Fire, Grant, Louisiana"
          ],
          [
           "Anguitakada Wildfire, Northwest Arctic, Alaska"
          ],
          [
           "Grizzly Complex Incident Complex, Jackson, Oregon"
          ],
          [
           "Orleans Complex Incident Complex, Siskiyou, California"
          ],
          [
           "Tutuksuk Wildfire, Northwest Arctic, Alaska"
          ],
          [
           "Iron Wildfire, Miami-Dade, Florida"
          ],
          [
           "HOPE Wildfire, Stevens, Washington"
          ],
          [
           "Hot Canyon Wildfire, Elko, Nevada"
          ],
          [
           "13 MILE FIRE Wildfire, Palm Beach, Florida"
          ],
          [
           "Elk Wildfire, Klamath, Oregon"
          ],
          [
           "GOTHIC Wildfire, Nye, Nevada"
          ],
          [
           "UDC Fire Wildfire, Jefferson, Oregon"
          ],
          [
           "0482 SUNRISE Wildfire, Crook, Oregon"
          ],
          [
           "Wheeler Wildfire, Yukon-Koyukuk, Alaska"
          ],
          [
           "Sikik Wildfire, Northwest Arctic, Alaska"
          ],
          [
           "Tsukon Wildfire, Yukon-Koyukuk, Alaska"
          ],
          [
           "Dragon Bravo Wildfire, Coconino, Arizona"
          ],
          [
           "Bartlett Wildfire, Humboldt, Nevada"
          ],
          [
           "Flicker Wildfire, Phillips, Montana"
          ],
          [
           "BARBER Wildfire, Pershing, Nevada"
          ],
          [
           "BUTLER Wildfire, Siskiyou, California"
          ],
          [
           "Uncle Sam Creek Wildfire, Fairbanks North Star, Alaska"
          ],
          [
           "MARBLE COMPLEX Incident Complex, Siskiyou, California"
          ],
          [
           "Rx Jasper 3208 Prescribed Fire, Jasper, Texas"
          ],
          [
           "Wilder Wildfire, Fergus, Montana"
          ],
          [
           "Spring Creek Wildfire, Platte, Wyoming"
          ],
          [
           "APPLE ACRES Wildfire, Chelan, Washington"
          ],
          [
           "SIEGEL Wildfire, Spokane, Washington"
          ],
          [
           "COLD SPRINGS Wildfire, Umatilla, Oregon"
          ],
          [
           "Juniper Wildfire, Yavapai, Arizona"
          ],
          [
           "Madre Wildfire, San Luis Obispo, California"
          ],
          [
           "0391 GRIZZLY FLAT Wildfire, Jefferson, Oregon"
          ],
          [
           "GREEN Wildfire, Shasta, California"
          ],
          [
           "Powder River Wildfire, Johnson, Wyoming"
          ],
          [
           "HALL Wildfire, Hot Springs, Wyoming"
          ],
          [
           "Black Canyon Wildfire, Lake, Oregon"
          ],
          [
           "Mosquito Wildfire, Monroe, Florida"
          ],
          [
           "JUNIPER Wildfire, Riverside, California"
          ],
          [
           "WOLF Wildfire, Riverside, California"
          ],
          [
           "Taylor Draw Wildfire, Carbon, Wyoming"
          ],
          [
           "Oak Ridge Wildfire, Apache, Arizona"
          ],
          [
           "Horse Draw Wildfire, Moffat, Colorado"
          ],
          [
           "EVP CP-1 Exotics Rx 0626 Prescribed Fire, Monroe, Florida"
          ],
          [
           "EVP CP-1 Exotics Rx 0625 Prescribed Fire, Monroe, Florida"
          ],
          [
           "EVER CP-1 Exotics Rx Prescribed Fire, Monroe, Florida"
          ],
          [
           "FPR CPT 35 36 Rx 0625 Prescribed Fire, Collier, Florida"
          ],
          [
           "OKR Soldiers Camp Island Rx 0625 Prescribed Fire, Ware, Georgia"
          ],
          [
           "Indian Prairie Canal (22) Wildfire, Glades, Florida"
          ],
          [
           "HENRY GEORGE WEST (29)~ Wildfire, Hillsborough, Florida"
          ],
          [
           "OKR Floyds Island Rx 0624 Prescribed Fire, Charlton, Georgia"
          ],
          [
           "Racquet Wildfire, Yukon-Koyukuk, Alaska"
          ],
          [
           "BARSTOW ROAD Wildfire, Walla Walla, Washington"
          ],
          [
           "New Cottonwood Wildfire, Northwest Arctic, Alaska"
          ],
          [
           "Shortcut Wildfire, Yukon-Koyukuk, Alaska"
          ],
          [
           "Ikpikpuk Wildfire, North Slope, Alaska"
          ],
          [
           "Bronx Wildfire, North Slope, Alaska"
          ],
          [
           "Nenana Ridge Complex Incident Complex, Fairbanks North Star, Alaska"
          ],
          [
           "Roundabout Complex Incident Complex, Yukon-Koyukuk, Alaska"
          ],
          [
           "Yellow Wildfire, Yukon-Koyukuk, Alaska"
          ],
          [
           "East Gakona River Wildfire, Copper River, Alaska"
          ],
          [
           "Sand Lake Wildfire, Southeast Fairbanks, Alaska"
          ],
          [
           "Kerulu Wildfire, Northwest Arctic, Alaska"
          ],
          [
           "Tallowpot Wildfire, Northwest Arctic, Alaska"
          ],
          [
           "McArthur Creek Wildfire, Southeast Fairbanks, Alaska"
          ],
          [
           "Ridgeline Wildfire, Southeast Fairbanks, Alaska"
          ],
          [
           "River Trail Wildfire, Southeast Fairbanks, Alaska"
          ],
          [
           "Moldy Wildfire, Yukon-Koyukuk, Alaska"
          ],
          [
           "Louie Wildfire, Yukon-Koyukuk, Alaska"
          ],
          [
           "Ptarmigan Complex Incident Complex, Yukon-Koyukuk, Alaska"
          ],
          [
           "Fish Lake Wildfire, Copper River, Alaska"
          ],
          [
           "Porphyry Wildfire, Southeast Fairbanks, Alaska"
          ],
          [
           "Goldstream Creek Wildfire, Yukon-Koyukuk, Alaska"
          ],
          [
           "Salmon Trout Wildfire, Yukon-Koyukuk, Alaska"
          ],
          [
           "Aggie Creek Wildfire, Fairbanks North Star, Alaska"
          ],
          [
           "Alligator Wildfire, Yukon-Koyukuk, Alaska"
          ],
          [
           "Buckley Bar Wildfire, Yukon-Koyukuk, Alaska"
          ],
          [
           "Pilot Creek Wildfire, Yukon-Koyukuk, Alaska"
          ],
          [
           "Susulatna Hills Wildfire, Yukon-Koyukuk, Alaska"
          ],
          [
           "Easter Wildfire, North Slope, Alaska"
          ],
          [
           "Colowyo Wildfire, Moffat, Colorado"
          ],
          [
           "Hay Wildfire, Yukon-Koyukuk, Alaska"
          ],
          [
           "Birch Wildfire, Yukon-Koyukuk, Alaska"
          ],
          [
           "Christian Wildfire, Yukon-Koyukuk, Alaska"
          ],
          [
           "Richards Wildfire, Yukon-Koyukuk, Alaska"
          ],
          [
           "Takoma Wildfire, Yukon-Koyukuk, Alaska"
          ],
          [
           "Michigan Wildfire, Yukon-Koyukuk, Alaska"
          ],
          [
           "Conner Wildfire, Douglas, Nevada"
          ],
          [
           "EVP HID Rx 0620 Prescribed Fire, Miami-Dade, Florida"
          ],
          [
           "Saint George Creek Wildfire, Denali, Alaska"
          ],
          [
           "Turtle Wildfire, Yukon-Koyukuk, Alaska"
          ],
          [
           "Bonanza Creek Wildfire, Fairbanks North Star, Alaska"
          ],
          [
           "Ikheenjik Wildfire, Yukon-Koyukuk, Alaska"
          ],
          [
           "Bear Creek Wildfire, Denali, Alaska"
          ],
          [
           "Forsyth Wildfire, Washington, Utah"
          ],
          [
           "Aniralik Wildfire, Northwest Arctic, Alaska"
          ],
          [
           "BCP Mullet B Rx 0619 Prescribed Fire, Collier, Florida"
          ],
          [
           "BAER BUCK Emergency Stabilization, Catron, New Mexico"
          ],
          [
           "SMR Port Leon West Rx 0618 Prescribed Fire, Wakulla, Florida"
          ],
          [
           "SEVEN SPRINGS Wildfire, Otero, New Mexico"
          ],
          [
           "0300 WOLF HOLLOW GILLIAM COUNTY ASSIST Wildfire, Gilliam, Oregon"
          ],
          [
           "MONTE Wildfire, San Diego, California"
          ],
          [
           "Tango Wildfire, Yukon-Koyukuk, Alaska"
          ],
          [
           "HelpMeJack Wildfire, Yukon-Koyukuk, Alaska"
          ],
          [
           "Tagagawik Wildfire, Yukon-Koyukuk, Alaska"
          ],
          [
           "BCP Mullet B Rx 0617 Prescribed Fire, Collier, Florida"
          ],
          [
           "Telidaside Wildfire, Yukon-Koyukuk, Alaska"
          ],
          [
           "Hogatza Wildfire, Yukon-Koyukuk, Alaska"
          ],
          [
           "Kawichiark 2 Wildfire, Northwest Arctic, Alaska"
          ],
          [
           "Kawichiark 1 Wildfire, Northwest Arctic, Alaska"
          ],
          [
           "0291 ALDER SPRINGS Wildfire, Jefferson, Oregon"
          ],
          [
           "APQ Area 1 Rx 0616 Prescribed Fire, Polk, Florida"
          ],
          [
           "BCP Mullet B Rx 0616 Prescribed Fire, Collier, Florida"
          ],
          [
           "pouch point Wildfire, Mountrail, North Dakota"
          ],
          [
           "pouch point Wildfire, Mountrail, North Dakota"
          ],
          [
           "Oskawalik Wildfire, Bethel, Alaska"
          ],
          [
           "pouch point Wildfire, Mountrail, North Dakota"
          ],
          [
           "BCP Mullet B Rx 0614 Prescribed Fire, Collier, Florida"
          ],
          [
           "DOGS Wildfire, Kern, California"
          ],
          [
           "Mines Spung Wildfire, Burlington, New Jersey"
          ],
          [
           "Bridge Creek Wildfire, San Juan, Utah"
          ],
          [
           "Horse Wildfire, Sublette, Wyoming"
          ],
          [
           "POMAS Wildfire, Chelan, Washington"
          ],
          [
           "VANSYCLE CANYON Wildfire, Walla Walla, Washington"
          ],
          [
           "Gyetta South RX Prescribed Fire, Yavapai, Arizona"
          ],
          [
           "BUCK Wildfire, Catron, New Mexico"
          ],
          [
           "Trout Wildfire, Grant, New Mexico"
          ],
          [
           "VANSYCLE CANYON Wildfire, Walla Walla, Washington"
          ],
          [
           "0262 FERRY Wildfire, Sherman, Oregon"
          ],
          [
           "France Canyon Wildfire, Garfield, Utah"
          ],
          [
           "Rosencrans Wildfire, Lincoln, Nevada"
          ],
          [
           "ROWENA Wildfire, Wasco, Oregon"
          ],
          [
           "Ollie Roberts Road- Hardee Wildfire, Hardee, Florida"
          ],
          [
           "Burnt Canyon Wildfire, Lincoln, Nevada"
          ],
          [
           "Dunes Wildfire, Washington, Idaho"
          ],
          [
           "Holly Springs IU 36 1 34 1 RX Prescribed Fire, Marshall, Mississippi"
          ],
          [
           "OKR Blackjack Island Rx 0603 Prescribed Fire, Ware, Georgia"
          ],
          [
           "Banana Lake Wildfire, Sanders, Montana"
          ],
          [
           "SNF E Hamilton C-55 RX Prescribed Fire, Shelby, Texas"
          ],
          [
           "RA 2 PAYETTE CO ASHLOCK Wildfire, Payette, Idaho"
          ],
          [
           "BAR Camp Bowie Rx Prescribed Fire, Brown, Texas"
          ],
          [
           "Perchman Wildfire, Putnam, Florida"
          ],
          [
           "Paradise Wildfire, Catron, New Mexico"
          ],
          [
           "NEW WALES (53) Wildfire, Polk, Florida"
          ],
          [
           "Wood Wildfire, Highlands, Florida"
          ],
          [
           "BUTTE CREEK Wildfire, Wheeler, Oregon"
          ],
          [
           "CAMP Wildfire, Lincoln, New Mexico"
          ],
          [
           "Kathul Wildfire, Southeast Fairbanks, Alaska"
          ],
          [
           "Sandy Wildfire, Monroe, Florida"
          ],
          [
           "dinwoodie Wildfire, Mountrail, North Dakota"
          ],
          [
           "dinwoodie Wildfire, McKenzie, North Dakota"
          ],
          [
           "dinwoodie Wildfire, Mountrail, North Dakota"
          ],
          [
           "Rx Trinity 2730 Prescribed Fire, Trinity, Texas"
          ],
          [
           "RX Compartment 113 East Prescribed Fire, Jasper, Georgia"
          ],
          [
           "INN Wildfire, Mono, California"
          ],
          [
           "CODY Wildfire, Pinal, Arizona"
          ],
          [
           "Broadway Wildfire, La Paz, Arizona"
          ],
          [
           "SNF Hawthorne C 51-52 RX Prescribed Fire, San Augustine, Texas"
          ],
          [
           "FD2505120020 Wildfire, Grant, North Dakota"
          ],
          [
           "Homochitto BB 67 68 RX Prescribed Fire, Wilkinson, Mississippi"
          ],
          [
           "RX Kent 2681 Prescribed Fire, Kent, Texas"
          ],
          [
           "DeSoto BB 7255 North GFP RX Prescribed Fire, Harrison, Mississippi"
          ],
          [
           "Rx San Augustine 2664 Prescribed Fire, San Augustine, Texas"
          ],
          [
           "Democrat Wildfire, Kern, California"
          ],
          [
           "APQ Delta Prairie Rx 0517 Prescribed Fire, Highlands, Florida"
          ],
          [
           "Bluff Creek Wildfire, Jackson, Mississippi"
          ],
          [
           "Homochitto BB45sub1 and Pockets of Sub2 RX Prescribed Fire, Franklin, Mississippi"
          ],
          [
           "RX Mason Valley Fishponds Prescribed Fire, Lyon, Nevada"
          ],
          [
           "APQ Rec Area 4 Rx 0515 Prescribed Fire, Highlands, Florida"
          ],
          [
           "APQ Rec Area 4 Rx 0514 Prescribed Fire, Highlands, Florida"
          ],
          [
           "ACRES Wildfire, Madera, California"
          ],
          [
           "Greer Wildfire, Apache, Arizona"
          ],
          [
           "rx-63 Wildfire, Burnett, Wisconsin"
          ],
          [
           "RX DRAKE RANCH SW Wildfire, Murray, Oklahoma"
          ],
          [
           "RX DRAKE RANCH Wildfire, Pottawatomie, Oklahoma"
          ],
          [
           "RX PENNER RANCH Wildfire, Murray, Oklahoma"
          ],
          [
           "OP-1 Wildfire, Polk, Florida"
          ],
          [
           "Darrynane Lake RX Wildfire, Stafford, Kansas"
          ],
          [
           "Rx Polk 2488 Wildfire, Polk, Texas"
          ],
          [
           "Holly Springs IU 98 sub 1 RX Wildfire, Lafayette, Mississippi"
          ],
          [
           "Walden RX Wildfire, Pope, Minnesota"
          ],
          [
           "Pouch Point Wildfire, Mountrail, North Dakota"
          ],
          [
           "RX CALE C-25 Wildfire, Rapides, Louisiana"
          ],
          [
           "RX KIS C-64 Wildfire, Natchitoches, Louisiana"
          ],
          [
           "Iron Wildfire, Catron, New Mexico"
          ],
          [
           "Whelan Lake Block 1&amp; 2 RX Wildfire, Mason, Michigan"
          ],
          [
           "Sunset RD Wildfire, Brunswick, North Carolina"
          ],
          [
           "Rx Polk 2469 Wildfire, Polk, Texas"
          ],
          [
           "Salt Creek Rx Wildfire, Box Elder, Utah"
          ],
          [
           "Sawlog Wildfire, Beaverhead, Montana"
          ],
          [
           "American Creek RX Wildfire, Lyman, South Dakota"
          ],
          [
           "Homochitto BB 45 Sub 1 2 RX Wildfire, Franklin, Mississippi"
          ],
          [
           "Chickasawhay CPT 356 RX Wildfire, Jones, Mississippi"
          ],
          [
           "DeSoto BB 7203 East RX Wildfire, Perry, Mississippi"
          ],
          [
           "Homochitto BB 36 S Sub 5 RX Wildfire, Wilkinson, Mississippi"
          ],
          [
           "RX CAT C-32-33-34 Wildfire, Grant, Louisiana"
          ],
          [
           "RX KIS C-24-25 Wildfire, Natchitoches, Louisiana"
          ],
          [
           "RX CALE C-49 Wildfire, Rapides, Louisiana"
          ],
          [
           "ANF Guidrey C 65 RX Wildfire, Angelina, Texas"
          ],
          [
           "Horse Heaven Rx Wildfire, Wythe, Virginia"
          ],
          [
           "rx-Lapham Good Oak 2025 Wildfire, Waukesha, Wisconsin"
          ],
          [
           "Rainbow Gulch RX Wildfire, El Paso, Colorado"
          ],
          [
           "Stronghold Wildfire, Cochise, Arizona"
          ],
          [
           "DeSoto BB 7209 Northwest RX Wildfire, Perry, Mississippi"
          ],
          [
           "RX CALE C-362 Wildfire, Rapides, Louisiana"
          ],
          [
           "RX KIS C-43-44 Wildfire, Natchitoches, Louisiana"
          ],
          [
           "Wildfire in Australia 1023712"
          ],
          [
           "BLACK SWAMP Wildfire, Jones, North Carolina"
          ],
          [
           "Dutch Mill RX Wildfire, Delta, Michigan"
          ],
          [
           "Farrell RX Wildfire, Codington, South Dakota"
          ],
          [
           "RX BOSH JACKPOT Wildfire, Owyhee, Idaho"
          ],
          [
           "27 FIRE Wildfire, Broward, Florida"
          ],
          [
           "Bee Island Fire (58) Wildfire, Sarasota, Florida"
          ],
          [
           "Thompson Hollow Rd. Wildfire, Adams, Pennsylvania"
          ],
          [
           "Fore Mountain Rx Wildfire, Alleghany, Virginia"
          ],
          [
           "Jones Road Wildfire, Ocean, New Jersey"
          ],
          [
           "Curry Island (22) Wildfire, Glades, Florida"
          ],
          [
           "Wildfire in Russian Federation 1023700"
          ],
          [
           "Wildfire in Russian Federation 1023704"
          ],
          [
           "Wildfire in Russian Federation 1023706"
          ],
          [
           "Wildfire in Russian Federation 1023707"
          ],
          [
           "Wildfire in Russian Federation 1023710"
          ],
          [
           "Pines RX Wildfire, Sevier, Utah"
          ],
          [
           "NW Prairie South RX Wildfire, Lac qui Parle, Minnesota"
          ],
          [
           "Plum Creek Wildfire, Brown, Nebraska"
          ],
          [
           "Wildfire in Mexico 1023698"
          ],
          [
           "LXR Eastside Rx 0419 Wildfire, Palm Beach, Florida"
          ],
          [
           "Wildfire in Russian Federation 1023708"
          ],
          [
           "Wildfire in Russian Federation 1023695"
          ],
          [
           "Wildfire in Russian Federation 1023701"
          ],
          [
           "Wildfire in Australia 1023713"
          ],
          [
           "Hwy 210 Wildfire, Pender, North Carolina"
          ],
          [
           "Danny&#039;s Wildfire, Cumberland, New Jersey"
          ],
          [
           "Wildfire in Cuba 1023709"
          ],
          [
           "Wildfire in Russian Federation 1023705"
          ],
          [
           "LIRI FY25 Slant Rock RX Wildfire, Winston, Alabama"
          ],
          [
           "rx-51 North Wildfire, Burnett, Wisconsin"
          ],
          [
           "Wildfire in Laos 1023696"
          ],
          [
           "Wildfire in Russian Federation 1023699"
          ],
          [
           "Wildfire in Russian Federation 1023702"
          ],
          [
           "Wildfire in Russian Federation 1023711"
          ],
          [
           "DCNF C. 41/42 RX Wildfire, Houston, Texas"
          ],
          [
           "Tombigbee CPT 79 77 RX Wildfire, Winston, Mississippi"
          ],
          [
           "RX C1 &amp; C2 Wildfire, Montgomery, Arkansas"
          ],
          [
           "Partridge Two Wildfire, Morrison, Minnesota"
          ],
          [
           "Bienville CPT 61 63 RX Wildfire, Scott, Mississippi"
          ],
          [
           "RX Stevens Wildfire, Polk, Arkansas"
          ],
          [
           "LXR Eastside Rx 0417 Wildfire, Palm Beach, Florida"
          ],
          [
           "Fed Park RX Wildfire, Mason, Michigan"
          ],
          [
           "Buck Creek Fire Wildfire, Pushmataha, Oklahoma"
          ],
          [
           "Mio Prairie RX Wildfire, Oscoda, Michigan"
          ],
          [
           "Holly Springs IU 140 1  141 1 RX Wildfire, Yalobusha, Mississippi"
          ],
          [
           "RX Alamo 17 Wildfire, Garland, Arkansas"
          ],
          [
           "RX Crystal Peninsula &amp; Hickory Nut Wildfire, Garland, Arkansas"
          ],
          [
           "RX Bo/Mag Byway Wildfire, Logan, Arkansas"
          ],
          [
           "RX CAN C23-28 Wildfire, Webster, Louisiana"
          ],
          [
           "RX CAN C-29 Wildfire, Webster, Louisiana"
          ],
          [
           "RX Greenhaw Wildfire, Newton, Arkansas"
          ],
          [
           "RX Buffalo Road Wildfire, Scott, Arkansas"
          ],
          [
           "Site 3 RX A&amp;C Wildfire, Talladega, Alabama"
          ],
          [
           "Jail House RX Wildfire, Winston, Alabama"
          ],
          [
           "Chase Fuels RX Wildfire, Lake, Michigan"
          ],
          [
           "Rx Walker 2224 Wildfire, Walker, Texas"
          ],
          [
           "RX Wildcat Hollow East Wildfire, Yell, Arkansas"
          ],
          [
           "Wildfire in Australia 1023684"
          ],
          [
           "Wildfire in Australia 1023685"
          ],
          [
           "Picker Flats Fire Wildfire, Adair, Oklahoma"
          ],
          [
           "Bee Rock Creek Wildfire, McDowell, North Carolina"
          ],
          [
           "RX Ross Creek East 3 Wildfire, Scott, Arkansas"
          ],
          [
           "RX CAT C-39 Wildfire, Grant, Louisiana"
          ],
          [
           "SHNF C. 6/7 RX Wildfire, Montgomery, Texas"
          ],
          [
           "Unit 23 24 26 RX Wildfire, Sherburne, Minnesota"
          ],
          [
           "IBSP North RX Wildfire, Lake, Illinois"
          ],
          [
           "RX WINN C-23 Wildfire, Winn, Louisiana"
          ],
          [
           "ANF Townsend C. 15 RX Wildfire, San Augustine, Texas"
          ],
          [
           "RX CALE C-361 Wildfire, Rapides, Louisiana"
          ],
          [
           "Hilliardville Wildfire, Wakulla, Florida"
          ],
          [
           "Blue Jay Wildfire, Montgomery, Texas"
          ],
          [
           "Wildfire in Russian Federation 1023690"
          ],
          [
           "Wildfire in Russian Federation 1023697"
          ],
          [
           "Wildfire in Russian Federation 1023703"
          ],
          [
           "Mill Creek RX Wildfire, Jackson, Illinois"
          ],
          [
           "FY25 TAPR WP1 RP1 RP2 CH1 CH2 RX BIL Wildfire, Chase, Kansas"
          ],
          [
           "West Funk Lagoon WPA Unit RX Wildfire, Phelps, Nebraska"
          ],
          [
           "LAST CHANCE Wildfire, Delaware, Oklahoma"
          ],
          [
           "MTMLR-BIL-FY25-RX-Unit 10 Wildfire, Cascade, Montana"
          ],
          [
           "Holly Springs IU 131 2  134 1 RX Wildfire, Yalobusha, Mississippi"
          ],
          [
           "Double S Middle RX Wildfire, Thomas, Nebraska"
          ],
          [
           "RX WINN C-12-19 Wildfire, Natchitoches, Louisiana"
          ],
          [
           "Chickasawhay CPT 375 376 RX Wildfire, Wayne, Mississippi"
          ],
          [
           "SHNF C 70/72 RX Wildfire, Walker, Texas"
          ],
          [
           "rx-Kincaid Spring Wildfire, Waukesha, Wisconsin"
          ],
          [
           "RX Stob Gap 12 Alexander Mtn 5 Wildfire, Franklin, Arkansas"
          ],
          [
           "RX N Bee Rough Wildfire, McCurtain, Oklahoma"
          ],
          [
           "RX Beech Creek C4 C5 C6 Wildfire, Montgomery, Arkansas"
          ],
          [
           "RX Wildcat cr/ Barnhart West Wildfire, Yell, Arkansas"
          ],
          [
           "South 19th RX Wildfire, Coffey, Kansas"
          ],
          [
           "Ceder River Fire Wildfire, Adams, North Dakota"
          ],
          [
           "rx-78 Wildfire, Burnett, Wisconsin"
          ],
          [
           "Wiregrass RX Wildfire, Clay, Alabama"
          ],
          [
           "HAOE LEAD Wildfire, Graham, North Carolina"
          ],
          [
           "Juniper Swamp Wildfire, Liberty, Florida"
          ],
          [
           "Wildfire in Russian Federation 1023674"
          ],
          [
           "Wildfire in Russian Federation 1023680"
          ],
          [
           "Wildfire in Australia 1023687"
          ],
          [
           "Wildfire in Russian Federation 1023688"
          ],
          [
           "Wildfire in Russian Federation 1023691"
          ],
          [
           "Paur Fire Wildfire, Grand Forks, North Dakota"
          ],
          [
           "Maumee RX Wildfire, Jackson, Indiana"
          ],
          [
           "Homochitto BB18 South Sub 3 Rx Wildfire, Franklin, Mississippi"
          ],
          [
           "Holly Springs IU 113 1 RX Wildfire, Lafayette, Mississippi"
          ],
          [
           "SHNF COMP 25 26 RX Wildfire, Walker, Texas"
          ],
          [
           "Chickasawhay CPT 352 RX Wildfire, Jones, Mississippi"
          ],
          [
           "Wildfire in Chad 1023669"
          ],
          [
           "Wildfire in Russian Federation 1023675"
          ],
          [
           "Wildfire in Sudan 1023682"
          ],
          [
           "Rx San Jacinto 2077 Wildfire, San Jacinto, Texas"
          ],
          [
           "Buffalo Wildfire, Dewey, South Dakota"
          ],
          [
           "SPA RX - ELK DROP Wildfire, Stevens, Washington"
          ],
          [
           "RX Ross Creek East Wildfire, Scott, Arkansas"
          ],
          [
           "San Pitch RX Wildfire, Sanpete, Utah"
          ],
          [
           "Homochitto BB 18 South Sub 2 3  RX Wildfire, Franklin, Mississippi"
          ],
          [
           "Compartment 30 RX Wildfire, Bibb, Alabama"
          ],
          [
           "RX Eastern 1 S &amp; Camp Clearfork Wildfire, Garland, Arkansas"
          ],
          [
           "RX Walnut 12 Wildfire, Montgomery, Arkansas"
          ],
          [
           "DCNF C. 39 RX Wildfire, Houston, Texas"
          ],
          [
           "RX CALV C-253-254-259 Wildfire, Vernon, Louisiana"
          ],
          [
           "rx-Pierce-Jacobson Flowage Wildfire, Walworth, Wisconsin"
          ],
          [
           "RX Rock Creek Wildfire, Van Buren, Arkansas"
          ],
          [
           "RX Whiskey Springs North Wildfire, Crawford, Arkansas"
          ],
          [
           "RX Bee Knob Wildfire, Yell, Arkansas"
          ],
          [
           "Fishing Bay Wildfire, Dorchester, Maryland"
          ],
          [
           "Guinea Island Wildfire, Dorchester, Maryland"
          ],
          [
           "Continental Flare Fire Wildfire, McKenzie, North Dakota"
          ],
          [
           "Wildfire in Australia 1023670"
          ],
          [
           "Wildfire in Russian Federation 1023676"
          ],
          [
           "Wildfire in Russian Federation 1023681"
          ],
          [
           "Wildfire in Russian Federation 1023683"
          ],
          [
           "Wildfire in Russian Federation 1023692"
          ],
          [
           "Wildfire in Russian Federation 1023693"
          ],
          [
           "rx-80 Wildfire, Burnett, Wisconsin"
          ],
          [
           "RX Little Creek Wildfire, Franklin, Arkansas"
          ],
          [
           "Tombigbee IU 40s RX Wildfire, Choctaw, Mississippi"
          ],
          [
           "RX CAT C-13-14 Wildfire, Grant, Louisiana"
          ],
          [
           "Compartment 21 RX Wildfire, Hale, Alabama"
          ],
          [
           "RX Smokey Hollow 1 &amp; Smokey Hollow 1 West Wildfire, Montgomery, Arkansas"
          ],
          [
           "SNF Curry Creek E. C. 120 RX Wildfire, Sabine, Texas"
          ],
          [
           "RX Alamo 20 Wildfire, Montgomery, Arkansas"
          ],
          [
           "Homochitto BB 31 Sub 2 RX Wildfire, Amite, Mississippi"
          ],
          [
           "Chickasawhay CPT 374 376 RX Wildfire, Wayne, Mississippi"
          ],
          [
           "RX Wildcat West /  Norris Wildfire, Yell, Arkansas"
          ],
          [
           "RX CALV C-256 E Wildfire, Vernon, Louisiana"
          ],
          [
           "RX Pilot/Round Mountain Wildfire, Scott, Arkansas"
          ],
          [
           "RX Speck Hollow Wildfire, Polk, Arkansas"
          ],
          [
           "APQ Rec Area 7 RX 0410 Wildfire, Polk, Florida"
          ],
          [
           "Dugdale Wildfire, Polk, Minnesota"
          ],
          [
           "Wildfire in Russian Federation 1023672"
          ],
          [
           "Wildfire in Russian Federation 1023677"
          ],
          [
           "Wildfire in Russian Federation 1023678"
          ],
          [
           "Wildfire in Russian Federation 1023689"
          ],
          [
           "Wildfire in Mexico 1023694"
          ],
          [
           "East Kennedy Creek Wildfire, Coffey, Kansas"
          ],
          [
           "Salina Canyon East Rx Wildfire, Sevier, Utah"
          ],
          [
           "RX Buffalo East Wildfire, Scott, Arkansas"
          ],
          [
           "HollySprings IU 51 Sub 1 RX Wildfire, Benton, Mississippi"
          ],
          [
           "RX Liberty 1/2 Wildfire, Logan, Arkansas"
          ],
          [
           "SHNF C. 09 RX Wildfire, Liberty, Texas"
          ],
          [
           "Homochitto BB 29 Sub 2 3 RX Wildfire, Amite, Mississippi"
          ],
          [
           "Unit 25B RX Wildfire, Sherburne, Minnesota"
          ],
          [
           "RX LSF 12 LSF 13 South Mount Ida 17 19 Wildfire, Montgomery, Arkansas"
          ],
          [
           "RX HWY 27 Divide &amp; Little Fir Wildfire, Montgomery, Arkansas"
          ],
          [
           "Bienville CPT 19 21 RX Wildfire, Scott, Mississippi"
          ],
          [
           "Hone Quarry Rx Wildfire, Rockingham, Virginia"
          ],
          [
           "DTAW Oklahoma Rx Wildfire, Southeast Fairbanks, Alaska"
          ],
          [
           "Wildfire in Australia 1023668"
          ],
          [
           "Wildfire in Russian Federation 1023679"
          ],
          [
           "DTAE Jarvis Rx Wildfire, Southeast Fairbanks, Alaska"
          ],
          [
           "DTAE Bolio Rx Wildfire, Southeast Fairbanks, Alaska"
          ],
          [
           "Oil Well Rd Fire Wildfire, Conecuh, Alabama"
          ],
          [
           "Chester Dry Hole Rx Wildfire, Lyman, South Dakota"
          ],
          [
           "Wildfire in Australia 1023665"
          ],
          [
           "Wildfire in Australia 1023666"
          ],
          [
           "Wildfire in Russian Federation 1023671"
          ],
          [
           "US 160 Wildfire, Las Animas, Colorado"
          ],
          [
           "Brushy Mountain Unit 1 RX Wildfire, Greenbrier, West Virginia"
          ],
          [
           "JPEC SFWA RX Wildfire, Cass, Illinois"
          ],
          [
           "Wildfire in Australia 1023662"
          ],
          [
           "Wildfire in Australia 1023667"
          ],
          [
           "Wildfire in Mexico 1023686"
          ],
          [
           "RX Piedmont 4C/12A/13E/13W Wildfire, Jasper, Georgia"
          ],
          [
           "Wildfire in Kazakhstan 1023661"
          ],
          [
           "25 BP6 BP7 BIL RX Wildfire, Chase, Kansas"
          ],
          [
           "KSQUR 12B/RenoCounty RX Wildfire, Stafford, Kansas"
          ],
          [
           "Wildfire in Russian Federation 1023663"
          ],
          [
           "Wildfire in Russian Federation 1023664"
          ],
          [
           "Wildfire in Mexico 1023673"
          ],
          [
           "Rx Lamar 1944 Wildfire, Lamar, Texas"
          ],
          [
           "Bienville CPT 29 RX Wildfire, Scott, Mississippi"
          ],
          [
           "APQ Rec Area 4 Rx 0402 Wildfire, Polk, Florida"
          ],
          [
           "South Tripp Wildfire, Tripp, South Dakota"
          ],
          [
           "4108 Wildfire, McKenzie, North Dakota"
          ],
          [
           "RX BO/MAG Prairie South 1 &amp; 5 Wildfire, Yell, Arkansas"
          ],
          [
           "RX LSF11 Mazarn Mountain Wildfire, Montgomery, Arkansas"
          ],
          [
           "RX LFS 2 Fulton Branch Wildfire, Montgomery, Arkansas"
          ],
          [
           "East Marsh Wildfire, Volusia, Florida"
          ],
          [
           "32nd St Wildfire, McKenzie, North Dakota"
          ],
          [
           "Rx Shelby 1813 Wildfire, Shelby, Texas"
          ],
          [
           "Workman Fork of Harts Creek Wildfire, Lincoln, West Virginia"
          ],
          [
           "RX BLUE RIVER RTRL GADDIS Wildfire, Pontotoc, Oklahoma"
          ],
          [
           "rx-Lapham Good Oak 2025 Wildfire, Waukesha, Wisconsin"
          ],
          [
           "Bull Wildfire, Graham, Arizona"
          ],
          [
           "RX OKSLR-HFR-FY25 Unit A Wildfire, Alfalfa, Oklahoma"
          ],
          [
           "Wildfire in Mexico 1023659"
          ],
          [
           "WHITE HORN Wildfire, Osage, Oklahoma"
          ],
          [
           "North Carolina Table Rock Fire Wildfire, Transylvania, North Carolina"
          ],
          [
           "Wildfire in Myanmar 1023656"
          ],
          [
           "Wildfire in Thailand 1023658"
          ],
          [
           "N Maxwell RD Wildfire, Cherry, Nebraska"
          ],
          [
           "rx-H&amp;L West Wildfire, Rock, Wisconsin"
          ],
          [
           "NEVAR-FY25-WF-Dads Lake Wildfire, Cherry, Nebraska"
          ],
          [
           "Oakland Wildfire, Berkeley, South Carolina"
          ],
          [
           "MIDWAY Wildfire, Orange, Florida"
          ],
          [
           "rx-Unit 2 Wildfire, Kenosha, Wisconsin"
          ],
          [
           "Historia Wildfire, Grant, Kansas"
          ],
          [
           "RX Mason 1840 Wildfire, Mason, Texas"
          ],
          [
           "Happy Hill Road Fire Wildfire, Pittsburg, Oklahoma"
          ],
          [
           "12-LEMA-SPA Wildfire, Cleveland, Oklahoma"
          ],
          [
           "Rattlesnake Branch Wildfire, Haywood, North Carolina"
          ],
          [
           "rx-Pierce-Jacobson Flowage Wildfire, Walworth, Wisconsin"
          ],
          [
           "SOUTH TIGER Wildfire, McIntosh, Oklahoma"
          ],
          [
           "Wildfire in Venezuela 1023642"
          ],
          [
           "Wildfire in Venezuela 1023651"
          ],
          [
           "OKR Rowells Island Rx 0326 Wildfire, Clinch, Georgia"
          ],
          [
           "SQUIRREL Wildfire, Hughes, Oklahoma"
          ],
          [
           "RX Kleberg 1838 Wildfire, Kleberg, Texas"
          ],
          [
           "ALARKA #5 Wildfire, Swain, North Carolina"
          ],
          [
           "Crusoe Island Rd Wildfire, Columbus, North Carolina"
          ],
          [
           "Fisherman&#039;s Corner Fire Wildfire, Haskell, Oklahoma"
          ],
          [
           "FD2503100008 Wildfire, Morton, North Dakota"
          ],
          [
           "RED HILL Wildfire, McIntosh, Oklahoma"
          ],
          [
           "Wildfire in Colombia 1023654"
          ],
          [
           "Wildfire in Thailand 1023660"
          ],
          [
           "Cottonwood Wildfire, Roosevelt, Montana"
          ],
          [
           "Long Ridge Unit 45 RX Wildfire, Athens, Ohio"
          ],
          [
           "RX SEQUOYAH HUNTING PRESERVE 3 Wildfire, Sequoyah, Oklahoma"
          ],
          [
           "WALNUT Wildfire, Okfuskee, Oklahoma"
          ],
          [
           "Northeast Prairie 2 RX Wildfire, Will, Illinois"
          ],
          [
           "Salt Creek Fire Wildfire, Sequoyah, Oklahoma"
          ],
          [
           "Bridges Hollow RX Wildfire, Texas, Missouri"
          ],
          [
           "Blue Water Tower Fire Wildfire, Haskell, Oklahoma"
          ],
          [
           "Wildfire in Central African Republic 1023638"
          ],
          [
           "Wildfire in Laos 1023644"
          ],
          [
           "Wildfire in Venezuela 1023643"
          ],
          [
           "Wildfire in India 1023657"
          ],
          [
           "Table Rock Complex Wildfire, Greenville, South Carolina"
          ],
          [
           "Cabin Gulch Rx Wildfire, Lewis and Clark, Montana"
          ],
          [
           "Rx Anderson 1332 Wildfire, Anderson, Texas"
          ],
          [
           "RX KULLIHOMA Wildfire, Pontotoc, Oklahoma"
          ],
          [
           "Pelham Ridge RX Wildfire, Taney, Missouri"
          ],
          [
           "RX BLUE RIVER RTRL Wildfire, Johnston, Oklahoma"
          ],
          [
           "California Branch Wildfire, Camden, New Jersey"
          ],
          [
           "Reno Wildfire, Johnson, Wyoming"
          ],
          [
           "Wildfire in Myanmar 1023635"
          ],
          [
           "Wildfire in Laos 1023646"
          ],
          [
           "RX OKSTR-FY25-HFR-MURRAY 23 Wildfire, Johnston, Oklahoma"
          ],
          [
           "Rocktown Fire Wildfire, Pushmataha, Oklahoma"
          ],
          [
           "Wildfire in Laos 1023647"
          ],
          [
           "Wildfire in Laos 1023648"
          ],
          [
           "Wildfire in Nigeria 1023641"
          ],
          [
           "Wildfire in Mexico 1023655"
          ],
          [
           "Flat Rock Wildfire, Benton, Mississippi"
          ],
          [
           "Rock Springs Wildfire, Whitley, Kentucky"
          ],
          [
           "BOAR CREEK Wildfire, Osage, Oklahoma"
          ],
          [
           "TABLE ROCK Wildfire, Pickens, South Carolina"
          ],
          [
           "Hampton RX Wildfire, Williamson, Illinois"
          ],
          [
           "THREE CHIEFS Wildfire, Delaware, Oklahoma"
          ],
          [
           "Rx Trinity 1414 Wildfire, Trinity, Texas"
          ],
          [
           "Rx Trinity 1498 Wildfire, Trinity, Texas"
          ],
          [
           "Wildfire in Chile 1023627"
          ],
          [
           "Wildfire in Chile 1023624"
          ],
          [
           "Wildfire in Republic of Korea 1023633"
          ],
          [
           "Wildfire in Republic of Korea 1023634"
          ],
          [
           "Wildfire in Republic of Korea 1023626"
          ],
          [
           "Wildfire in India, Bangladesh 1023636"
          ],
          [
           "Wildfire in Central African Republic 1023637"
          ],
          [
           "Wildfire in Myanmar 1023645"
          ],
          [
           "Wildfire in Myanmar, Thailand 1023650"
          ],
          [
           "Wildfire in Myanmar 1023653"
          ],
          [
           "Pearl River 162 Miracle Mile Rd Wildfire, Pearl River, Mississippi"
          ],
          [
           "SMR CPT 300 301 302 308 Rx 0321 Wildfire, Wakulla, Florida"
          ],
          [
           "PALE ROCK Wildfire, Osage, Oklahoma"
          ],
          [
           "Wildfire in Chile 1023628"
          ],
          [
           "Wildfire in Republic of Korea 1023629"
          ],
          [
           "Wildfire in Laos 1023649"
          ],
          [
           "Wildfire in Laos 1023652"
          ],
          [
           "Rx Hopkins 1325 Wildfire, Hopkins, Texas"
          ],
          [
           "Big Glow Fire Wildfire, Greene, Tennessee"
          ],
          [
           "DEEP WOODS Wildfire, Polk, North Carolina"
          ],
          [
           "Calf Creek Wildfire, Searcy, Arkansas"
          ],
          [
           "Rx Houston 1347 Wildfire, Houston, Texas"
          ],
          [
           "Wildfire in United States 1023618"
          ],
          [
           "Black Cove Wildfire, Polk, North Carolina"
          ],
          [
           "MTBLR-HFR-FY25-RX-Unit 5 Wildfire, Cascade, Montana"
          ],
          [
           "Pauline Road Wildfire, San Jacinto, Texas"
          ],
          [
           "3001 Wildfire, Marion, Texas"
          ],
          [
           "Neal Creek Wildfire, Pulaski, Arkansas"
          ],
          [
           "RX Piedmont 15B/15C/15D Wildfire, Jones, Georgia"
          ],
          [
           "TIGER MOUNTAIN Wildfire, McIntosh, Oklahoma"
          ],
          [
           "Greene - Turner Rd Wildfire, Greene, Mississippi"
          ],
          [
           "ANF BU 322 Rx 0319 Wildfire, Wakulla, Florida"
          ],
          [
           "Hog Mountain Fire Wildfire, Latimer, Oklahoma"
          ],
          [
           "158th St Wildfire, Burleigh, North Dakota"
          ],
          [
           "Waits Lane Fire Wildfire, Pittsburg, Oklahoma"
          ],
          [
           "Boggs Hollow Fire Wildfire, Latimer, Oklahoma"
          ],
          [
           "CEDAR HILL Wildfire, Osage, Oklahoma"
          ],
          [
           "SUNSET Wildfire, Osage, Oklahoma"
          ],
          [
           "31 North Wildfire, Otero, Colorado"
          ],
          [
           "31 South Wildfire, Otero, Colorado"
          ],
          [
           "Johnson Wildfire, Miami-Dade, Florida"
          ],
          [
           "High Lonesome Wildfire, Dallam, Texas"
          ],
          [
           "TIGER MT. Wildfire, McIntosh, Oklahoma"
          ],
          [
           "CANADIAN Wildfire, McIntosh, Oklahoma"
          ],
          [
           "Rx Walker 1286 Wildfire, Walker, Texas"
          ],
          [
           "Flying J Fire Wildfire, Latimer, Oklahoma"
          ],
          [
           "Plan B Fire Wildfire, Latimer, Oklahoma"
          ],
          [
           "Doublehead South Fire Wildfire, Adair, Oklahoma"
          ],
          [
           "Rugged Mtn Fire Wildfire, Pittsburg, Oklahoma"
          ],
          [
           "Iron Ladies Wildfire, Weld, Colorado"
          ],
          [
           "Wildfire in United States 1023612"
          ],
          [
           "Wildfire in Myanmar, Thailand 1023630"
          ],
          [
           "Wildfire in Mexico 1023632"
          ],
          [
           "Wildfire in Myanmar 1023639"
          ],
          [
           "RANCH CREEK ROAD Wildfire, Pawnee, Oklahoma"
          ],
          [
           "Big Island Wildfire, Green Lake, Wisconsin"
          ],
          [
           "South Big Creek Wildfire, Woodson, Kansas"
          ],
          [
           "Y5 Wildfire, Lyon, Kansas"
          ],
          [
           "Blackburn Wildfire, Crawford, Arkansas"
          ],
          [
           "Wildfire in Venezuela 1023607"
          ],
          [
           "Wildfire in India 1023609"
          ],
          [
           "Wildfire in Sudan 1023631"
          ],
          [
           "Wildfire in Myanmar 1023640"
          ],
          [
           "OAK STREET Wildfire, Pawnee, Oklahoma"
          ],
          [
           "HELLROARING CREEK Wildfire, Pawnee, Oklahoma"
          ],
          [
           "STATION #2 Wildfire, Cleveland, Oklahoma"
          ],
          [
           "LITTLE SALT CREEK Wildfire, Creek, Oklahoma"
          ],
          [
           "212 Road Fire Wildfire, Cowley, Kansas"
          ],
          [
           "Persimmon Wildfire, Jefferson, Texas"
          ],
          [
           "EAST STICH Wildfire, Osage, Oklahoma"
          ],
          [
           "Rx Henderson 1148 Wildfire, Henderson, Texas"
          ],
          [
           "33 ROAD Wildfire, Logan, Oklahoma"
          ],
          [
           "Wildfire in India 1023613"
          ],
          [
           "Green River Wildfire, Lee, Illinois"
          ],
          [
           "Farm Wildfire, Perry, Mississippi"
          ],
          [
           "Crabapple Wildfire, Gillespie, Texas"
          ],
          [
           "1 Alpha 25 Wildfire, Jackson, Kansas"
          ],
          [
           "Lake Wabaunsee Wildfire, Wabaunsee, Kansas"
          ],
          [
           "BIG EAGLE Wildfire, Osage, Oklahoma"
          ],
          [
           "Long Mountain Fire Wildfire, Haskell, Oklahoma"
          ],
          [
           "RX 30 Wildfire, Jones, Georgia"
          ],
          [
           "1980 Rd Fire Wildfire, Beckham, Oklahoma"
          ],
          [
           "Wildfire in Myanmar 1023614"
          ],
          [
           "Wildfire in India 1023610"
          ],
          [
           "Chainsaw Cottonwood Wildfire, Lincoln, Nebraska"
          ],
          [
           "rx-Scuppernong South Wildfire, Waukesha, Wisconsin"
          ],
          [
           "Mogote Hill Wildfire, Mora, New Mexico"
          ],
          [
           "HICKORY HILL ROAD Wildfire, Oklahoma, Oklahoma"
          ],
          [
           "Rest Area Wildfire, Gray, Texas"
          ],
          [
           "TANGO Wildfire, Osage, Oklahoma"
          ],
          [
           "EUCHEE VALLEY Wildfire, Payne, Oklahoma"
          ],
          [
           "840 ROAD Wildfire, Roger Mills, Oklahoma"
          ],
          [
           "Windmill Wildfire, Roberts, Texas"
          ],
          [
           "South Tripp Wildfire, Tripp, South Dakota"
          ],
          [
           "HWY 12 mm 176 Wildfire, Corson, South Dakota"
          ],
          [
           "rx-66 Wildfire, Burnett, Wisconsin"
          ],
          [
           "Wildfire in United States 1023596"
          ],
          [
           "Wildfire in Myanmar 1023611"
          ],
          [
           "Wildfire in China 1023615"
          ],
          [
           "Wildfire in Argentina 1023617"
          ],
          [
           "Clear Creek RX Wildfire, Washington, Missouri"
          ],
          [
           "South Meridian Wildfire, El Paso, Colorado"
          ],
          [
           "Rx Leon 1016 Wildfire, Leon, Texas"
          ],
          [
           "APQ Rec Area 14 Rx 0313 Wildfire, Highlands, Florida"
          ],
          [
           "Bienville CPT 46 RX Wildfire, Scott, Mississippi"
          ],
          [
           "RX N Bee Rough Wildfire, McCurtain, Oklahoma"
          ],
          [
           "BEAR Wildfire, Osage, Oklahoma"
          ],
          [
           "NC-6 Wildfire, Polk, Florida"
          ],
          [
           "Fortune Hollow RX Wildfire, Dent, Missouri"
          ],
          [
           "Rx Trinity 1015 Wildfire, Trinity, Texas"
          ],
          [
           "Blue Stem Wildfire, Franklin, Mississippi"
          ],
          [
           "SMR CPT 303 304 Rx 0313 Wildfire, Wakulla, Florida"
          ],
          [
           "The 344 Wildfire, Miami-Dade, Florida"
          ],
          [
           "RX LONE PINE Wildfire, Pittsburg, Oklahoma"
          ],
          [
           "Hamby Ridge Fire Wildfire, Delaware, Oklahoma"
          ],
          [
           "Wildfire in Myanmar 1023597"
          ],
          [
           "Wildfire in Nigeria 1023604"
          ],
          [
           "Wildfire in India 1023608"
          ],
          [
           "Wildfire in Myanmar 1023619"
          ],
          [
           "Wildfire in Thailand 1023621"
          ],
          [
           "Wildfire in Myanmar 1023622"
          ],
          [
           "Cottonwood Creek Wildfire, San Saba, Texas"
          ],
          [
           "RX Wildcat- Straight Rock/ Brogan Wildfire, Yell, Arkansas"
          ],
          [
           "RX Jack Pigeon Wildfire, Scott, Arkansas"
          ],
          [
           "Roderfield Wildfire, McDowell, West Virginia"
          ],
          [
           "rx-Avoca Prairie Eastside Wildfire, Iowa, Wisconsin"
          ],
          [
           "Holly Springs IU 43-1 RX Wildfire, Benton, Mississippi"
          ],
          [
           "Holly Springs IU 39 1 RX Wildfire, Marshall, Mississippi"
          ],
          [
           "Rx Liberty 3 Wildfire, Logan, Arkansas"
          ],
          [
           "RX OKSQR-HFR-FY25-Sandtown Wildfire, Sequoyah, Oklahoma"
          ],
          [
           "IDNR - Iroquois Meadows RX Wildfire, Iroquois, Illinois"
          ],
          [
           "RX JC Firewise South Wildfire, Garland, Arkansas"
          ],
          [
           "DeSoto BB 7209 C21 22 23 RX Wildfire, Perry, Mississippi"
          ],
          [
           "RX East end bear little bear Wildfire, Garland, Arkansas"
          ],
          [
           "RX Norris Hollow/Wildcat Wildfire, Yell, Arkansas"
          ],
          [
           "RX LOG CABIN Wildfire, Atoka, Oklahoma"
          ],
          [
           "Jerktail RX Wildfire, Shannon, Missouri"
          ],
          [
           "RX KIS C-5 SE Wildfire, Natchitoches, Louisiana"
          ],
          [
           "RX Bee Rough Wildfire, McCurtain, Oklahoma"
          ],
          [
           "Bienville CPT 22 RX Wildfire, Scott, Mississippi"
          ],
          [
           "RX Alexander 4/Stob Gap 1 Wildfire, Crawford, Arkansas"
          ],
          [
           "Eldridge RX Wildfire, Taney, Missouri"
          ],
          [
           "RX Harvey South Wildfire, Scott, Arkansas"
          ],
          [
           "OCF CPT 12 Waterhole Rx 0312 Wildfire, Marion, Florida"
          ],
          [
           "State of Illinois RX Wildfire, Jackson, Illinois"
          ],
          [
           "Wildfire in Central African Republic 1023591"
          ],
          [
           "Wildfire in Myanmar 1023616"
          ],
          [
           "Wildfire in Myanmar 1023620"
          ],
          [
           "NADEL Wildfire, Osage, Oklahoma"
          ],
          [
           "East Branch Cedar Creek RX Wildfire, Johnson, Illinois"
          ],
          [
           "HFR FY25 RX Cattails Wildfire, Sequoyah, Oklahoma"
          ],
          [
           "RX KIS C-63 Wildfire, Natchitoches, Louisiana"
          ],
          [
           "Devils Kitchen West RX Wildfire, Williamson, Illinois"
          ],
          [
           "Bowdoin West RX Wildfire, Phillips, Montana"
          ],
          [
           "Rx Bomag Ball Springs Wildfire, Logan, Arkansas"
          ],
          [
           "Rx Pilot Rock Wildfire, Johnson, Arkansas"
          ],
          [
           "RX Anna Reese 3 Wildfire, Stone, Arkansas"
          ],
          [
           "RX Wildcat 4-5 Wildfire, Yell, Arkansas"
          ],
          [
           "RX WINN C-95-104 Wildfire, Grant, Louisiana"
          ],
          [
           "RX Harvey Wildfire, Scott, Arkansas"
          ],
          [
           "RX CAT C-4-5 Wildfire, Grant, Louisiana"
          ],
          [
           "RX CALE C-81 Wildfire, Rapides, Louisiana"
          ],
          [
           "RX Blaylock &amp; Brier Leader Wildfire, Polk, Arkansas"
          ],
          [
           "Gray Squirrel Hollow Wildfire, Adair, Oklahoma"
          ],
          [
           "Holly Springs IU 35 1 RX Wildfire, Marshall, Mississippi"
          ],
          [
           "Rx WaggleySalt Fork Alexande Wildfire, Franklin, Arkansas"
          ],
          [
           "Wildfire in India 1023598"
          ],
          [
           "Wildfire in India 1023599"
          ],
          [
           "Wildfire in South Africa 1023595"
          ],
          [
           "Wildfire in Myanmar 1023606"
          ],
          [
           "ACORN Wildfire, Osage, Oklahoma"
          ],
          [
           "Ocean Front Wildfire, Calhoun, Texas"
          ],
          [
           "HGR Godwin 2 RX Wildfire, Grayson, Texas"
          ],
          [
           "ROUTE 13 Wildfire, Ziebach, South Dakota"
          ],
          [
           "SHNF Comp 8 RX Wildfire, Montgomery, Texas"
          ],
          [
           "SMR CPT 311 Rx 0307 Wildfire, Wakulla, Florida"
          ],
          [
           "FPR Cochran &amp; Airplane Rx 0308 Wildfire, Collier, Florida"
          ],
          [
           "Miller King RX Wildfire, Butler, Missouri"
          ],
          [
           "Victory Landscape RX Wildfire, Butler, Missouri"
          ],
          [
           "RX Gambler 4 Wildfire, Baxter, Arkansas"
          ],
          [
           "RX CALV C-108-112 Wildfire, Vernon, Louisiana"
          ],
          [
           "RX Livingston 3 Wildfire, Stone, Arkansas"
          ],
          [
           "Rx Newton 0913 Wildfire, Newton, Texas"
          ],
          [
           "Rx Anderson 0911 Wildfire, Anderson, Texas"
          ],
          [
           "KENWOOD 15S Wildfire, Delaware, Oklahoma"
          ],
          [
           "Wildfire in India 1023600"
          ],
          [
           "Wildfire in Myanmar 1023605"
          ],
          [
           "Webster- Union Church Rd. Wildfire, Choctaw, Mississippi"
          ],
          [
           "Minninghaw RX Wildfire, Dent, Missouri"
          ],
          [
           "FLW Range Complex Unit C RX Wildfire, Pulaski, Missouri"
          ],
          [
           "Wylie King 3 4 5 RX Wildfire, Butler, Missouri"
          ],
          [
           "Rx Gambler 3 Wildfire, Baxter, Arkansas"
          ],
          [
           "Vance Barnett RX Wildfire, Shannon, Missouri"
          ],
          [
           "Wildfire in Japan 1023572"
          ],
          [
           "Wildfire in Mongolia 1023574"
          ],
          [
           "Wildfire in Central African Republic 1023581"
          ],
          [
           "Wildfire in Central African Republic 1023590"
          ],
          [
           "Wildfire in Myanmar 1023592"
          ],
          [
           "Wildfire in Central African Republic 1023593"
          ],
          [
           "Johnson Mountain Blk 1 RX Wildfire, Iron, Missouri"
          ],
          [
           "Rx Gambler 2 Wildfire, Baxter, Arkansas"
          ],
          [
           "GUN CLUB Wildfire, Okmulgee, Oklahoma"
          ],
          [
           "Knotwell RX Wildfire, Phelps, Missouri"
          ],
          [
           "Tapsville RX Wildfire, Lawrence, Alabama"
          ],
          [
           "Wildfire in Australia 1023568"
          ],
          [
           "Wildfire in Australia 1023575"
          ],
          [
           "Wildfire in Australia 1023576"
          ],
          [
           "Wildfire in South Africa 1023583"
          ],
          [
           "Wildfire in Myanmar 1023586"
          ],
          [
           "Wildfire in Myanmar 1023601"
          ],
          [
           "Wildfire in Sudan, Ethiopia 1023603"
          ],
          [
           "Camden Hollow RX Wildfire, Shannon, Missouri"
          ],
          [
           "BO/MAG Dooley RX Wildfire, Yell, Arkansas"
          ],
          [
           "RX North Rebuck Wildfire, Scott, Arkansas"
          ],
          [
           "BALD HILL Wildfire, Okmulgee, Oklahoma"
          ],
          [
           "RX Gambler 1 Wildfire, Baxter, Arkansas"
          ],
          [
           "RX Kleberg 0899 Wildfire, Kleberg, Texas"
          ],
          [
           "Wildfire in Venezuela 1023584"
          ],
          [
           "Wildfire in India 1023587"
          ],
          [
           "Wildfire in India 1023594"
          ],
          [
           "Wildfire in Sudan 1023602"
          ],
          [
           "Conecuh Fire Wildfire, Covington, Alabama"
          ],
          [
           "Wildfire in Ethiopia 1023569"
          ],
          [
           "Wildfire in Myanmar 1023588"
          ],
          [
           "Wildfire in Australia 1023558"
          ],
          [
           "Wildfire in Ethiopia 1023577"
          ],
          [
           "Wildfire in Mexico 1023578"
          ],
          [
           "Wildfire in Myanmar 1023589"
          ],
          [
           "Wildfire in Australia 1023559"
          ],
          [
           "Wildfire in India 1023570"
          ],
          [
           "Wildfire in Myanmar 1023585"
          ],
          [
           "Wildfire in The Democratic Republic of Congo 1023565"
          ],
          [
           "Wildfire in Ethiopia 1023566"
          ],
          [
           "Wildfire in Ethiopia 1023573"
          ],
          [
           "Wildfire in Myanmar 1023579"
          ],
          [
           "Wildfire in Myanmar 1023582"
          ],
          [
           "Wildfire in Ethiopia 1023562"
          ],
          [
           "Wildfire in Myanmar 1023580"
          ],
          [
           "Wildfire in Mexico 1023560"
          ],
          [
           "Wildfire in Myanmar 1023561"
          ],
          [
           "Wildfire in Mexico 1023567"
          ],
          [
           "Wildfire in India 1023571"
          ],
          [
           "Wildfire in Australia 1023549"
          ],
          [
           "Wildfire in Venezuela 1023550"
          ],
          [
           "Wildfire in Australia 1023552"
          ],
          [
           "Wildfire in Myanmar 1023563"
          ],
          [
           "Dismal River Ranch Wildfire, Hooker, Nebraska"
          ],
          [
           "Devils Horn 1-3 RX Wildfire, Carter, Missouri"
          ],
          [
           "RX Golden Road 2 3 4 5 7 Wildfire, Pike, Arkansas"
          ],
          [
           "RX 97 old growth hurricane Wildfire, Montgomery, Arkansas"
          ],
          [
           "Compartment 1 RX Wildfire, Macon, Alabama"
          ],
          [
           "Eureka Wildfire, Custer, Nebraska"
          ],
          [
           "RX BO/MAG Green Bench Wildfire, Logan, Arkansas"
          ],
          [
           "SNF Indian Mound 103 RX Wildfire, Sabine, Texas"
          ],
          [
           "DCNF Comp 64 65 RX Wildfire, Houston, Texas"
          ],
          [
           "RX Rambo Wildfire, Johnson, Arkansas"
          ],
          [
           "RX KIS C-17-18 Wildfire, Natchitoches, Louisiana"
          ],
          [
           "Rx Lamar 0544 Wildfire, Lamar, Texas"
          ],
          [
           "Tombigbee CPT 18 RX Wildfire, Chickasaw, Mississippi"
          ],
          [
           "RX FY25 BUFF Mill Creek Wildfire, Newton, Arkansas"
          ],
          [
           "RX Reeve&#039;s Branch 2 Wildfire, Pope, Arkansas"
          ],
          [
           "ANF Bannister East C-17 RX Wildfire, San Augustine, Texas"
          ],
          [
           "RX Beech Grove Wildfire, Franklin, Arkansas"
          ],
          [
           "RX Walker Mt Wildfire, Scott, Arkansas"
          ],
          [
           "RX Deer East Wildfire, Franklin, Arkansas"
          ],
          [
           "RX Little Round Wildfire, Scott, Arkansas"
          ],
          [
           "OSF CPT 60 65 66 Rx 0227 Wildfire, Columbia, Florida"
          ],
          [
           "OCF CPT 7 Rx 0227 Wildfire, Putnam, Florida"
          ],
          [
           "Wildfire in Australia 1023551"
          ],
          [
           "Wildfire in Colombia 1023553"
          ],
          [
           "Wildfire in Venezuela 1023554"
          ],
          [
           "Wildfire in Australia 1023555"
          ],
          [
           "Wildfire in Colombia 1023557"
          ],
          [
           "Chinnabee/Cheaha RX Wildfire, Clay, Alabama"
          ],
          [
           "OKSLR-HFR-FY25-RX-Wilderness Wildfire, Alfalfa, Oklahoma"
          ],
          [
           "Two Barrel Wildfire, Liberty, Florida"
          ],
          [
           "Holly Springs IU 107 1 RX Wildfire, Lafayette, Mississippi"
          ],
          [
           "Tombigbee CPT 74 75 RX Wildfire, Choctaw, Mississippi"
          ],
          [
           "RX Barkshed 3 Wildfire, Stone, Arkansas"
          ],
          [
           "Rx Brown 0560 Wildfire, Brown, Texas"
          ],
          [
           "Rx McMullen 0558 Wildfire, McMullen, Texas"
          ],
          [
           "DCNF Comp 76/79 RX Wildfire, Trinity, Texas"
          ],
          [
           "RX Falling Water - Raspberry Wildfire, Pope, Arkansas"
          ],
          [
           "RX Private Line Wildfire, Searcy, Arkansas"
          ],
          [
           "RX CALE C-17 Wildfire, Rapides, Louisiana"
          ],
          [
           "SHNF Comp 83 RX Wildfire, San Jacinto, Texas"
          ],
          [
           "OSF CPT 131 Rx 0226 Wildfire, Columbia, Florida"
          ],
          [
           "MIC 03/05 RX Wildfire, Escambia, Alabama"
          ],
          [
           "Calhoun Co Wildfire, Calhoun, Alabama"
          ],
          [
           "East Table Wildfire, Custer, Nebraska"
          ],
          [
           "Wildfire in Australia 1023545"
          ],
          [
           "KC 450 Wildfire, Kimble, Texas"
          ],
          [
           "COLBIN GAP Wildfire, Etowah, Alabama"
          ],
          [
           "RX Harvey Mtn East Wildfire, Le Flore, Oklahoma"
          ],
          [
           "Range 141 Wildfire, El Paso, Colorado"
          ],
          [
           "Rx Cottle 0536 Wildfire, Cottle, Texas"
          ],
          [
           "RX Kerr 0537 Wildfire, Kerr, Texas"
          ],
          [
           "Rx McMullen 0538 Wildfire, McMullen, Texas"
          ],
          [
           "Walt RX Wildfire, Clay, Alabama"
          ],
          [
           "RX Reeve&#039;s Branch Wildfire, Pope, Arkansas"
          ],
          [
           "RX Harvey Ridge Wildfire, Scott, Arkansas"
          ],
          [
           "DXS 01/02/03 RX Wildfire, Escambia, Alabama"
          ],
          [
           "Saw Mill Wildfire, Platte, Wyoming"
          ],
          [
           "Wildfire in Venezuela 1023542"
          ],
          [
           "Wildfire in Ethiopia 1023537"
          ],
          [
           "Wildfire in Ethiopia 1023556"
          ],
          [
           "YO Ranch Road Wildfire, Platte, Wyoming"
          ],
          [
           "RX South Ringer Branch Wildfire, Scott, Arkansas"
          ],
          [
           "Wildfire in Senegal 1023539"
          ],
          [
           "Wildfire in Australia 1023540"
          ],
          [
           "Wildfire in Liberia, Guinea 1023564"
          ],
          [
           "RX Harvey Mountain East Wildfire, Le Flore, Oklahoma"
          ],
          [
           "Wildfire in Australia 1023531"
          ],
          [
           "Wildfire in Mali 1023544"
          ],
          [
           "Wildfire in Australia 1023547"
          ],
          [
           "Wildfire in Australia 1023548"
          ],
          [
           "RX OKWMR Phelan Wildfire, Comanche, Oklahoma"
          ],
          [
           "Quail RX Wildfire, Cleburne, Alabama"
          ],
          [
           "Comp 49 RX Wildfire, Bibb, Alabama"
          ],
          [
           "Wildfire in Mali 1023524"
          ],
          [
           "Wildfire in Russian Federation 1023541"
          ],
          [
           "Wildfire in Ethiopia 1023538"
          ],
          [
           "Wildfire in Venezuela 1023546"
          ],
          [
           "Comp 05 RX Wildfire, Tuscaloosa, Alabama"
          ],
          [
           "LXR Strazulla Rx 0221 Wildfire, Palm Beach, Florida"
          ],
          [
           "Wildfire in Sudan 1023519"
          ],
          [
           "Wildfire in Ethiopia 1023525"
          ],
          [
           "Wildfire in Australia 1023527"
          ],
          [
           "Wildfire in Australia 1023536"
          ],
          [
           "Blue Springs 06 RX Wildfire, Covington, Alabama"
          ],
          [
           "Comp 57 RX Wildfire, Bibb, Alabama"
          ],
          [
           "Wildfire in Central African Republic 1023520"
          ],
          [
           "Wildfire in Ethiopia 1023526"
          ],
          [
           "Wildfire in South Africa 1023530"
          ],
          [
           "Wildfire in Sudan, Ethiopia 1023535"
          ],
          [
           "Wildfire in Sudan 1023543"
          ],
          [
           "Rx San Jacinto 0486 Wildfire, San Jacinto, Texas"
          ],
          [
           "Wildfire in Sudan 1023516"
          ],
          [
           "OSF CPT 1 Rx 0218 Wildfire, Baker, Florida"
          ],
          [
           "Wildfire in Senegal 1023528"
          ],
          [
           "Wildfire in Russian Federation 1023532"
          ],
          [
           "Comp 20 RX Wildfire, Macon, Alabama"
          ],
          [
           "RX Cottle 0479 Wildfire, Cottle, Texas"
          ],
          [
           "Wildfire in Australia 1023511"
          ],
          [
           "Wildfire in Australia 1023523"
          ],
          [
           "Wildfire in Senegal 1023533"
          ],
          [
           "BUENOS ARIES PILES RX Wildfire, Pima, Arizona"
          ],
          [
           "Wildfire in Ethiopia 1023514"
          ],
          [
           "Wildfire in Ethiopia 1023512"
          ],
          [
           "Wildfire in Cameroon 1023513"
          ],
          [
           "Wildfire in Central African Republic 1023515"
          ],
          [
           "Wildfire in Cameroon 1023517"
          ],
          [
           "Wildfire in Cameroon 1023518"
          ],
          [
           "Wildfire in Sudan 1023521"
          ],
          [
           "Wildfire in Ethiopia 1023522"
          ],
          [
           "Wildfire in Sudan 1023529"
          ],
          [
           "Wildfire in The Democratic Republic of Congo 1023534"
          ],
          [
           "Stillwater NWR FY25 RX Wildfire, Churchill, Nevada"
          ],
          [
           "SUNNYSIDE RX Wildfire, Cochise, Arizona"
          ],
          [
           "RKC 02/03 RX Wildfire, Escambia, Alabama"
          ],
          [
           "OKR Minnies Island Rx 0212 Wildfire, Charlton, Georgia"
          ],
          [
           "OSF CPT 43 50 Rx 0212 Wildfire, Columbia, Florida"
          ],
          [
           "MIR T-27A Rx 0212 Wildfire, Brevard, Florida"
          ],
          [
           "OKR CPT 6 Mims Island Rx 0212 Wildfire, Ware, Georgia"
          ],
          [
           "OSF CPT 23 24 Rx 0211 Wildfire, Columbia, Florida"
          ],
          [
           "Rx Trinity 0423 Wildfire, Trinity, Texas"
          ],
          [
           "Dismal West RX Wildfire, Thomas, Nebraska"
          ],
          [
           "Wildfire in Australia 1023510"
          ],
          [
           "RX Kimble 0417 Wildfire, Kimble, Texas"
          ],
          [
           "Wildfire in Australia 1023509"
          ],
          [
           "COTTONWOOD CANYON Wildfire, Lincoln, New Mexico"
          ],
          [
           "BAR Rogers Bee Creek RX Wildfire, Travis, Texas"
          ],
          [
           "Wildfire in Australia 1023505"
          ],
          [
           "Wildfire in Cameroon 1023507"
          ],
          [
           "Iceman RX Wildfire, Lawrence, South Dakota"
          ],
          [
           "RX KIS C-44-51 Wildfire, Natchitoches, Louisiana"
          ],
          [
           "RX CAT C-95 Wildfire, Grant, Louisiana"
          ],
          [
           "SHNF C-105 RX Wildfire, San Jacinto, Texas"
          ],
          [
           "MiC04 RX Wildfire, Escambia, Alabama"
          ],
          [
           "RX KIS C-28-41 Wildfire, Natchitoches, Louisiana"
          ],
          [
           "Kings Ferry Wildfire, Franklin, Mississippi"
          ],
          [
           "LBJ COMP 908 S RX Wildfire, Wise, Texas"
          ],
          [
           "RX Cottle 0384 Wildfire, Cottle, Texas"
          ],
          [
           "SNF Indian Mounds C-102 RX Wildfire, Sabine, Texas"
          ],
          [
           "RX CALV C-111 Wildfire, Vernon, Louisiana"
          ],
          [
           "DCNF COMP 34 RX Wildfire, Houston, Texas"
          ],
          [
           "ANF Mud Creek RX Wildfire, Angelina, Texas"
          ],
          [
           "RX Compartment 166-170 Wildfire, Oglethorpe, Georgia"
          ],
          [
           "DCNF COMP 28 RX Wildfire, Houston, Texas"
          ],
          [
           "SHNF COMP 21 RX Wildfire, Montgomery, Texas"
          ],
          [
           "RKC 06/07 RX Wildfire, Escambia, Alabama"
          ],
          [
           "Rx Polk 0366 Wildfire, Polk, Texas"
          ],
          [
           "Wildfire in Sudan 1023495"
          ],
          [
           "Wildfire in Ethiopia 1023502"
          ],
          [
           "RKC04/05 RX Wildfire, Escambia, Alabama"
          ],
          [
           "BrB 04 RX Wildfire, Covington, Alabama"
          ],
          [
           "MiC 07 RX Wildfire, Escambia, Alabama"
          ],
          [
           "BrB05 Rx Wildfire, Covington, Alabama"
          ],
          [
           "Wildfire in Chad 1023486"
          ],
          [
           "Wildfire in Sudan 1023496"
          ],
          [
           "Wildfire in The Democratic Republic of Congo 1023500"
          ],
          [
           "Wildfire in The Democratic Republic of Congo 1023506"
          ],
          [
           "Wildfire in Central African Republic 1023503"
          ],
          [
           "Wildfire in Venezuela 1023504"
          ],
          [
           "Rx Cedar Lake N Shore Wildfire, Le Flore, Oklahoma"
          ],
          [
           "Comp 2 RX Wildfire, Hale, Alabama"
          ],
          [
           "Pyramid SRA 2 RX Wildfire, Perry, Illinois"
          ],
          [
           "RX - Cades Cove Wildfire, Blount, Tennessee"
          ],
          [
           "Wildfire in Australia 1023479"
          ],
          [
           "Wildfire in Chad 1023483"
          ],
          [
           "Wildfire in Argentina 1023485"
          ],
          [
           "Wildfire in Australia 1023493"
          ],
          [
           "Wildfire in Australia 1023494"
          ],
          [
           "Wildfire in Australia 1023501"
          ],
          [
           "Wildfire in Australia 1023508"
          ],
          [
           "ANF Bannister East RX Wildfire, San Augustine, Texas"
          ],
          [
           "ANF Bullet Creek RX Wildfire, San Augustine, Texas"
          ],
          [
           "Wildfire in Australia 1023472"
          ],
          [
           "Wildfire in Australia 1023474"
          ],
          [
           "Wildfire in Sudan 1023490"
          ],
          [
           "Wildfire in Central African Republic 1023497"
          ],
          [
           "Wildfire in Guinea 1023499"
          ],
          [
           "Blue Hills Wildfire, Moore, Texas"
          ],
          [
           "Wildfire in Australia 1023459"
          ],
          [
           "Wildfire in The Democratic Republic of Congo 1023476"
          ],
          [
           "Wildfire in Australia 1023477"
          ],
          [
           "BFR HFR Unit 9/10 RX Wildfire, Randall, Texas"
          ],
          [
           "APQ Recreation Area 10 Rx  0131 Wildfire, Highlands, Florida"
          ],
          [
           "Wildfire in Australia 1023460"
          ],
          [
           "Wildfire in Australia 1023461"
          ],
          [
           "Wildfire in Central African Republic 1023491"
          ],
          [
           "Wildfire in Australia 1023498"
          ],
          [
           "Rx Camp 0251 Wildfire, Camp, Texas"
          ],
          [
           "APQ Recreation Area 10 Rx 0130 Wildfire, Highlands, Florida"
          ],
          [
           "MiC 02 RX Wildfire, Escambia, Alabama"
          ],
          [
           "OSF CPT 34 35 Rx 0130 Wildfire, Baker, Florida"
          ],
          [
           "FPR Big Pine Island Rx 0130 Wildfire, Collier, Florida"
          ],
          [
           "NORTH FORK Wildfire, McDowell, North Carolina"
          ],
          [
           "Wildfire in Australia 1023446"
          ],
          [
           "Wildfire in Australia 1023447"
          ],
          [
           "Wildfire in Australia 1023448"
          ],
          [
           "Wildfire in Australia 1023449"
          ],
          [
           "Wildfire in Australia 1023450"
          ],
          [
           "Wildfire in Argentina 1023453"
          ],
          [
           "Wildfire in Australia 1023458"
          ],
          [
           "Wildfire in Australia 1023464"
          ],
          [
           "Wildfire in Australia 1023465"
          ],
          [
           "Wildfire in Argentina 1023466"
          ],
          [
           "Wildfire in The Democratic Republic of Congo 1023467"
          ],
          [
           "Wildfire in Australia 1023468"
          ],
          [
           "Wildfire in The Democratic Republic of Congo 1023473"
          ],
          [
           "Wildfire in Australia 1023482"
          ],
          [
           "Wildfire in Argentina 1023484"
          ],
          [
           "Wildfire in Central African Republic 1023492"
          ],
          [
           "Cahas Mounttain Fire Wildfire, Franklin, Virginia"
          ],
          [
           "OSF CPT 129 19 RX 0129 Wildfire, Columbia, Florida"
          ],
          [
           "EVP HID Rx 0129 Wildfire, Miami-Dade, Florida"
          ],
          [
           "Wildfire in Central African Republic 1023462"
          ],
          [
           "Wildfire in Argentina 1023469"
          ],
          [
           "Wildfire in Central African Republic 1023463"
          ],
          [
           "Wildfire in The Democratic Republic of Congo 1023470"
          ],
          [
           "Wildfire in Central African Republic 1023480"
          ],
          [
           "Wildfire in Central African Republic 1023487"
          ],
          [
           "Wildfire in Argentina 1023488"
          ],
          [
           "RX Cottle 0244 Wildfire, Cottle, Texas"
          ],
          [
           "Rx Big Flat Wildfire, Johnson, Arkansas"
          ],
          [
           "Buttram RX Wildfire, Ozark, Missouri"
          ],
          [
           "ANF BU 312 Rx 0128 Wildfire, Wakulla, Florida"
          ],
          [
           "Wildfire in Australia 1023430"
          ],
          [
           "Wildfire in Australia 1023431"
          ],
          [
           "Wildfire in Australia 1023434"
          ],
          [
           "Wildfire in The Democratic Republic of Congo 1023439"
          ],
          [
           "Wildfire in Australia 1023454"
          ],
          [
           "Wildfire in Australia 1023451"
          ],
          [
           "Wildfire in Senegal 1023452"
          ],
          [
           "Wildfire in Sudan 1023438"
          ],
          [
           "Wildfire in Central African Republic 1023456"
          ],
          [
           "Wildfire in Central African Republic 1023471"
          ],
          [
           "Wildfire in Chad 1023478"
          ],
          [
           "Wildfire in Australia 1023489"
          ],
          [
           "GRASS RX Wildfire, Bernalillo, New Mexico"
          ],
          [
           "FPR Ridge Road Rx 0127 Wildfire, Collier, Florida"
          ],
          [
           "Wildfire in Australia 1023424"
          ],
          [
           "Wildfire in Sudan 1023433"
          ],
          [
           "Wildfire in Australia 1023435"
          ],
          [
           "Wildfire in Burkina Faso 1023436"
          ],
          [
           "Wildfire in Australia 1023455"
          ],
          [
           "Wildfire in Guinea 1023457"
          ],
          [
           "BCP Boot Hill Echo 0126 Rx Wildfire, Collier, Florida"
          ],
          [
           "Wildfire in Australia 1023432"
          ],
          [
           "Rx Anderson 0224 Wildfire, Anderson, Texas"
          ],
          [
           "Rx Camp 0219 Wildfire, Camp, Texas"
          ],
          [
           "ANF Sandy Creek COMP 73/74/75 RX Wildfire, Angelina, Texas"
          ],
          [
           "RX CALE C-373 Wildfire, Rapides, Louisiana"
          ],
          [
           "BCP Boot Hill Echo Rx 0125 Wildfire, Collier, Florida"
          ],
          [
           "Wildfire in Australia 1023406"
          ],
          [
           "Wildfire in Sudan, Central African Republic 1023417"
          ],
          [
           "Wildfire in Central African Republic 1023428"
          ],
          [
           "Wildfire in Benin 1023437"
          ],
          [
           "Wildfire in Central African Republic 1023440"
          ],
          [
           "Wildfire in Central African Republic 1023475"
          ],
          [
           "Wildfire in Ghana 1023481"
          ],
          [
           "RX WINN C-84 Wildfire, Winn, Louisiana"
          ],
          [
           "RX CAT C65-66 Wildfire, Grant, Louisiana"
          ],
          [
           "BCP Boothill Echo Rx 0124 Wildfire, Collier, Florida"
          ],
          [
           "Hubbard Barbaree RX Wildfire, Clay, Alabama"
          ],
          [
           "Wildfire in Mexico 1023393"
          ],
          [
           "Wildfire in Mali 1023400"
          ],
          [
           "Wildfire in Australia 1023396"
          ],
          [
           "Wildfire in Australia 1023407"
          ],
          [
           "Wildfire in Australia 1023408"
          ],
          [
           "Wildfire in Central African Republic 1023402"
          ],
          [
           "Wildfire in Australia 1023422"
          ],
          [
           "Wildfire in Central African Republic 1023419"
          ],
          [
           "Wildfire in Australia 1023425"
          ],
          [
           "Wildfire in Central African Republic 1023442"
          ],
          [
           "Wildfire in Sudan 1023441"
          ],
          [
           "BORDER 2 Wildfire, San Diego, California"
          ],
          [
           "DCNF COMP 27 RX Wildfire, Houston, Texas"
          ],
          [
           "Redbank RX Wildfire, Pennington, South Dakota"
          ],
          [
           "Wildfire in Australia 1023391"
          ],
          [
           "Wildfire in Australia 1023392"
          ],
          [
           "Wildfire in Burkina Faso 1023401"
          ],
          [
           "Wildfire in Sudan, Central African Republic 1023397"
          ],
          [
           "Wildfire in Australia 1023409"
          ],
          [
           "Wildfire in Central African Republic 1023403"
          ],
          [
           "Wildfire in Central African Republic 1023415"
          ],
          [
           "Wildfire in Central African Republic 1023416"
          ],
          [
           "Wildfire in Central African Republic 1023426"
          ],
          [
           "Wildfire in The Democratic Republic of Congo 1023423"
          ],
          [
           "Wildfire in Central African Republic 1023420"
          ],
          [
           "Wildfire in Sudan 1023427"
          ],
          [
           "Wildfire in The Democratic Republic of Congo 1023443"
          ],
          [
           "HUGHES Wildfire, Los Angeles, California"
          ],
          [
           "D-7 Bear RX Wildfire, Navajo, Arizona"
          ],
          [
           "Wildfire in Sudan 1023404"
          ],
          [
           "Wildfire in Central African Republic 1023412"
          ],
          [
           "Wildfire in Central African Republic 1023413"
          ],
          [
           "Wildfire in Nigeria 1023429"
          ],
          [
           "Wildfire in Central African Republic 1023444"
          ],
          [
           "Wildfire in Nigeria 1023445"
          ],
          [
           "Wildfire in Sudan 1023384"
          ],
          [
           "Wildfire in Colombia 1023390"
          ],
          [
           "Wildfire in Central African Republic 1023398"
          ],
          [
           "Wildfire in Central African Republic 1023394"
          ],
          [
           "Wildfire in Sudan 1023418"
          ],
          [
           "Wildfire in Central African Republic 1023421"
          ],
          [
           "Wildfire in Chad 1023399"
          ],
          [
           "Wildfire in Ethiopia 1023395"
          ],
          [
           "Wildfire in Central African Republic 1023414"
          ],
          [
           "Wildfire in Central African Republic 1023385"
          ],
          [
           "Wildfire in Chile 1023388"
          ],
          [
           "Wildfire in Senegal 1023389"
          ],
          [
           "Wildfire in Central African Republic 1023410"
          ],
          [
           "Wildfire in Central African Republic 1023411"
          ],
          [
           "BRR Canvasback RX Wildfire, Brazoria, Texas"
          ],
          [
           "BRR Walker Ditch RX Wildfire, Brazoria, Texas"
          ],
          [
           "Wildfire in Burkina Faso 1023378"
          ],
          [
           "Wildfire in Senegal 1023381"
          ],
          [
           "Coyote Run Wildfire, Hockley, Texas"
          ],
          [
           "RX CALV C-240-241-242 Wildfire, Vernon, Louisiana"
          ],
          [
           "Wildfire in Australia 1023365"
          ],
          [
           "Wildfire in Australia 1023379"
          ],
          [
           "Wildfire in Kenya 1023380"
          ],
          [
           "Wildfire in Australia 1023382"
          ],
          [
           "RX WINN C-88-89 Wildfire, Winn, Louisiana"
          ],
          [
           "RX CAT C-88 Wildfire, Grant, Louisiana"
          ],
          [
           "Wildfire in Australia 1023359"
          ],
          [
           "Wildfire in Australia 1023368"
          ],
          [
           "Wildfire in Australia 1023372"
          ],
          [
           "Wildfire in Australia 1023373"
          ],
          [
           "Wildfire in Australia 1023383"
          ],
          [
           "Wildfire in Sudan 1023405"
          ],
          [
           "APQ NC Range Rx 0115 Wildfire, Polk, Florida"
          ],
          [
           "Wildfire in Australia 1023358"
          ],
          [
           "Wildfire in Australia 1023374"
          ],
          [
           "Wildfire in Kenya 1023375"
          ],
          [
           "Wildfire in Venezuela 1023387"
          ],
          [
           "Wildfire in Sudan 1023342"
          ],
          [
           "Wildfire in Sudan 1023353"
          ],
          [
           "Wildfire in Central African Republic 1023361"
          ],
          [
           "Wildfire in Australia 1023366"
          ],
          [
           "Wildfire in Australia 1023369"
          ],
          [
           "Wildfire in Nigeria 1023386"
          ],
          [
           "Wildfire in The Democratic Republic of Congo 1023343"
          ],
          [
           "Wildfire in Sudan 1023354"
          ],
          [
           "Wildfire in Sudan 1023355"
          ],
          [
           "Wildfire in Australia 1023370"
          ],
          [
           "Wildfire in Ghana 1023376"
          ],
          [
           "Wildfire in Central African Republic 1023377"
          ],
          [
           "Wildfire in Nigeria 1023333"
          ],
          [
           "Wildfire in Australia 1023334"
          ],
          [
           "Wildfire in The Democratic Republic of Congo 1023337"
          ],
          [
           "Wildfire in Nigeria 1023336"
          ],
          [
           "Wildfire in Central African Republic 1023344"
          ],
          [
           "Wildfire in Sudan 1023362"
          ],
          [
           "Wildfire in Central African Republic 1023363"
          ],
          [
           "Wildfire in Central African Republic 1023367"
          ],
          [
           "Wildfire in Australia 1023371"
          ],
          [
           "Wildfire in Nigeria 1023340"
          ],
          [
           "Wildfire in Sudan 1023338"
          ],
          [
           "Wildfire in Central African Republic 1023345"
          ],
          [
           "Wildfire in Central African Republic 1023346"
          ],
          [
           "Wildfire in Central African Republic 1023356"
          ],
          [
           "Wildfire in Central African Republic 1023357"
          ],
          [
           "Wildfire in Australia 1023360"
          ],
          [
           "Wildfire in Central African Republic, Sudan 1023364"
          ],
          [
           "BCP Boot Hill C/D Rx 0110 Wildfire, Collier, Florida"
          ],
          [
           "Wildfire in Australia 1023278"
          ],
          [
           "Wildfire in Australia 1023302"
          ],
          [
           "Wildfire in Central African Republic 1023303"
          ],
          [
           "Wildfire in Australia 1023326"
          ],
          [
           "Wildfire in Australia 1023331"
          ],
          [
           "Wildfire in Sudan 1023347"
          ],
          [
           "KENNETH Wildfire, Ventura, California"
          ],
          [
           "APQ Rec Area 5  Rx 0109 Wildfire, Polk, Florida"
          ],
          [
           "BCP Boot Hill Rx 0109 Wildfire, Collier, Florida"
          ],
          [
           "Wildfire in Mauritania 1023279"
          ],
          [
           "Wildfire in The Democratic Republic of Congo 1023280"
          ],
          [
           "Wildfire in Central African Republic 1023294"
          ],
          [
           "Wildfire in Sudan 1023304"
          ],
          [
           "Wildfire in Central African Republic 1023314"
          ],
          [
           "Wildfire in Central African Republic 1023323"
          ],
          [
           "Wildfire in Nigeria 1023325"
          ],
          [
           "Wildfire in Central African Republic 1023341"
          ],
          [
           "Wildfire in Central African Republic 1023348"
          ],
          [
           "RX KIS C-49 Wildfire, Natchitoches, Louisiana"
          ],
          [
           "RX CALE C-13 Wildfire, Rapides, Louisiana"
          ],
          [
           "APQ Area 5A Rx 0108 Wildfire, Polk, Florida"
          ],
          [
           "BCP Boot Hill C/D Rx 0108 Wildfire, Collier, Florida"
          ],
          [
           "HURST Wildfire, Los Angeles, California"
          ],
          [
           "EATON Wildfire, Los Angeles, California"
          ],
          [
           "Wildfire in Argentina 1023260"
          ],
          [
           "Wildfire in Sudan 1023271"
          ],
          [
           "Wildfire in Central African Republic 1023281"
          ],
          [
           "Wildfire in Central African Republic 1023295"
          ],
          [
           "Wildfire in Sudan 1023282"
          ],
          [
           "Wildfire in Sudan 1023283"
          ],
          [
           "Wildfire in Sudan 1023284"
          ],
          [
           "Wildfire in Sudan 1023305"
          ],
          [
           "Wildfire in Central African Republic 1023327"
          ],
          [
           "Wildfire in Central African Republic 1023328"
          ],
          [
           "Wildfire in Central African Republic 1023349"
          ],
          [
           "Wildfire in Central African Republic 1023350"
          ],
          [
           "Wildfire in Argentina 1023352"
          ],
          [
           "Wildfire in Australia 1023253"
          ],
          [
           "Wildfire in United States 1023255 (Palisades Wildfire, Los Angeles, California)"
          ],
          [
           "Wildfire in Central African Republic 1023291"
          ],
          [
           "Wildfire in Central African Republic 1023292"
          ],
          [
           "Wildfire in Sudan 1023285"
          ],
          [
           "Wildfire in Sudan 1023296"
          ],
          [
           "Wildfire in Central African Republic 1023297"
          ],
          [
           "Wildfire in Central African Republic 1023306"
          ],
          [
           "Wildfire in Central African Republic 1023316"
          ],
          [
           "Wildfire in Sudan 1023317"
          ],
          [
           "Wildfire in Central African Republic 1023318"
          ],
          [
           "Wildfire in Central African Republic 1023335"
          ],
          [
           "Wildfire in Australia 1023268"
          ],
          [
           "Wildfire in Sudan 1023272"
          ],
          [
           "Wildfire in Sudan 1023298"
          ],
          [
           "Wildfire in Central African Republic 1023299"
          ],
          [
           "Wildfire in Central African Republic 1023286"
          ],
          [
           "Wildfire in Sudan 1023287"
          ],
          [
           "Wildfire in Central African Republic 1023288"
          ],
          [
           "Wildfire in Ghana 1023293"
          ],
          [
           "Wildfire in Sudan 1023319"
          ],
          [
           "Wildfire in Sudan, Central African Republic 1023320"
          ],
          [
           "Wildfire in Sudan 1023332"
          ],
          [
           "Wildfire in Sudan 1023329"
          ],
          [
           "Wildfire in Sudan 1023339"
          ],
          [
           "Wildfire in Australia 1023235"
          ],
          [
           "Wildfire in Sudan 1023247"
          ],
          [
           "Wildfire in Nigeria 1023257"
          ],
          [
           "Wildfire in Australia 1023269"
          ],
          [
           "Wildfire in Sudan 1023261"
          ],
          [
           "Wildfire in Central African Republic 1023308"
          ],
          [
           "Wildfire in Sudan 1023307"
          ],
          [
           "Wildfire in Sudan 1023321"
          ],
          [
           "Wildfire in Central African Republic, Sudan 1023322"
          ],
          [
           "Wildfire in Sudan 1023351"
          ],
          [
           "Wildfire in Sudan 1023236"
          ],
          [
           "Wildfire in Ghana 1023254"
          ],
          [
           "Wildfire in Sudan 1023262"
          ],
          [
           "Wildfire in Australia 1023263"
          ],
          [
           "Wildfire in Sudan 1023273"
          ],
          [
           "Wildfire in Central African Republic 1023300"
          ],
          [
           "Wildfire in Benin 1023330"
          ],
          [
           "Wildfire in Sudan 1023215"
          ],
          [
           "Wildfire in Central African Republic 1023216"
          ],
          [
           "Wildfire in Australia 1023221"
          ],
          [
           "Wildfire in Australia 1023245"
          ],
          [
           "Wildfire in Central African Republic 1023251"
          ],
          [
           "Wildfire in Sudan 1023258"
          ],
          [
           "Wildfire in Sudan 1023264"
          ],
          [
           "Wildfire in Central African Republic 1023274"
          ],
          [
           "Wildfire in Sudan 1023309"
          ],
          [
           "Wildfire in Sudan 1023310"
          ],
          [
           "Wildfire in Cambodia 1023315"
          ],
          [
           "Wildfire in Australia 1023209"
          ],
          [
           "Wildfire in Sudan 1023217"
          ],
          [
           "Wildfire in Central African Republic, Sudan 1023214"
          ],
          [
           "Wildfire in Central African Republic 1023218"
          ],
          [
           "Wildfire in Central African Republic 1023225"
          ],
          [
           "Wildfire in Central African Republic 1023226"
          ],
          [
           "Wildfire in Central African Republic, Sudan 1023232"
          ],
          [
           "Wildfire in Central African Republic, Sudan 1023233"
          ],
          [
           "Wildfire in Sudan 1023246"
          ],
          [
           "Wildfire in Central African Republic 1023237"
          ],
          [
           "Wildfire in Sudan 1023248"
          ],
          [
           "Wildfire in Sudan 1023259"
          ],
          [
           "Wildfire in Sudan 1023270"
          ],
          [
           "Wildfire in Central African Republic 1023301"
          ],
          [
           "Wildfire in Sudan 1023289"
          ],
          [
           "Wildfire in Sudan 1023290"
          ],
          [
           "Wildfire in Nigeria 1023313"
          ],
          [
           "Wildfire in Sudan 1023311"
          ],
          [
           "Wildfire in Central African Republic 1023312"
          ],
          [
           "Wildfire in Nigeria 1023324"
          ],
          [
           "Wildfire in Sudan 1023210"
          ],
          [
           "Wildfire in Central African Republic 1023222"
          ],
          [
           "Wildfire in Sudan 1023223"
          ],
          [
           "Wildfire in Central African Republic 1023227"
          ],
          [
           "Wildfire in Sudan 1023238"
          ],
          [
           "Wildfire in Sudan 1023244"
          ],
          [
           "Wildfire in Central African Republic 1023249"
          ],
          [
           "Wildfire in Central African Republic 1023265"
          ],
          [
           "Wildfire in Central African Republic 1023266"
          ],
          [
           "Wildfire in Sudan 1023275"
          ],
          [
           "Wildfire in Nigeria 1023276"
          ],
          [
           "Wildfire in Sudan 1023202"
          ],
          [
           "Wildfire in Sudan 1023212"
          ],
          [
           "Wildfire in Sudan 1023228"
          ],
          [
           "Wildfire in Central African Republic, Sudan 1023229"
          ],
          [
           "Wildfire in Sudan 1023234"
          ],
          [
           "Wildfire in Central African Republic 1023240"
          ],
          [
           "Wildfire in Sudan 1023239"
          ],
          [
           "Wildfire in Sudan 1023252"
          ],
          [
           "Wildfire in Australia 1023173"
          ],
          [
           "Wildfire in Sudan 1023165"
          ],
          [
           "Wildfire in Australia 1023185"
          ],
          [
           "Wildfire in Sudan 1023191"
          ],
          [
           "Wildfire in Sudan 1023230"
          ],
          [
           "Wildfire in Sudan 1023231"
          ],
          [
           "Wildfire in Nigeria 1023243"
          ],
          [
           "Wildfire in Central African Republic 1023250"
          ],
          [
           "Wildfire in Sudan 1023154"
          ],
          [
           "Wildfire in Central African Republic 1023166"
          ],
          [
           "Wildfire in Central African Republic, Sudan 1023167"
          ],
          [
           "Wildfire in Central African Republic 1023163"
          ],
          [
           "Wildfire in Australia 1023187"
          ],
          [
           "Wildfire in Senegal 1023183"
          ],
          [
           "Wildfire in Central African Republic 1023186"
          ],
          [
           "Wildfire in Sudan 1023175"
          ],
          [
           "Wildfire in Chad 1023196"
          ],
          [
           "Wildfire in Central African Republic, Sudan 1023192"
          ],
          [
           "Wildfire in Central African Republic 1023203"
          ],
          [
           "Wildfire in Australia 1023207"
          ],
          [
           "Wildfire in Sudan 1023224"
          ],
          [
           "Wildfire in Australia 1023220"
          ],
          [
           "Wildfire in Australia 1023213"
          ],
          [
           "Wildfire in Sudan 1023267"
          ],
          [
           "Wildfire in Senegal 1023149"
          ],
          [
           "Wildfire in Sudan 1023150"
          ],
          [
           "Wildfire in Central African Republic, Sudan 1023168"
          ],
          [
           "Wildfire in Central African Republic 1023169"
          ],
          [
           "Wildfire in Sudan, Central African Republic 1023170"
          ],
          [
           "Wildfire in Sudan 1023171"
          ],
          [
           "Wildfire in Central African Republic 1023174"
          ],
          [
           "Wildfire in Central African Republic 1023176"
          ],
          [
           "Wildfire in Central African Republic 1023177"
          ],
          [
           "Wildfire in Central African Republic 1023178"
          ],
          [
           "Wildfire in Central African Republic 1023179"
          ],
          [
           "Wildfire in Sudan 1023193"
          ],
          [
           "Wildfire in Central African Republic 1023198"
          ],
          [
           "Wildfire in Ghana 1023200"
          ],
          [
           "Wildfire in Central African Republic 1023204"
          ],
          [
           "Wildfire in Central African Republic 1023205"
          ],
          [
           "Wildfire in Central African Republic 1023211"
          ],
          [
           "Wildfire in Central African Republic 1023219"
          ],
          [
           "Wildfire in Sudan 1023241"
          ],
          [
           "Wildfire in Australia 1023151"
          ],
          [
           "Wildfire in Ghana 1023164"
          ],
          [
           "Wildfire in Sudan 1023182"
          ],
          [
           "Wildfire in South Africa 1023184"
          ],
          [
           "Wildfire in Australia 1023188"
          ],
          [
           "Wildfire in Central African Republic 1023180"
          ],
          [
           "Wildfire in Sudan 1023181"
          ],
          [
           "Wildfire in Sudan 1023199"
          ],
          [
           "Wildfire in Sudan 1023194"
          ],
          [
           "Wildfire in Sudan 1023201"
          ],
          [
           "Wildfire in Sudan 1023206"
          ],
          [
           "Wildfire in Sudan 1023242"
          ],
          [
           "Wildfire in Central African Republic, Sudan 1023155"
          ],
          [
           "Wildfire in Central African Republic 1023172"
          ],
          [
           "Wildfire in Australia 1023190"
          ],
          [
           "Wildfire in Ghana 1023197"
          ],
          [
           "Wildfire in Central African Republic 1023208"
          ],
          [
           "Wildfire in Sudan 1023140"
          ],
          [
           "Wildfire in Australia 1023145"
          ],
          [
           "Wildfire in Australia 1023147"
          ],
          [
           "Wildfire in Sudan 1023148"
          ],
          [
           "Wildfire in Sudan 1023156"
          ],
          [
           "Wildfire in Sudan 1023157"
          ],
          [
           "Wildfire in Senegal 1023161"
          ],
          [
           "Wildfire in Sudan 1023118"
          ],
          [
           "Wildfire in Australia 1023130"
          ],
          [
           "Wildfire in Australia 1023117"
          ],
          [
           "Wildfire in Australia 1023125"
          ],
          [
           "Wildfire in Australia 1023138"
          ],
          [
           "Wildfire in Australia 1023146"
          ],
          [
           "Wildfire in Sudan 1023141"
          ],
          [
           "Wildfire in Australia 1023152"
          ],
          [
           "Wildfire in Australia 1023153"
          ],
          [
           "Wildfire in Sudan 1023158"
          ],
          [
           "Landville #2 Wildfire, Logan, West Virginia"
          ],
          [
           "Wildfire in Central African Republic 1023126"
          ],
          [
           "Wildfire in Central African Republic 1023139"
          ],
          [
           "Wildfire in Sudan 1023132"
          ],
          [
           "Wildfire in Sudan 1023142"
          ],
          [
           "Wildfire in Sudan 1023143"
          ],
          [
           "Wildfire in Nigeria 1023144"
          ],
          [
           "Wildfire in Central African Republic 1023159"
          ],
          [
           "Wildfire in Sudan 1023160"
          ],
          [
           "Wildfire in Nigeria 1023162"
          ],
          [
           "Wildfire in Australia 1023115"
          ],
          [
           "Wildfire in Sudan 1023111"
          ],
          [
           "Wildfire in The Democratic Republic of Congo 1023112"
          ],
          [
           "Wildfire in Sudan 1023119"
          ],
          [
           "Wildfire in Sudan 1023120"
          ],
          [
           "Wildfire in Sudan 1023121"
          ],
          [
           "Wildfire in Sudan 1023133"
          ],
          [
           "Wildfire in Sudan 1023134"
          ]
         ],
         "hovertemplate": "CATEGORY=Wildfires<br>LONGITUDE=%{x}<br>LATITUDE=%{y}<br>TITLE=%{customdata[0]}<extra></extra>",
         "legendgroup": "Wildfires",
         "marker": {
          "color": "#636efa",
          "symbol": "circle"
         },
         "mode": "markers",
         "name": "Wildfires",
         "showlegend": true,
         "type": "scattergl",
         "x": [
          -120.48975,
          -120.642167,
          -120.48974,
          -120.437333,
          -120.384618,
          -120.843757,
          -120.311182,
          -120.549617,
          -122.804478,
          -122.397417,
          -118.374666,
          -117.511367,
          -118.16,
          -115.987167,
          -118.15995,
          -117.824,
          -117.883167,
          -119.7323,
          -97.5763,
          -118.995336,
          -84.144083,
          -84.14165,
          -117.512,
          -121.104893,
          -123.185,
          -118.73448769999999,
          -106.52255,
          -123.266433,
          -84.441267,
          -99.817396,
          -123.540583,
          -121.3967,
          -122.850456,
          -116.59,
          -122.241617,
          -79.4626667,
          -120.477333,
          -119.042959,
          -112.518978,
          -110.0038333,
          -118.5865,
          -100.0051536,
          -97.339378,
          -110.958833,
          -121.354533,
          -122.550064,
          -110.006,
          -115.64005,
          -115.0895,
          -112.869,
          -120.641667,
          -114.838833,
          -114.865667,
          -81.9627778,
          -111.3681,
          -80.5413889,
          -109.208833,
          -113.160883,
          -108.74616,
          -108.2475,
          -93.754461,
          -114.509567,
          -114.7133,
          -109.209167,
          -107.091173,
          -111.721783,
          -114.5095,
          -116.209267,
          -111.609,
          -112.8462,
          -119.926983,
          -112.037333,
          -114.4117,
          -108.74655,
          -108.14578,
          -118.79862,
          -107.945833,
          -111.9825,
          -117.847033,
          -116.592939,
          -111.490633,
          -115.142036,
          -117.80628,
          -111.944583,
          -111.286783,
          -107.246967,
          -107.3782,
          -106.513,
          -116.98975,
          -116.157917,
          -107.642833,
          -121.334396,
          -107.055967,
          -112.657717,
          -107.2865,
          -118.735536,
          -110.702833,
          -110.190444,
          -108.4252,
          -110.1018,
          -82.0147222,
          -116.53934,
          -107.32927,
          -144.315283,
          -116.910436,
          -93.030833,
          -107.7714,
          -110.232833,
          -108.215367,
          -108.23401,
          -116.401907,
          -107.745278,
          -115.694333,
          -116.90375,
          -116.852667,
          -116.844167,
          -80.4225,
          -112.900556,
          -120.159167,
          -108.574733,
          -107.32962,
          -115.437556,
          -114.52333329999999,
          -120.149667,
          -118.625567,
          -116.1472,
          -84.170333,
          -116.483442,
          -81.9627778,
          -95.278571,
          -123.018833,
          -115.264833,
          -117.282398,
          -117.311299,
          -118.044333,
          -113.183899,
          -107.3755,
          -113.649,
          -101.18584,
          -121.480278,
          -108.191167,
          -84.103806,
          -117.428917,
          -83.039222,
          -100.406583,
          -107.265083,
          -121.323879,
          -113.830787,
          -81.4737,
          -84.372528,
          -84.440222,
          -144.242733,
          -116.440133,
          -117.74417,
          -84.491194,
          -121.480278,
          -121.427851,
          -116.79812,
          -116.787954,
          -112.412383,
          -110.948117,
          -115.89549,
          -116.277833,
          -117.208667,
          -118.3062,
          -120.02638889999999,
          -121.802502,
          -119.5205,
          -118.721533,
          -145.532217,
          -101.65690350000001,
          -108.255465,
          -120.94205,
          -112.080083,
          -117.027278,
          -120.821905,
          -98.927,
          -105.9405,
          -80.726917,
          -80.5466667,
          -108.389883,
          -108.875333,
          -109.18287,
          -114.8035,
          -107.719167,
          -158.213,
          -112.379793,
          -108.382833,
          -110.906,
          -113.2455556,
          -112.072267,
          -119.925934,
          -117.134,
          -118.1144,
          -158.898927,
          -114.976417,
          -154.85255,
          -92.348333,
          -156.492233,
          -122.2936161,
          -123.588684,
          -159.561667,
          -80.6613,
          -117.982361,
          -114.336333,
          -80.79,
          -121.361867,
          -116.09682,
          -121.288889,
          -120.038167,
          -156.631383,
          -158.14,
          -146.021117,
          -112.1032,
          -118.867117,
          -108.161667,
          -117.863733,
          -123.410667,
          -146.271833,
          -123.1997222,
          -94.056877,
          -108.452633,
          -105.230283,
          -119.91205,
          -117.547016,
          -119.097306,
          -112.258333,
          -120.046793,
          -120.950117,
          -122.096717,
          -106.0963,
          -108.223028,
          -119.591367,
          -80.896733,
          -117.326132,
          -116.89443,
          -106.794327,
          -109.18638889999998,
          -108.598633,
          -81.190217,
          -81.190217,
          -81.190217,
          -81.3562,
          -82.210217,
          -80.9752778,
          -82.1061111,
          -82.247567,
          -141.106667,
          -118.34398,
          -159.64,
          -151.537233,
          -154.87,
          -155.25,
          -148.602775,
          -156.590973,
          -146.588333,
          -145.008333,
          -144.365467,
          -158.14,
          -163.886333,
          -141.210917,
          -141.44,
          -141.947883,
          -156.739841,
          -156.743,
          -144.510988,
          -145.97365,
          -142.5525,
          -148.759167,
          -141.54,
          -148.154167,
          -144.760333,
          -144.343517,
          -154.8635,
          -155.283333,
          -153.99,
          -107.829344,
          -151.61,
          -144.221117,
          -144.808,
          -156.7275,
          -143.9174,
          -150.98055,
          -119.644167,
          -80.6448,
          -147.891533,
          -144.298667,
          -148.446383,
          -144.234167,
          -149.284717,
          -113.515417,
          -159.735833,
          -81.110883,
          -108.21086,
          -84.184444,
          -105.80735,
          -120.059,
          -116.841545,
          -156.02,
          -154.048383,
          -159.06,
          -81.110883,
          -152.59,
          -153.848333,
          -158.03627,
          -158.039,
          -121.346667,
          -81.389122,
          -81.0949,
          -102.472476,
          -102.472476,
          -158.2245,
          -102.472476,
          -81.0949,
          -118.93,
          -74.63979,
          -110.9005556,
          -110.528967,
          -120.723083,
          -118.82,
          -111.988449,
          -108.21086,
          -108.232667,
          -118.818667,
          -120.511167,
          -112.381833,
          -114.223668,
          -121.2892,
          -81.9958333,
          -114.197867,
          -117.204583,
          -89.3482,
          -82.310433,
          -114.8405,
          -93.908417,
          -116.874085,
          -98.947678,
          -81.720617,
          -108.45813,
          -82.0055556,
          -81.18388,
          -120.47939,
          -105.54944,
          -142.19,
          -81.012333,
          -102.471636,
          -102.920559,
          -102.471636,
          -94.9214,
          -83.701933,
          -119.154717,
          -110.738667,
          -114.709267,
          -94.093833,
          -101.775204,
          -91.244,
          -100.9985,
          -88.957583,
          -94.13913,
          -118.710667,
          -81.3247,
          -88.85055,
          -91.067,
          -119.100164,
          -81.297082,
          -81.290583,
          -120.018779,
          -109.4535,
          -92.59598310000001,
          -97.1009,
          -97.0822,
          -96.8809,
          -81.269333,
          -98.475833,
          -94.995,
          -89.3419,
          -95.7197,
          -102.411944,
          -92.6565,
          -93.100833,
          -108.554967,
          -86.119533,
          -78.0778333,
          -94.99361111,
          -112.2465,
          -113.252778,
          -100.165333,
          -91.065,
          -88.9543,
          -88.900278,
          -91.157,
          -92.446146,
          -93.058133,
          -92.5549,
          -94.32345,
          -81.152033,
          -88.3992015,
          -105.00087,
          -109.94154,
          -88.909333,
          -92.641683,
          -93.0327,
          127.84730549567904,
          -77.114133,
          -86.95,
          -96.973,
          -116.559094,
          -80.4502778,
          -82.2608333,
          -77.403951,
          -79.87395,
          -74.299352,
          -81.1119444,
          115.29502301512093,
          115.89241812894073,
          114.45755916743785,
          115.90383242124985,
          116.28876433875847,
          -111.3249,
          -96.4467,
          -100.149164,
          -105.3806890651289,
          -80.266617,
          117.19675232910652,
          115.44012314973381,
          115.29493508953969,
          130.3984592929139,
          -77.9211111,
          -74.94135,
          -83.91599013339257,
          114.62070789753163,
          -87.342075,
          -92.5678007,
          101.5951508074957,
          114.64681726406175,
          114.84288190763506,
          116.14315386682233,
          -95.220302,
          -89.0873,
          -93.785833,
          -93.92416,
          -89.433,
          -94.216111,
          -80.266617,
          -86.394333,
          -95.6883333,
          -84.21381,
          -89.7962,
          -93.348056,
          -93.399167,
          -93.555413,
          -93.291667,
          -93.271667,
          -93.0302,
          -94.110595,
          -86.19299,
          -87.218833,
          -85.73175,
          -95.663252,
          -93.483778,
          131.051899825058,
          147.2513719027058,
          -94.7805556,
          -82.1080556,
          -94.070798,
          -92.496831,
          -95.78,
          -93.7184,
          -87.809094,
          -92.853611,
          -94.297051,
          -92.614417,
          -84.405556,
          -95.768467,
          114.8419905531358,
          115.60038452517517,
          114.54748846946389,
          -89.26545,
          -96.587222,
          -99.246068,
          -94.884444,
          -111.314507,
          -89.8031,
          -100.359867,
          -92.932778,
          -88.941389,
          -95.4,
          -88.5287624,
          -93.9493,
          -94.705967,
          -93.815278,
          -93.435167,
          -95.935554,
          -102.2683333,
          -92.62148409999999,
          -86.170833,
          -83.940333,
          -84.9662,
          114.08487536948236,
          112.85675631492883,
          140.38448354962398,
          116.44584197002938,
          114.36429378830864,
          -97.427717,
          -86.2852,
          -90.88,
          -89.3648,
          -95.651967,
          -88.9828,
          19.809023388189026,
          114.90851611457028,
          32.807219278610624,
          -95.285,
          -100.4047222,
          -118.112957,
          -94.112458,
          -111.748036,
          -90.872,
          -87.362417,
          -93.354167,
          -93.408333,
          -95.271846,
          -93.153167,
          -88.6118306,
          -92.800228,
          -94.3625,
          -93.68,
          -75.98023,
          -75.990457,
          -103.29019,
          122.94855245035777,
          114.87591523782723,
          112.13206405044205,
          117.81550913150488,
          115.6872645343833,
          115.64671708494694,
          -92.6207464,
          -94.0267,
          -89.1026,
          -92.563586,
          -87.489495,
          -93.63,
          -93.914,
          -93.437222,
          -91.024,
          -88.9256,
          -93.527583,
          -93.185517,
          -94.072071,
          -94.245833,
          -81.280632,
          -96.276928,
          114.97196961601601,
          114.95791774075087,
          115.13753029199178,
          115.84837614880094,
          -106.25140459282389,
          -95.821678,
          -111.438133,
          -94.072071,
          -89.1319,
          -93.5204,
          -95,
          -90.982,
          -93.694633,
          -93.586667,
          -93.566389,
          -89.5998,
          -79.197467,
          -146.3023,
          150.7816781421846,
          114.74266010781862,
          -145.6726,
          -145.9018,
          -86.87,
          -100.3325,
          126.2624324416444,
          128.00600287941901,
          115.3353324532225,
          -103.116078,
          -80.223591,
          -90.0714,
          150.57303310673927,
          128.12559035975508,
          -107.11614724507183,
          -83.7743,
          63.21636929186875,
          -96.5575,
          -98.475833,
          111.74255591311103,
          111.99535451115221,
          -98.37408521130905,
          -95.68449,
          -89.6629,
          -81.316853,
          -99.778967,
          -103.361,
          -93.375983,
          -93.558611,
          -93.586667,
          -81.371102,
          -103.2919,
          -94.00119,
          -82.09927,
          -96.485278,
          -88.3992015,
          -110.105389,
          -98.20825,
          -103.2098295601545,
          -96.08502,
          -82.6981667,
          92.76503877746704,
          97.70730789447569,
          -100.52378,
          -89.3539239,
          -100.683474,
          -80.0936111,
          -80.9422222,
          -88.1409602,
          -101.318466,
          -99.46019,
          -95.57833329999998,
          -97.148972,
          -82.8144444,
          -88.6118306,
          -95.834722,
          -63.03643894644657,
          -67.39166547118292,
          -82.522483,
          -96.103333,
          -97.44996,
          -83.4169444,
          -78.5515,
          -95.00388889999999,
          -101.822111,
          -95.88,
          -69.98978150030135,
          97.91715298776595,
          -105.04257,
          -82.167159,
          -94.668333,
          -96.491111,
          -88.018483,
          -94.5980556,
          -92.024248,
          -95.0405556,
          23.70249835312588,
          101.43767846722432,
          -62.561684694837886,
          91.87846739769266,
          -82.645834,
          -111.766617,
          -95.8975,
          -96.4597,
          -92.795167,
          -96.653593,
          -74.814702,
          -106.411167,
          92.68472384031173,
          101.44558015055293,
          -96.622222,
          -95.61583329999999,
          102.5488296379772,
          102.79765066067786,
          14.376242723699598,
          -106.28871134948328,
          -89.109451,
          -84.03447,
          -96.293344,
          -82.71055,
          -89.074098,
          -94.856667,
          -94.9651,
          -94.9214,
          -72.21520645292038,
          -72.61242317507184,
          128.5158189889869,
          128.75191521559861,
          127.84673735799682,
          92.61231032581605,
          24.10706378396439,
          97.12991919011897,
          97.42091148546493,
          97.29274591499903,
          -89.5861111,
          -84.440611,
          -96.397764,
          -72.3812024170825,
          127.8049379624935,
          103.2464553754866,
          101.44038480417098,
          -95.626229,
          -83.0191667,
          -82.2594444,
          -92.751568,
          -95.00764,
          -81.02995662693084,
          -82.2975,
          -111.30208,
          -95.2501169,
          -94.42850735,
          -92.6283333,
          -83.707,
          -95.849444,
          -88.4741667,
          -84.504833,
          -95.235,
          -100.45556,
          -95.8175,
          -95.2577778,
          -96.372967,
          -96.217269,
          -103.41728,
          -103.511124,
          -80.742267,
          -102.728,
          -95.84666667,
          -95.905556,
          -95.66305556,
          -95.28416670000001,
          -95.49166670000001,
          -94.63333329999999,
          -95.6088889,
          -104.392283,
          -80.40908595082675,
          97.40296561351407,
          -108.42846218492451,
          97.59854636432941,
          -96.59138888999999,
          -89.06903,
          -95.897429,
          -96.010719,
          -94.2812,
          -62.68359301683822,
          91.16213724363196,
          32.43275222618806,
          94.01300317418269,
          -96.3875,
          -96.68138889,
          -97.15833332999999,
          -96.38611111,
          -96.83,
          -94.117222,
          -96.35487,
          -95.590466,
          -97.24055556,
          91.19923416495722,
          -89.521453,
          -88.8907,
          -98.81667966,
          -95.80608,
          -96.187222,
          -96.440069,
          -95.1036667,
          -83.6564,
          -99.4472222,
          97.51429926016174,
          92.1848055127105,
          -100.58638889999999,
          -88.5082286,
          -104.759471,
          -97.28694444,
          -100.82106110000001,
          -96.463854,
          -96.70277777999999,
          -99.50388889,
          -100.844678,
          -99.77888889999998,
          -100.62705830000002,
          -92.6536388,
          -99.36763711797664,
          93.95692361883718,
          123.86456273442066,
          -60.798085792079576,
          -90.889216,
          -104.585333,
          -95.8175,
          -81.341399,
          -89.5672,
          -94.705967,
          -96.162072,
          -81.309722,
          -91.352519,
          -94.98719,
          -90.899,
          -84.424167,
          -80.3647222,
          -95.6052,
          -94.7344444,
          94.23278989531259,
          13.930891537026335,
          90.99926889712191,
          97.4833761380538,
          97.94917518303518,
          93.29823961736854,
          -98.89228299,
          -93.435167,
          -93.774833,
          -81.727343,
          -90.3022045,
          -89.280106,
          -89.305382,
          -93.5024,
          -94.991767,
          -87.579867,
          -93.196389,
          -88.8907,
          -93.312778,
          -93.522583,
          -95.8494,
          -91.2676,
          -93.105,
          -94.71155,
          -89.5708,
          -94.0013,
          -92.844,
          -93.79676,
          -81.818117,
          -89.5173,
          24.105917533271608,
          96.66372562012207,
          97.51386065667293,
          -96.42203,
          -88.73399,
          -94.99972,
          -93.11575,
          -89.0997,
          -107.72462,
          -93.6907,
          -93.25,
          -92.259444,
          -93.418889,
          -92.561944,
          -93.79676,
          -92.454333,
          -92.647,
          -93.998611,
          -94.74416670000001,
          -89.32888,
          -93.9385,
          93.00463337862833,
          92.59304989103022,
          18.991496621558458,
          97.32648709441683,
          -96.368611,
          -96.59,
          -96.818533,
          -101.9838889,
          -95.793333,
          -84.415889,
          -81.388967,
          -90.591202,
          -90.5618,
          -92.256492,
          -93.1512,
          -92.182673,
          -93.796824,
          -95.39591,
          -94.909444,
          92.74218103787094,
          97.25800272968671,
          -89.3875,
          -91.3645,
          -92.136834,
          -90.615471,
          -92.256492,
          -91.211167,
          131.1045520412834,
          115.89171959937453,
          23.536788708011464,
          23.688304833308994,
          93.52984617226183,
          23.667916770271976,
          -90.887717,
          -92.282212,
          -95.930278,
          -91.938833,
          -87.321845,
          128.38030681274947,
          128.75620408324932,
          130.2212002200049,
          19.101828923882767,
          97.04883946292448,
          96.70426337145264,
          33.263231720709946,
          -91.2992,
          -93.4067,
          -93.802222,
          -95.885278,
          -92.287442,
          -97.633963,
          -61.4739192703003,
          92.6733133816207,
          92.41440586858594,
          32.966461362382596,
          -86.2533333,
          33.7984221412233,
          97.02884177730607,
          133.16942096241894,
          33.87995019447472,
          -98.46236445375953,
          97.10332206752199,
          114.04983888837144,
          78.62792317851759,
          97.22638595937607,
          29.31919949376619,
          36.203560737771504,
          36.052729593506925,
          97.26565432654819,
          94.09367491290466,
          36.03694573694831,
          97.44061204928268,
          -108.46121544989686,
          97.15913730391169,
          -108.42762061983576,
          79.99317338106425,
          128.52327871865603,
          -62.915756515665755,
          128.50209889262345,
          94.58351878953316,
          -101.04,
          -91.083183,
          -93.898611,
          -93.913333,
          -85.658917,
          -99.958764,
          -93.713,
          -93.725867,
          -95.255397,
          -93.597128,
          -93.043611,
          -95.537,
          -88.9583,
          -93.123333,
          -92.902528,
          -94.229917,
          -93.720865,
          -94.301412,
          -93.9705,
          -93.751389,
          -82.547533,
          -81.706083,
          135.21942548386295,
          -69.80380791425938,
          -62.725092140177324,
          138.7068490588114,
          -69.01115210275877,
          -85.885277,
          -98.213556,
          -84.9963,
          -89.2994,
          -89.1246,
          -92.293667,
          -98.902,
          -98.35107056,
          -95.129428,
          -92.94525,
          -92.915086,
          -92.628883,
          -95.334,
          -82.547883,
          -86.752368,
          -85.7658333,
          -99.728328,
          149.45152157902322,
          -99.66921667000001,
          -85.8861111,
          -94.86845,
          -104.8106,
          -100.34424550000001,
          -99.29375895000001,
          -98.351056,
          -86.152778,
          -92.902528,
          -94.22,
          -86.745247,
          -104.92062,
          -68.14176757456781,
          35.96153969595625,
          36.28616137264376,
          -104.90347,
          -93.808056,
          -12.68647972055463,
          128.18195798040907,
          -9.427060559769606,
          -94.857083,
          130.2518742727973,
          -6.027762358906355,
          146.74406620530675,
          131.31155657622176,
          -98.783392,
          -85.579133,
          -87.3643,
          3.2587400130394113,
          131.58541641220148,
          33.27263220169747,
          -63.25853766924521,
          -87.403333,
          -80.25,
          29.976271730543928,
          33.65861944468327,
          142.78275723204698,
          149.0564292803252,
          -86.591103,
          -87.365582,
          21.915248070388163,
          33.735090254905415,
          19.251620190788337,
          33.12298028862088,
          32.984554609117694,
          -95.28388889,
          26.533734108251064,
          -82.308383,
          -14.630241940697934,
          131.76582661325727,
          -85.561,
          -100.41666670000001,
          116.1659697685877,
          116.15230836347173,
          -15.791538888608105,
          -111.50325,
          34.62631506346511,
          35.9939186682305,
          10.925303964705574,
          24.00830468932926,
          13.448953535900284,
          11.601622549677574,
          33.580453919550074,
          33.16979337386354,
          32.84602877090451,
          29.188091947155687,
          -118.47135,
          -110.415004,
          -86.793957,
          -82.351383,
          -82.504117,
          -80.6804,
          -82.301167,
          -82.516383,
          -95.41861111,
          -100.29995,
          120.83976940333025,
          -99.71893567000001,
          116.4135338570653,
          -105.40959,
          -98.0428,
          144.89278913265767,
          12.765299415367926,
          -103.818467,
          -93.018056,
          -92.543084,
          -95.116667,
          -86.777237,
          -93.065833,
          -90.893408,
          -97.645533,
          -100.41666670000001,
          -93.703333,
          -93.144,
          -95.1963,
          -94.316883,
          -83.266083,
          -95.1042,
          -95.654833,
          -86.833059,
          -94.67,
          33.55179468121498,
          34.27492944950135,
          -86.810544,
          -86.631821,
          -86.725788,
          -86.6629,
          19.791915103344596,
          32.86439845438164,
          29.60683213109463,
          29.660089763609967,
          23.596001706530057,
          -69.51307154577344,
          -94.7045,
          -87.476667,
          -89.52647,
          -83.803833,
          144.99643423665097,
          19.74483578980161,
          -58.301921543661784,
          145.29635138093386,
          138.0758590504984,
          139.39973681864168,
          145.92134868577241,
          -94.21575,
          -94.305583,
          141.43774569174607,
          141.4270239294413,
          32.84008263788477,
          24.372443016424448,
          -9.80178177483444,
          -101.65394,
          129.5254345867185,
          29.691445600068988,
          133.23652288484658,
          -102.103892,
          -81.201153,
          129.76627104819855,
          128.22824873414183,
          23.48879600480071,
          114.53919872604449,
          -94.856,
          -81.201153,
          -86.741262,
          -82.315783,
          -81.375717,
          -82.012972,
          136.2483373982767,
          129.99623318922966,
          133.36242480924074,
          130.06978055529294,
          129.8340025202946,
          -64.99776701739984,
          130.41058593591805,
          121.3404813531587,
          130.52624581854514,
          -71.27855558190157,
          26.344467867976064,
          136.0485708807638,
          29.54600839192834,
          135.37777735987646,
          -71.57446270555205,
          25.627342431436052,
          -80.0352778,
          -82.591117,
          -80.729517,
          20.755136879863,
          -71.53338735597129,
          24.542485081562408,
          26.37529569387727,
          21.285451024725283,
          25.136092727396694,
          -60.44779516842537,
          -100.41666670000001,
          -93.687909,
          -92.764833,
          -84.647,
          128.53236848328459,
          133.55486210204344,
          137.05208275210717,
          29.461207611977972,
          147.53775362853253,
          130.57027694561188,
          -12.933448242081461,
          31.8502560904744,
          23.876386527319223,
          25.0126396242242,
          19.600395279239702,
          130.65086491802245,
          -106.499783,
          -81.354117,
          142.26831861566103,
          33.64880139151565,
          130.70949808302024,
          0.49081958160892775,
          142.32325318877983,
          -9.727618384364476,
          -81.119033,
          126.54880848856531,
          -95.646472,
          -94.795964,
          -94.221833,
          -92.5479,
          -81.119033,
          134.38004849294296,
          26.471681012251636,
          23.601687852250752,
          2.685864166391419,
          25.74499923763562,
          25.059919627027313,
          -2.8735749802971253,
          -92.545833,
          -92.54385,
          -81.119033,
          -85.891111,
          -116.37322751142814,
          3.3073357069855387,
          134.7105768112027,
          141.25320940587116,
          131.41137712176814,
          23.781454601735984,
          140.22887240711827,
          24.966788853948902,
          133.56402366360498,
          21.295372552036213,
          26.658462240451282,
          -116.841271,
          -95.080147,
          -103.935533,
          137.69269414198752,
          119.64922948625869,
          -1.4673808092817984,
          26.549608165786484,
          141.39129930892824,
          25.91995736862296,
          24.256649013390987,
          23.764768315491057,
          26.68604940892622,
          29.54241317313306,
          25.091297584432017,
          31.603239169720382,
          29.734615007658604,
          -118.559217,
          -110.212133,
          32.34030216683976,
          21.91508754106496,
          25.988759373341818,
          11.362924116958574,
          21.143779014427352,
          11.452327533308084,
          26.85266626351784,
          -68.52812867969303,
          24.573898604345196,
          24.83139570507956,
          26.98873017050219,
          19.64024871587587,
          18.28788429900183,
          34.346772348557046,
          26.432004121453346,
          25.018956451952462,
          -72.80214481008075,
          -12.992122839026662,
          24.421585594080522,
          24.497252713447917,
          -95.266185,
          -95.269524,
          -0.10904156138328022,
          -13.12286976324657,
          -102.49785,
          -93.0487,
          145.81224168300193,
          141.35813577175176,
          39.01424498500139,
          133.64741090020132,
          -92.537713,
          -92.514816,
          145.83193104098336,
          145.8073170545561,
          137.14379953718876,
          140.39014905459132,
          147.27902507587612,
          32.635912374071985,
          -81.314278,
          146.73447185026714,
          133.48205481072037,
          38.83808433827175,
          -68.30449310013243,
          33.08764341530124,
          33.65236570153123,
          25.46047532904516,
          139.96745647880354,
          141.25314823354648,
          5.053132570691755,
          26.128782520478033,
          26.745302612329276,
          26.895142800086475,
          139.4251629402829,
          -0.8653330885248,
          24.612864779731442,
          5.5894561172093455,
          138.23897402742574,
          29.261356086228428,
          5.5991645188492765,
          24.25481699013978,
          26.933773896508768,
          24.350935124985458,
          23.796949151399215,
          140.13584969703714,
          5.5721528248571275,
          29.236285748068173,
          25.624691005966266,
          25.723481470697422,
          24.90814684353292,
          24.189575001044624,
          147.3683595858013,
          25.291384078200803,
          -81.085317,
          125.78742919713191,
          145.76167885915638,
          23.11224176150521,
          139.96617152175995,
          140.0673165900393,
          28.490678818673363,
          -118.66888889999998,
          -81.24836,
          -81.085317,
          -11.949746342300958,
          29.457309382668015,
          24.154199456171117,
          33.83242924666901,
          25.336951189878747,
          25.442888423391533,
          4.342710486779855,
          19.775751159734504,
          24.425489866895543,
          -92.973889,
          -92.5583,
          -81.314449,
          -81.085317,
          -118.4622222,
          -118.10544,
          -66.71514727835158,
          28.957613591734027,
          24.15904609267727,
          25.60411936346031,
          27.437838205581603,
          28.855603032498763,
          28.969304007635042,
          27.34151334088216,
          23.958303953071848,
          23.608413183104318,
          23.891138700244177,
          23.183202059395857,
          -60.54322013405463,
          131.98437690174902,
          -118.52992278167513,
          24.16444139550804,
          25.21332028341864,
          28.4728767783849,
          28.24967569124323,
          25.007763225542,
          25.889295293482096,
          24.46233082295362,
          26.754148669766906,
          23.55662384457641,
          24.17137656038433,
          133.13946134985105,
          28.207039347601768,
          28.545461311198515,
          24.591782035299385,
          24.34650207283469,
          28.445732347747235,
          24.186840050383278,
          -0.45518888252213874,
          28.507116677675402,
          26.370645269223722,
          28.530738775087897,
          28.59755833422412,
          27.078157404442244,
          128.0892515441246,
          28.838865355440987,
          6.2744603623300055,
          132.55111940108387,
          26.560440507239445,
          24.572004218405016,
          32.604941578819094,
          25.39080862474087,
          26.780344047784485,
          32.6489740605288,
          28.715603136286663,
          -0.677084138142933,
          28.955048839890072,
          143.8686649039378,
          30.82633640276625,
          24.065052731403856,
          1.5259532162596807,
          32.20238942634547,
          25.306617211078507,
          139.45651729891827,
          139.77204418429983,
          24.38113238269224,
          29.519441922371442,
          27.225922149092586,
          24.661319102789626,
          26.293489489141802,
          23.734281689835793,
          102.79340642999857,
          145.6479987140522,
          33.21019872367589,
          25.63814608099397,
          25.282955006640076,
          24.682404353351295,
          25.315212007970267,
          25.596329189778796,
          25.387561079471688,
          27.020264488215748,
          24.0702803446804,
          28.790837717505433,
          33.336011825860055,
          27.06965475270917,
          23.316758534764386,
          28.32353654074709,
          28.635655693744823,
          8.3091365221266,
          26.408365326896188,
          23.997155074232403,
          5.707004688934809,
          26.201677045724278,
          23.54838429397989,
          28.23291241255462,
          25.25894235538426,
          27.275564416995593,
          28.639800757817643,
          24.720602259724377,
          23.345129131347512,
          24.432461879308494,
          32.82646701499584,
          10.556407306837032,
          24.330016349942017,
          34.23122225076278,
          27.026129872183947,
          24.891520142755166,
          25.787079105825043,
          24.17598543282239,
          28.39455601125998,
          26.340656663663538,
          133.14704800621266,
          28.243029948199272,
          132.21859673766923,
          27.146301000430448,
          27.090493266571126,
          28.657574587618303,
          5.8298971461638835,
          24.359244918800016,
          27.56431958608968,
          23.986243037059587,
          25.167160920092606,
          23.879051112068097,
          135.30977008759658,
          -12.750769932772974,
          22.207226394599648,
          24.289129354946223,
          19.436361210695747,
          24.670174324444023,
          23.86432821739193,
          132.31626558957637,
          26.485782308663456,
          144.12163105672698,
          135.35111581184833,
          27.8191907345819,
          -12.992992174680735,
          25.720513181555557,
          23.57150501859612,
          23.504470864279615,
          26.400942609511336,
          27.558520882581565,
          24.93377710957316,
          24.622956593525625,
          23.782546292895894,
          23.978395359210438,
          23.863578374571752,
          28.156225273652712,
          23.412842125647995,
          -1.1347593284638946,
          24.662069294403462,
          23.767332291801043,
          23.440408208448083,
          23.761056770447674,
          23.72777515054142,
          139.5608362749088,
          -0.3604746601194578,
          28.722049883211167,
          22.257301000497232,
          138.23859035149061,
          23.786380694334504,
          26.71447230443949,
          27.892779507728633,
          26.780350626723603,
          28.956841155498786,
          24.52201664491226,
          26.67130751487712,
          24.06583891588802,
          24.930584770818943,
          139.47646895777228,
          -1.7678305853207863,
          23.455012721342857,
          33.31830135195603,
          143.72523774771264,
          139.23801061055505,
          25.165886459683723,
          26.867690167838813,
          28.758573686998712,
          -13.22090340811671,
          33.240269573637335,
          146.22937318531575,
          138.7319185515361,
          134.36827041259988,
          140.0207255986671,
          120.64403253748308,
          31.862204905244752,
          145.49242110166543,
          141.6229536369306,
          27.91650149390078,
          -81.863359,
          24.829211857916732,
          24.743068123643862,
          26.853612988715838,
          32.230527128580206,
          29.075709532062127,
          5.197697717332322,
          26.139944295213834,
          26.368482527441614,
          5.71129068431093,
          143.92306171875097,
          31.407085731460796,
          26.277834194151403,
          26.639006605893616,
          27.849364991729065,
          32.458073966358306,
          26.587178802255785,
          28.603155493159004
         ],
         "xaxis": "x",
         "y": [
          44.419667,
          37.886167,
          38.106192,
          37.819667,
          37.776687,
          37.944756,
          36.099461,
          47.7533,
          40.967679,
          41.160217,
          47.873166,
          48.49425,
          48.6766667,
          47.879833,
          48.676667,
          48.864833,
          48.833,
          40.7461,
          27.9007,
          45.962929,
          30.160267,
          30.136267,
          42.687883,
          48.922702,
          41.790117,
          34.44045713,
          45.91109,
          41.414917,
          30.0104,
          48.853448,
          41.530133,
          46.845383,
          40.902691,
          41.138,
          43.468783,
          34.9691667,
          40.435833,
          36.860693,
          38.723474,
          43.3246667,
          35.564333,
          35.01891131,
          27.342234,
          42.554167,
          44.513117,
          38.591983,
          43.32806,
          48.5401,
          46.239167,
          46.745833,
          38.534833,
          46.5645,
          45.750667,
          27.7161111,
          44.9432,
          26.2161111,
          33.640167,
          47.9275,
          45.59207,
          45.254833,
          29.897157,
          41.878117,
          47.346967,
          43.159333,
          39.849463,
          45.49225,
          41.878167,
          41.389933,
          44.095333,
          46.719,
          39.837052,
          45.557667,
          40.00325,
          44.208967,
          45.20166,
          34.72053,
          43.629667,
          45.4575,
          47.80135,
          48.021703,
          44.775783,
          46.562652,
          46.6955,
          41.32945,
          34.43225,
          43.951467,
          45.9866,
          45.893,
          42.5217,
          44.666917,
          45.459,
          41.808115,
          40.192667,
          40.700733,
          35.4805,
          34.439631,
          40.81,
          32.978583,
          40.362383,
          33.667617,
          27.8508333,
          33.56159,
          45.92634,
          65.431117,
          34.317234,
          31.492967,
          38.8774,
          33.652167,
          39.973267,
          39.93385,
          43.34371,
          39.959444,
          41.396717,
          41.19055,
          41.213667,
          41.384833,
          26.4336111,
          34.446667,
          35.076367,
          45.4264,
          36.96974,
          46.035496,
          47.6911111,
          48.475167,
          45.4367,
          48.284,
          30.124639,
          43.235043,
          27.8030556,
          29.028061,
          41.307667,
          44.605167,
          44.294698,
          42.874844,
          41.660333,
          44.159395,
          43.062367,
          44.471667,
          34.84057,
          44.984139,
          37.678,
          30.121111,
          42.848933,
          29.414194,
          44.143117,
          43.860917,
          41.684141,
          42.183228,
          29.118233,
          30.061944,
          30.048167,
          67.678833,
          37.05025,
          47.841564,
          30.006806,
          44.984139,
          45.701499,
          33.501354,
          33.526501,
          42.0147,
          34.61695,
          42.978896,
          41.525,
          44.50165,
          35.729717,
          46.1944444,
          42.440228,
          48.484367,
          45.9453,
          64.477117,
          43.62067728,
          37.02525,
          44.79655,
          38.561317,
          42.682278,
          44.238553,
          43.971,
          42.942667,
          25.618717,
          26.3336111,
          38.665033,
          38.754333,
          38.36017,
          45.100667,
          38.5581,
          67.0685,
          36.795371,
          33.020333,
          33.859667,
          40.0975,
          39.1627,
          43.822274,
          46.399,
          47.7785,
          67.229706,
          45.4753,
          67.055867,
          31.468611,
          66.590567,
          42.0541864,
          41.406725,
          67.2835,
          25.64051,
          48.821248,
          41.368,
          26.3833333,
          42.323717,
          37.31998,
          44.803444,
          44.019167,
          66.135283,
          67.97,
          66.8268,
          36.238417,
          41.4988,
          47.621667,
          40.714483,
          41.315333,
          64.4515,
          41.4258333,
          30.778548,
          47.556967,
          42.604967,
          47.926667,
          47.282184,
          45.923944,
          34.1135,
          35.09519,
          44.4813,
          40.833867,
          44.43205,
          43.731972,
          42.425033,
          25.533017,
          33.802331,
          33.871222,
          41.853392,
          35.6166667,
          40.26395,
          25.6428,
          25.6428,
          25.6428,
          26.204167,
          30.597533,
          27.0647222,
          27.9261111,
          30.86855,
          66.326383,
          46.47261,
          68.17,
          65.085039,
          69.54,
          69.47,
          64.724717,
          65.851001,
          65.7275,
          62.766833,
          63.797167,
          66.38,
          65.887333,
          63.115533,
          63.378917,
          63.4187,
          65.582658,
          65.582333,
          65.631179,
          62.60625,
          64.2,
          64.73555,
          66.83,
          65.122783,
          65.636167,
          65.368167,
          63.9605,
          63.583333,
          68.05,
          40.245916,
          65.1,
          65.862217,
          67.337383,
          65.685833,
          65.4264,
          67.471117,
          38.8524,
          25.3807,
          64.222833,
          65.608833,
          64.713883,
          65.611833,
          64.041383,
          37.346567,
          68.203333,
          26.023867,
          33.59564,
          30.144389,
          33.066183,
          45.3894,
          32.891216,
          63.82,
          66.868083,
          65.66,
          26.023867,
          63.19,
          66.758333,
          66.565531,
          66.565333,
          44.444667,
          27.710079,
          26.0679,
          47.981964,
          47.981964,
          61.725167,
          47.981964,
          26.0679,
          35.6383333,
          39.74558,
          37.0422222,
          42.90025,
          48.091433,
          46.0330556,
          34.37424,
          33.59564,
          32.979417,
          46.029694,
          45.442333,
          37.548333,
          38.409203,
          45.6793,
          27.6380556,
          38.296972,
          44.28555,
          34.7437,
          30.654383,
          47.514617,
          31.619583,
          43.894257,
          31.651263,
          29.4605,
          34.15964,
          27.7786111,
          27.63524,
          45.06103,
          33.48351,
          65.33,
          25.6965,
          47.971759,
          48.052528,
          47.971759,
          31.3104,
          33.1714,
          38.004533,
          32.5855,
          33.4004,
          31.598917,
          46.60307,
          31.272,
          33.14225025,
          30.5882,
          31.19551,
          35.480433,
          27.6377,
          30.678683,
          31.388,
          39.088992,
          27.634061,
          27.640992,
          37.08052,
          34.022333,
          45.8489653,
          34.5366,
          34.9452,
          34.3904,
          27.691167,
          38.135833,
          30.79333333,
          34.3912,
          45.5388,
          47.820556,
          31.21625,
          31.393056,
          33.35625,
          43.906217,
          34.0228333,
          30.79611111,
          41.634483,
          45.828153,
          44.082867,
          31.389,
          31.5353,
          30.948889,
          31.296,
          31.675884,
          31.49885,
          31.0907,
          31.140417,
          36.777967,
          43.0403647,
          38.977571,
          31.93699,
          31.02825,
          31.171517,
          31.477867,
          -17.140748126715742,
          34.862633,
          46.045333,
          44.8851,
          42.605363,
          26.0847222,
          27.2613889,
          39.988532,
          37.843583,
          39.795177,
          26.9552778,
          52.736950773997876,
          52.82836269206902,
          52.577230572264625,
          52.82842547256827,
          53.303961088513816,
          38.990911,
          45.2683,
          42.599661,
          20.196407048537605,
          26.535617,
          52.85817489424867,
          52.69555137968115,
          53.07150997242144,
          -18.45615135360597,
          34.4394444,
          39.39074,
          22.378108034994153,
          52.753803968987945,
          34.097144,
          45.8658224,
          20.701027346261032,
          52.994791535758885,
          53.021292469949714,
          53.20736499396486,
          31.32807,
          33.2345,
          34.47,
          45.924063,
          32.3469,
          34.406667,
          26.535617,
          44.1032,
          34.4569444,
          44.539173,
          34.0568,
          34.483056,
          34.556389,
          35.241698,
          32.694722,
          32.739722,
          35.791717,
          34.804925,
          33.18283,
          34.148167,
          43.830833,
          30.656471,
          34.864556,
          -15.835208395563434,
          -26.15769464967942,
          35.9522222,
          35.7994444,
          34.824078,
          31.652552,
          30.526667,
          45.484958,
          42.469322,
          32.0775,
          31.357727,
          31.2002,
          30.2825,
          30.52675,
          52.41412557892783,
          53.61652896840107,
          52.66299807731874,
          37.607083,
          38.421667,
          40.488774,
          36.286667,
          47.681194,
          33.9393,
          41.793133,
          32.106667,
          31.519722,
          30.666667,
          43.0023488,
          35.6928,
          34.254,
          34.483611,
          34.897222,
          38.30984,
          46.0130556,
          45.8719037,
          33.177222,
          35.376467,
          30.296333,
          52.85876699802186,
          54.09133382574459,
          -21.127638641666138,
          53.55760581332528,
          52.32867033977128,
          48.063989,
          39.0001,
          31.396,
          34.3892,
          30.57545,
          31.511,
          14.983530731412626,
          52.92164678793293,
          8.81165425112995,
          30.83055556,
          45.09388889,
          47.911486,
          34.818835,
          39.359275,
          31.382,
          32.950182,
          34.514444,
          34.518889,
          31.31223,
          31.02545,
          42.7127671,
          35.463975,
          35.7446,
          34.823056,
          38.308702,
          38.379849,
          47.877953,
          -22.880015040317137,
          52.7984983333058,
          52.71342233651401,
          53.149974318272875,
          52.950340832469216,
          53.099330249283696,
          45.8902911,
          35.608,
          33.2916,
          31.715663,
          32.968973,
          34.4725,
          31.219667,
          34.485,
          31.309,
          31.5518,
          34.8665,
          31.019883,
          34.793871,
          34.428333,
          27.645975,
          47.694694,
          52.491306777350324,
          52.72668761932433,
          52.790086923128584,
          52.99781396892192,
          24.149399752201216,
          38.284253,
          38.840033,
          34.793871,
          34.6799,
          35.2178,
          30,
          31.266,
          45.471467,
          34.6025,
          34.596389,
          32.4388,
          38.478033,
          64.00716,
          -27.826953934999892,
          52.70194991037984,
          63.98684,
          63.86224,
          31.325,
          44.0295,
          -18.313152950049247,
          -17.876326107999237,
          52.92842706034211,
          37.279192,
          37.8524,
          40.00148,
          -27.937221640087028,
          -19.82053675307677,
          25.170351301225466,
          33.1403,
          52.368734257434795,
          38.4325,
          38.135833,
          52.463669983173354,
          52.58287942238706,
          23.297738540677937,
          33.811122,
          32.5425,
          27.66313,
          43.069733,
          48.0087,
          35.150441,
          34.493056,
          34.6025,
          29.106946,
          47.8777,
          31.70188,
          38.000989,
          34.774167,
          43.0403647,
          33.124583,
          36.828917,
          21.605404754101592,
          36.54464,
          35.0958333,
          21.894352137316375,
          18.184866698944987,
          42.226316,
          42.5327252,
          42.49905157,
          33.4361111,
          28.5455556,
          42.6456877,
          37.572977,
          30.69137,
          34.7827778,
          35.23225,
          35.4138889,
          42.7127671,
          35.3875,
          9.083553661344526,
          7.692642773911984,
          30.840383,
          35.2375,
          27.450144,
          35.3588889,
          34.2021667,
          35.29,
          46.813839,
          35.352222,
          6.4722070615264755,
          19.184945665656038,
          48.10692,
          39.450881,
          35.533333,
          35.557222,
          41.38635,
          35.5808333,
          37.434739,
          35.3772222,
          6.034291724755281,
          18.667007018674028,
          8.602967944408826,
          23.72915241526437,
          35.064545,
          46.75,
          31.91333333,
          34.7797,
          36.722833,
          34.498357,
          39.762809,
          43.814028,
          21.452035528128153,
          18.678665302940452,
          34.198056,
          34.5419444,
          19.461470788368985,
          19.488966951697932,
          11.775278612628606,
          24.301525028514796,
          34.677404,
          36.69066,
          36.359739,
          35.036733,
          37.696926,
          36.295278,
          31.3208,
          31.3104,
          -38.41490336043092,
          -38.31283399220279,
          36.41224104811645,
          36.38554453975656,
          35.23280662853817,
          22.115586717309117,
          7.091113536538049,
          20.246505139283567,
          18.426918684578474,
          18.47685293245474,
          30.7913889,
          30.040111,
          36.929438,
          -38.90761176297662,
          35.260560217576185,
          19.816972799399164,
          20.002757852703642,
          33.29738,
          36.1016667,
          35.2930556,
          35.97169,
          31.39577,
          26.85698047009338,
          35.2855556,
          47.66425,
          30.41722781,
          32.7013991,
          34.8113889,
          33.1027,
          35.411667,
          31.2341667,
          30.21145,
          35.006,
          46.808449,
          34.9108333,
          34.7555556,
          36.638967,
          36.789172,
          38.21551,
          38.107733,
          25.363433,
          36.329,
          35.425,
          35.343611,
          30.65722222,
          35.0361111,
          34.6877778,
          35.7291667,
          34.6505556,
          40.828583,
          25.401807141967396,
          18.561563626031457,
          30.172498156146386,
          19.40025883589619,
          36.25138889,
          43.92567,
          38.00901,
          38.410569,
          35.74013,
          8.725779376328596,
          25.758080773796838,
          8.800895231569687,
          20.757022191585733,
          36.22083333,
          36.26972222,
          35.23055556,
          36.10944444,
          37.17,
          29.736111,
          36.90321,
          32.110795,
          35.78444444,
          25.77018954782079,
          41.62845,
          30.981167,
          30.3924538,
          39.24725,
          38.856944,
          36.622144,
          35.0708333,
          33.0313,
          35.4472222,
          18.99305358283033,
          25.91382783620165,
          40.9313889,
          42.8927838,
          35.86196,
          35.68388889,
          35.21102558,
          36.483184,
          36.01388889,
          35.78972222,
          36.045122,
          43.0697222,
          45.63352778,
          45.8534023,
          35.89424331352189,
          20.833963490415655,
          46.076563131862045,
          -28.70039292169039,
          37.846725,
          38.813417,
          31.4848,
          27.626242,
          32.3823,
          34.254,
          36.313894,
          27.700278,
          37.632972,
          31.36422,
          31.356,
          30.011111,
          25.4447222,
          34.7029,
          36.32,
          21.723810660461393,
          12.380434315728099,
          25.79082244673053,
          18.927831254189883,
          18.978469509315342,
          22.05017236786709,
          31.31084976,
          34.891667,
          34.995333,
          37.460458,
          43.198056,
          34.685209,
          34.727783,
          35.2131,
          35.4259,
          40.987483,
          34.541944,
          30.981167,
          34.544444,
          34.875183,
          34.5792,
          37.2362,
          31.541,
          34.259633,
          32.4392,
          35.7015,
          36.7465,
          34.884565,
          29.444283,
          37.8649,
          7.335163304249659,
          21.57340199470004,
          18.54525691138357,
          36.33773,
          37.50853,
          35.438456,
          31.38475,
          37.6258,
          48.39459,
          35.1986,
          35.565833,
          36.015833,
          34.898278,
          31.775,
          34.884565,
          31.71675,
          31.018483,
          34.4025,
          36.0205556,
          34.742293,
          35.7209,
          22.746530344768676,
          22.955887691948824,
          -32.16994291564136,
          18.52601847848982,
          36.321944,
          28.389,
          33.743625,
          44.65416667,
          30.508333,
          30.015444,
          26.1748,
          36.918496,
          36.8921,
          36.070132,
          30.94375,
          36.031365,
          31.137414,
          31.72405,
          36.292222,
          22.32423758852614,
          21.51524095754266,
          33.4052778,
          37.498333,
          37.667337,
          36.918752,
          36.070132,
          37.149867,
          33.01188756779366,
          46.38149934342592,
          6.6191507667767935,
          6.516394496500546,
          20.188311094429693,
          6.511335898221756,
          37.715333,
          36.095542,
          35.663333,
          37.8725,
          34.349135,
          -17.160733613694457,
          -17.136374444179708,
          -18.21746470042773,
          -32.250307655063395,
          21.115634162233572,
          21.773339451997852,
          8.498101519852261,
          37.368867,
          35.163,
          34.7675,
          35.703611,
          36.072526,
          27.369151,
          9.635534119657786,
          22.483078778818328,
          23.18152643821413,
          8.435607326295585,
          31.325,
          7.935052059126491,
          21.11372737882551,
          -13.88999951701955,
          7.902587980806288,
          23.02153983632611,
          21.373585908949025,
          -22.024491925159413,
          16.171901237732552,
          21.431668536367507,
          4.11778052420226,
          10.958707288432578,
          10.854635061053113,
          19.743576184865212,
          20.916152625051392,
          10.717569091269917,
          18.64426234678043,
          29.924595912491988,
          22.5979169762239,
          29.838872783724792,
          19.184716809696404,
          -16.40598297286811,
          8.874035780887,
          -16.221010585212838,
          19.538833730103978,
          41.859,
          36.84222,
          34.322222,
          34.416667,
          32.432944,
          41.510793,
          35.1884,
          31.3088,
          31.28114,
          35.658049,
          31.525,
          33.7962,
          33.93515,
          36.0675,
          35.714619,
          31.3518,
          35.752404,
          34.876655,
          35.6191,
          34.819167,
          30.314117,
          29.4572,
          -15.460050308100092,
          6.322034256238772,
          8.791094987031062,
          -20.529612538275252,
          6.056571943380485,
          33.466157,
          36.786583,
          30.1792,
          34.3622,
          33.27269,
          36.044967,
          31.643,
          28.47109036,
          31.250992,
          35.698233,
          35.75125,
          31.232533,
          30.622167,
          30.404133,
          31.062498,
          33.8988889,
          41.547555,
          -30.942532865512696,
          30.38541667,
          33.9580556,
          34.712217,
          38.625558,
          34.11744675,
          30.13073292,
          28.47151854,
          33.170833,
          35.714619,
          34.716389,
          31.134602,
          42.04107,
          8.767704295098671,
          10.705370034617072,
          11.099954768823263,
          42.000536,
          34.745,
          13.460777229036738,
          -17.582193798972035,
          7.971437753501374,
          34.723,
          -19.338758738207215,
          15.058538175600468,
          -37.580056289934426,
          -20.427374195017812,
          34.756666,
          33.789533,
          32.913522,
          16.461894359006212,
          44.43069133042419,
          7.842581874359542,
          8.877503108012524,
          33.003833,
          26.566667,
          7.217614694615024,
          8.17501269597591,
          -22.643450133997057,
          -25.337344097177343,
          31.125228,
          32.896732,
          8.373105500593438,
          7.723215744328552,
          -33.330132018305164,
          8.27762601239225,
          8.355972966812852,
          30.825,
          14.298509735329041,
          30.437883,
          13.150422245391681,
          44.32929528069575,
          32.49105,
          34.13333333,
          -34.789985012057016,
          -34.800221174996494,
          13.094987169869531,
          31.583117,
          6.812385468960663,
          10.944443243024828,
          5.1587720054596415,
          7.021187520376965,
          5.740728789547437,
          5.707452633392768,
          8.639136349312977,
          7.921367182712196,
          8.485468125944077,
          -1.41379366550985,
          39.628117,
          31.417493,
          31.034866,
          30.886667,
          30.345217,
          28.664267,
          30.581117,
          30.369833,
          30.95888889,
          41.891333,
          -33.60615814406219,
          30.41878606,
          -34.66225013239765,
          33.7113,
          30.5792,
          -41.41849649911012,
          5.992173212751177,
          44.178633,
          31.448056,
          31.462534,
          30.5,
          31.065655,
          31.453611,
          31.374053,
          33.40895,
          34.13333333,
          31.317717,
          30.976,
          31.3924,
          31.175467,
          33.772783,
          31.3999,
          30.528333,
          31.007087,
          30.81601,
          7.581735889510397,
          7.224850642541192,
          31.026977,
          31.093738,
          31.070564,
          31.088143,
          14.434706510708589,
          8.106091862888794,
          4.244247573323041,
          4.430541130428701,
          7.1207920563773595,
          7.867227016877645,
          34.773117,
          32.966333,
          38.0065,
          35.591333,
          -41.545329380223215,
          11.719616923580602,
          -29.546235675996385,
          -41.612478784100944,
          -32.7383457270778,
          -30.104321913048224,
          -41.793902651126935,
          31.3347,
          31.2783,
          -36.596690265882046,
          -36.61220067228274,
          8.310542967083634,
          6.6533546319964385,
          9.291269831717326,
          35.70057,
          -21.644081703761458,
          4.391303135306596,
          -23.71304577349745,
          34.895881,
          27.639541,
          -21.57456381971143,
          -21.908774378537625,
          6.371227222863023,
          -26.728098862895262,
          32.949027,
          27.639541,
          31.0947,
          30.348833,
          26.194033,
          35.780278,
          -21.28478969016617,
          -21.88545679030662,
          -23.61386299955419,
          -21.744266064008457,
          -21.896389066878967,
          -42.42085113643347,
          -21.986378553248763,
          -22.63570407297024,
          -21.968328145153276,
          -39.549283063006605,
          4.7114204743932655,
          -21.24119156101582,
          4.169479291926629,
          -18.171704188049798,
          -41.87159400914621,
          6.526968954050283,
          37.1205556,
          30.407667,
          25.359967,
          7.217044933492573,
          -44.11259937851845,
          6.542163458246979,
          4.4619040243101615,
          7.59098835949667,
          6.919191198615752,
          -28.72112020073024,
          34.13333333,
          35.654283,
          36.702667,
          30.196,
          -20.88336116083613,
          -23.6954090111821,
          -20.478765454783822,
          4.270072900099985,
          -29.793679739330727,
          -22.799132904857977,
          13.012954372032757,
          8.896386720677826,
          7.1993776159901754,
          6.604124756620417,
          10.73437955446191,
          -21.83254646420518,
          35.038367,
          26.18145,
          -37.390189980014526,
          7.336781406196947,
          -22.03345377254713,
          11.453506668235889,
          -37.108913005351596,
          9.39538873791439,
          25.99505,
          -22.037281256641645,
          31.963781,
          32.912309,
          31.100967,
          31.1223,
          25.99505,
          -19.080078881179855,
          6.1079861834422955,
          7.681942136359429,
          11.781485004998006,
          6.556596691689325,
          6.5872401959301845,
          7.044105874080033,
          31.850833,
          31.552117,
          25.99505,
          33.439444,
          31.724787241878797,
          15.978467335760367,
          -20.398595554411198,
          -21.823154313911843,
          -21.161524269874647,
          7.204621254029128,
          -20.68107420454767,
          6.700097422951898,
          -20.579189452891754,
          7.932238558926085,
          6.705074429748912,
          32.600524,
          31.42057,
          43.992117,
          -21.69205573182248,
          -32.050764362710375,
          13.586130211170978,
          6.098686187696297,
          -21.856100928187576,
          6.8331246646720025,
          7.584112224441501,
          7.2673301530460845,
          5.763256592769755,
          4.01911380504089,
          6.7545981231062,
          8.940599942691449,
          4.336038515922353,
          34.543023,
          34.25595,
          8.722052538647928,
          8.15763276525565,
          6.744350843999465,
          7.836722476372874,
          7.349111945234301,
          7.892386383174827,
          6.615419856825279,
          5.982303785656416,
          7.2563871234814705,
          7.3454139211179825,
          6.666161404898236,
          7.884066761994765,
          10.205279962666301,
          7.341853267579222,
          6.1817979339761795,
          6.855641426990895,
          -37.923025622132336,
          12.976353057355581,
          7.181224669158937,
          7.270970996872753,
          29.131072,
          29.130928,
          13.061045845572231,
          12.938343020102494,
          33.59301667,
          31.0459,
          -23.215124418195842,
          -21.97063635244438,
          1.1868267133553414,
          -19.845794552829524,
          31.822407,
          31.488211,
          -23.365211933574177,
          -23.216810394284703,
          -17.40762574804121,
          -21.432914061210248,
          -24.826809836165882,
          8.430679414319266,
          27.696106,
          -22.18161304787214,
          -19.806994870681912,
          1.1341487917791186,
          6.515491876709809,
          7.421579749843402,
          6.45361411829087,
          6.6698264892648735,
          -21.42530741847581,
          -21.949739850997183,
          9.78260358107889,
          4.447515288257361,
          6.7251584034355165,
          6.0864942896052545,
          -20.24571330288662,
          7.548671615640485,
          6.75767404080306,
          10.993517693760355,
          -19.305321305745732,
          3.7938585656117905,
          10.992991359871047,
          7.775183636136251,
          6.5167610956259265,
          7.743850682212539,
          7.664019043088235,
          -20.462994352762895,
          10.76482854700278,
          5.608946883876972,
          6.765445317063179,
          6.78049963138462,
          6.95073734290221,
          7.4047704422892755,
          -20.69990393467754,
          7.734524458992688,
          25.94815,
          -30.072085940749542,
          -23.30549663822745,
          8.809754411235778,
          -19.84364421931252,
          -19.85475106635724,
          6.075907061947564,
          34.1855556,
          27.704922,
          25.94815,
          15.702602425320045,
          3.8292096493421384,
          7.9138061243900415,
          7.33279417079421,
          6.6520885959471014,
          6.75566072257997,
          9.958859536005502,
          7.767161010147166,
          7.72251172360353,
          31.450278,
          31.216583,
          27.739102,
          25.94815,
          34.3261111,
          34.19163,
          -35.955676085213405,
          6.046657074348727,
          7.52858009754865,
          6.903869153322301,
          6.5421536504062585,
          6.295209944028489,
          5.9993010878662725,
          6.298346450801321,
          7.68465148237645,
          7.851640253908411,
          7.5493546097607265,
          8.030579323339342,
          -28.71080477762367,
          -18.480783674567423,
          34.07474954660046,
          7.514049306173646,
          7.725678776004848,
          6.378599198369397,
          6.147168518914891,
          7.0858004280652045,
          6.246463308773805,
          7.474815796445172,
          6.1867273120739315,
          7.487238628677368,
          7.946916634133042,
          -17.873800587891576,
          6.297082799880828,
          5.6308675668764545,
          7.920818355859517,
          6.475854407302515,
          5.811804597708213,
          8.069433371206948,
          7.27309173801219,
          5.420440109925529,
          6.353502387198686,
          5.188508864013532,
          6.177868233600621,
          6.5806697058127765,
          -19.320116584927433,
          7.307432235925848,
          9.946286633133889,
          -18.43698266365114,
          6.757619497248186,
          7.918437301030898,
          9.453703747048591,
          7.471348448177638,
          5.968224719019124,
          8.34621625159277,
          5.823383987547148,
          7.376306623347026,
          5.4773990472185385,
          -19.94182459663413,
          4.694532163988489,
          7.920999912004943,
          11.31447983579301,
          4.991143274451287,
          7.135346282679075,
          -19.668492785459172,
          -20.322378666275718,
          7.945323806197853,
          5.772648499422528,
          6.3041508863206275,
          6.901886751822888,
          7.147499841829623,
          8.865031092041827,
          13.552649251455412,
          -23.141873376916116,
          5.6053010320311065,
          7.159515007951264,
          7.263545725315287,
          7.426610876233672,
          7.1314161961233085,
          7.154042552980861,
          7.321409363258191,
          6.932637287457487,
          8.236082854540957,
          6.108187699792875,
          5.653799586554412,
          6.814826268339849,
          8.065929197503586,
          5.782587809832636,
          5.366769725535472,
          7.467258639172781,
          7.279329852468022,
          7.8233705991794,
          10.738353922767246,
          7.108130554584191,
          8.328229278608866,
          5.9826071809141546,
          7.266378284672815,
          6.715445291087088,
          5.161423251213588,
          7.539876500960803,
          8.804583536249867,
          7.035208922425168,
          9.636456734238907,
          9.019905871814057,
          8.374277877520441,
          6.7273560490286295,
          6.465793080806328,
          8.121046275394463,
          7.899065703811093,
          8.170017937311421,
          6.010655029311915,
          7.3874141213259055,
          -17.726733463210202,
          5.76598484550449,
          -17.063989224331138,
          6.5102230566474395,
          6.292370024590595,
          5.493649613768618,
          10.445773245470278,
          8.145142021584281,
          6.734463068611611,
          8.242940241935587,
          7.47456590260947,
          8.103531536277943,
          -17.25107698706078,
          13.21831060433692,
          8.803820061048462,
          8.510301301586463,
          10.904065572091588,
          8.146170763792089,
          7.748692625272149,
          -20.30091561235889,
          6.858677543263291,
          -20.139891575418808,
          -19.652437610671935,
          5.54851688979342,
          13.119811868550203,
          7.560869577734518,
          8.931689747188221,
          8.629271989415493,
          6.547949349626037,
          6.689468337688547,
          7.646743643824021,
          7.599629854515654,
          8.063308081713378,
          8.237630868150829,
          8.129756506247471,
          6.109092952157781,
          8.151080191066356,
          10.04018296591252,
          7.1086760671747165,
          8.208512372088983,
          8.696436566740989,
          7.510097387588691,
          8.978976064561609,
          -19.968608906779078,
          7.195006799160247,
          6.569177788788793,
          -33.34002923002207,
          -18.681559457608014,
          8.438761940963216,
          6.607790956857743,
          5.902791592719028,
          6.889039832041436,
          5.84345069172117,
          8.648603871350426,
          6.308960834748664,
          8.411463915216089,
          7.907935485235593,
          -20.06234842672937,
          10.676440358772018,
          7.160662169295666,
          5.960643929205326,
          -20.040331468586977,
          -19.08812664966159,
          7.9984385983102895,
          7.304052627950877,
          6.03307996712853,
          12.928030726983149,
          6.060168006483732,
          -23.24685599582275,
          -19.883834863665182,
          -17.732976374049688,
          -20.426138708874472,
          -30.616429900612538,
          6.851591531000284,
          -21.652017104608205,
          -19.269656671018662,
          6.0168965778360946,
          37.715412,
          7.1966907864372915,
          7.036564030571083,
          6.8067294949666515,
          9.166606847356443,
          5.935681496147373,
          11.748182304578076,
          6.508332043399119,
          7.968555698168621,
          10.351029112492064,
          -20.16860798854308,
          7.805273453015888,
          4.3393957102931395,
          6.372504507964625,
          6.164890317160012,
          9.433875777081592,
          8.304323084719792,
          6.778297162825552
         ],
         "yaxis": "y"
        },
        {
         "customdata": [
          [
           "Cyclone Lorena"
          ],
          [
           "Hurricane Kiko"
          ]
         ],
         "hovertemplate": "CATEGORY=Severe Storms<br>LONGITUDE=%{x}<br>LATITUDE=%{y}<br>TITLE=%{customdata[0]}<extra></extra>",
         "legendgroup": "Severe Storms",
         "marker": {
          "color": "#EF553B",
          "symbol": "circle"
         },
         "mode": "markers",
         "name": "Severe Storms",
         "showlegend": true,
         "type": "scattergl",
         "x": [
          -107.4,
          -122.7
         ],
         "xaxis": "x",
         "y": [
          18,
          14.4
         ],
         "yaxis": "y"
        },
        {
         "customdata": [
          [
           "Dempo Volcano, Indonesia"
          ],
          [
           "Bagana Volcano, Papua New Guinea"
          ],
          [
           "Whakaari/White Island Volcano, New Zealand"
          ],
          [
           "Karymsky Volcano, Russia"
          ],
          [
           "Krasheninnikov Volcano, Russia"
          ],
          [
           "Nevado del Ruiz Volcano, Colombia"
          ],
          [
           "Reykjanes Volcano, Iceland"
          ],
          [
           "Telica Volcano, Nicaragua"
          ],
          [
           "Apaneca Range Volcano, El Salvador"
          ],
          [
           "Kirishimayama Volcano, Japan"
          ],
          [
           "Raung Volcano, Indonesia"
          ],
          [
           "Popocatepetl Volcano, Mexico"
          ],
          [
           "Klyuchevskoy Volcano, Russia"
          ],
          [
           "Poas Volcano, Costa Rica"
          ],
          [
           "Lewotolok Volcano, Indonesia"
          ],
          [
           "Yasur Volcano, Vanuatu"
          ],
          [
           "Kilauea Volcano, Hawaii"
          ]
         ],
         "hovertemplate": "CATEGORY=Volcanoes<br>LONGITUDE=%{x}<br>LATITUDE=%{y}<br>TITLE=%{customdata[0]}<extra></extra>",
         "legendgroup": "Volcanoes",
         "marker": {
          "color": "#00cc96",
          "symbol": "circle"
         },
         "mode": "markers",
         "name": "Volcanoes",
         "showlegend": true,
         "type": "scattergl",
         "x": [
          103.121,
          155.196,
          177.18,
          159.443,
          160.27,
          -75.324,
          -22.717,
          -86.84,
          -89.742,
          130.862,
          114.056,
          -98.622,
          160.642,
          -84.233,
          123.508,
          169.447,
          -155.287
         ],
         "xaxis": "x",
         "y": [
          -4.016,
          -6.137,
          -37.52,
          54.049,
          54.596,
          4.892,
          63.817,
          12.606,
          13.872,
          31.934,
          -8.119,
          19.023,
          56.056,
          10.2,
          -8.274,
          -19.532,
          19.421
         ],
         "yaxis": "y"
        },
        {
         "customdata": [
          [
           "Iceberg A23F"
          ],
          [
           "Iceberg A23D"
          ],
          [
           "Iceberg A23E"
          ],
          [
           "Iceberg B22H"
          ],
          [
           "Iceberg B22I"
          ],
          [
           "Iceberg D36A"
          ],
          [
           "Iceberg D36B"
          ],
          [
           "Iceberg A85"
          ],
          [
           "Iceberg D37"
          ],
          [
           "Iceberg A84"
          ]
         ],
         "hovertemplate": "CATEGORY=Sea and Lake Ice<br>LONGITUDE=%{x}<br>LATITUDE=%{y}<br>TITLE=%{customdata[0]}<extra></extra>",
         "legendgroup": "Sea and Lake Ice",
         "marker": {
          "color": "#ab63fa",
          "symbol": "circle"
         },
         "mode": "markers",
         "name": "Sea and Lake Ice",
         "showlegend": true,
         "type": "scattergl",
         "x": [
          -35.52,
          -33.42,
          -33.26,
          -168.78,
          -168.96,
          86.55,
          86.74,
          -48.54,
          36.34,
          -75.8
         ],
         "xaxis": "x",
         "y": [
          -53.88,
          -56.44,
          -56.51,
          -73.71,
          -73.85,
          -66.32,
          -66.25,
          -77.51,
          -69.22,
          -72.69
         ],
         "yaxis": "y"
        }
       ],
       "layout": {
        "height": 500,
        "legend": {
         "title": {
          "text": "Event Type"
         },
         "tracegroupgap": 0
        },
        "showlegend": true,
        "template": {
         "data": {
          "bar": [
           {
            "error_x": {
             "color": "#2a3f5f"
            },
            "error_y": {
             "color": "#2a3f5f"
            },
            "marker": {
             "line": {
              "color": "#E5ECF6",
              "width": 0.5
             },
             "pattern": {
              "fillmode": "overlay",
              "size": 10,
              "solidity": 0.2
             }
            },
            "type": "bar"
           }
          ],
          "barpolar": [
           {
            "marker": {
             "line": {
              "color": "#E5ECF6",
              "width": 0.5
             },
             "pattern": {
              "fillmode": "overlay",
              "size": 10,
              "solidity": 0.2
             }
            },
            "type": "barpolar"
           }
          ],
          "carpet": [
           {
            "aaxis": {
             "endlinecolor": "#2a3f5f",
             "gridcolor": "white",
             "linecolor": "white",
             "minorgridcolor": "white",
             "startlinecolor": "#2a3f5f"
            },
            "baxis": {
             "endlinecolor": "#2a3f5f",
             "gridcolor": "white",
             "linecolor": "white",
             "minorgridcolor": "white",
             "startlinecolor": "#2a3f5f"
            },
            "type": "carpet"
           }
          ],
          "choropleth": [
           {
            "colorbar": {
             "outlinewidth": 0,
             "ticks": ""
            },
            "type": "choropleth"
           }
          ],
          "contour": [
           {
            "colorbar": {
             "outlinewidth": 0,
             "ticks": ""
            },
            "colorscale": [
             [
              0,
              "#0d0887"
             ],
             [
              0.1111111111111111,
              "#46039f"
             ],
             [
              0.2222222222222222,
              "#7201a8"
             ],
             [
              0.3333333333333333,
              "#9c179e"
             ],
             [
              0.4444444444444444,
              "#bd3786"
             ],
             [
              0.5555555555555556,
              "#d8576b"
             ],
             [
              0.6666666666666666,
              "#ed7953"
             ],
             [
              0.7777777777777778,
              "#fb9f3a"
             ],
             [
              0.8888888888888888,
              "#fdca26"
             ],
             [
              1,
              "#f0f921"
             ]
            ],
            "type": "contour"
           }
          ],
          "contourcarpet": [
           {
            "colorbar": {
             "outlinewidth": 0,
             "ticks": ""
            },
            "type": "contourcarpet"
           }
          ],
          "heatmap": [
           {
            "colorbar": {
             "outlinewidth": 0,
             "ticks": ""
            },
            "colorscale": [
             [
              0,
              "#0d0887"
             ],
             [
              0.1111111111111111,
              "#46039f"
             ],
             [
              0.2222222222222222,
              "#7201a8"
             ],
             [
              0.3333333333333333,
              "#9c179e"
             ],
             [
              0.4444444444444444,
              "#bd3786"
             ],
             [
              0.5555555555555556,
              "#d8576b"
             ],
             [
              0.6666666666666666,
              "#ed7953"
             ],
             [
              0.7777777777777778,
              "#fb9f3a"
             ],
             [
              0.8888888888888888,
              "#fdca26"
             ],
             [
              1,
              "#f0f921"
             ]
            ],
            "type": "heatmap"
           }
          ],
          "heatmapgl": [
           {
            "colorbar": {
             "outlinewidth": 0,
             "ticks": ""
            },
            "colorscale": [
             [
              0,
              "#0d0887"
             ],
             [
              0.1111111111111111,
              "#46039f"
             ],
             [
              0.2222222222222222,
              "#7201a8"
             ],
             [
              0.3333333333333333,
              "#9c179e"
             ],
             [
              0.4444444444444444,
              "#bd3786"
             ],
             [
              0.5555555555555556,
              "#d8576b"
             ],
             [
              0.6666666666666666,
              "#ed7953"
             ],
             [
              0.7777777777777778,
              "#fb9f3a"
             ],
             [
              0.8888888888888888,
              "#fdca26"
             ],
             [
              1,
              "#f0f921"
             ]
            ],
            "type": "heatmapgl"
           }
          ],
          "histogram": [
           {
            "marker": {
             "pattern": {
              "fillmode": "overlay",
              "size": 10,
              "solidity": 0.2
             }
            },
            "type": "histogram"
           }
          ],
          "histogram2d": [
           {
            "colorbar": {
             "outlinewidth": 0,
             "ticks": ""
            },
            "colorscale": [
             [
              0,
              "#0d0887"
             ],
             [
              0.1111111111111111,
              "#46039f"
             ],
             [
              0.2222222222222222,
              "#7201a8"
             ],
             [
              0.3333333333333333,
              "#9c179e"
             ],
             [
              0.4444444444444444,
              "#bd3786"
             ],
             [
              0.5555555555555556,
              "#d8576b"
             ],
             [
              0.6666666666666666,
              "#ed7953"
             ],
             [
              0.7777777777777778,
              "#fb9f3a"
             ],
             [
              0.8888888888888888,
              "#fdca26"
             ],
             [
              1,
              "#f0f921"
             ]
            ],
            "type": "histogram2d"
           }
          ],
          "histogram2dcontour": [
           {
            "colorbar": {
             "outlinewidth": 0,
             "ticks": ""
            },
            "colorscale": [
             [
              0,
              "#0d0887"
             ],
             [
              0.1111111111111111,
              "#46039f"
             ],
             [
              0.2222222222222222,
              "#7201a8"
             ],
             [
              0.3333333333333333,
              "#9c179e"
             ],
             [
              0.4444444444444444,
              "#bd3786"
             ],
             [
              0.5555555555555556,
              "#d8576b"
             ],
             [
              0.6666666666666666,
              "#ed7953"
             ],
             [
              0.7777777777777778,
              "#fb9f3a"
             ],
             [
              0.8888888888888888,
              "#fdca26"
             ],
             [
              1,
              "#f0f921"
             ]
            ],
            "type": "histogram2dcontour"
           }
          ],
          "mesh3d": [
           {
            "colorbar": {
             "outlinewidth": 0,
             "ticks": ""
            },
            "type": "mesh3d"
           }
          ],
          "parcoords": [
           {
            "line": {
             "colorbar": {
              "outlinewidth": 0,
              "ticks": ""
             }
            },
            "type": "parcoords"
           }
          ],
          "pie": [
           {
            "automargin": true,
            "type": "pie"
           }
          ],
          "scatter": [
           {
            "fillpattern": {
             "fillmode": "overlay",
             "size": 10,
             "solidity": 0.2
            },
            "type": "scatter"
           }
          ],
          "scatter3d": [
           {
            "line": {
             "colorbar": {
              "outlinewidth": 0,
              "ticks": ""
             }
            },
            "marker": {
             "colorbar": {
              "outlinewidth": 0,
              "ticks": ""
             }
            },
            "type": "scatter3d"
           }
          ],
          "scattercarpet": [
           {
            "marker": {
             "colorbar": {
              "outlinewidth": 0,
              "ticks": ""
             }
            },
            "type": "scattercarpet"
           }
          ],
          "scattergeo": [
           {
            "marker": {
             "colorbar": {
              "outlinewidth": 0,
              "ticks": ""
             }
            },
            "type": "scattergeo"
           }
          ],
          "scattergl": [
           {
            "marker": {
             "colorbar": {
              "outlinewidth": 0,
              "ticks": ""
             }
            },
            "type": "scattergl"
           }
          ],
          "scattermapbox": [
           {
            "marker": {
             "colorbar": {
              "outlinewidth": 0,
              "ticks": ""
             }
            },
            "type": "scattermapbox"
           }
          ],
          "scatterpolar": [
           {
            "marker": {
             "colorbar": {
              "outlinewidth": 0,
              "ticks": ""
             }
            },
            "type": "scatterpolar"
           }
          ],
          "scatterpolargl": [
           {
            "marker": {
             "colorbar": {
              "outlinewidth": 0,
              "ticks": ""
             }
            },
            "type": "scatterpolargl"
           }
          ],
          "scatterternary": [
           {
            "marker": {
             "colorbar": {
              "outlinewidth": 0,
              "ticks": ""
             }
            },
            "type": "scatterternary"
           }
          ],
          "surface": [
           {
            "colorbar": {
             "outlinewidth": 0,
             "ticks": ""
            },
            "colorscale": [
             [
              0,
              "#0d0887"
             ],
             [
              0.1111111111111111,
              "#46039f"
             ],
             [
              0.2222222222222222,
              "#7201a8"
             ],
             [
              0.3333333333333333,
              "#9c179e"
             ],
             [
              0.4444444444444444,
              "#bd3786"
             ],
             [
              0.5555555555555556,
              "#d8576b"
             ],
             [
              0.6666666666666666,
              "#ed7953"
             ],
             [
              0.7777777777777778,
              "#fb9f3a"
             ],
             [
              0.8888888888888888,
              "#fdca26"
             ],
             [
              1,
              "#f0f921"
             ]
            ],
            "type": "surface"
           }
          ],
          "table": [
           {
            "cells": {
             "fill": {
              "color": "#EBF0F8"
             },
             "line": {
              "color": "white"
             }
            },
            "header": {
             "fill": {
              "color": "#C8D4E3"
             },
             "line": {
              "color": "white"
             }
            },
            "type": "table"
           }
          ]
         },
         "layout": {
          "annotationdefaults": {
           "arrowcolor": "#2a3f5f",
           "arrowhead": 0,
           "arrowwidth": 1
          },
          "autotypenumbers": "strict",
          "coloraxis": {
           "colorbar": {
            "outlinewidth": 0,
            "ticks": ""
           }
          },
          "colorscale": {
           "diverging": [
            [
             0,
             "#8e0152"
            ],
            [
             0.1,
             "#c51b7d"
            ],
            [
             0.2,
             "#de77ae"
            ],
            [
             0.3,
             "#f1b6da"
            ],
            [
             0.4,
             "#fde0ef"
            ],
            [
             0.5,
             "#f7f7f7"
            ],
            [
             0.6,
             "#e6f5d0"
            ],
            [
             0.7,
             "#b8e186"
            ],
            [
             0.8,
             "#7fbc41"
            ],
            [
             0.9,
             "#4d9221"
            ],
            [
             1,
             "#276419"
            ]
           ],
           "sequential": [
            [
             0,
             "#0d0887"
            ],
            [
             0.1111111111111111,
             "#46039f"
            ],
            [
             0.2222222222222222,
             "#7201a8"
            ],
            [
             0.3333333333333333,
             "#9c179e"
            ],
            [
             0.4444444444444444,
             "#bd3786"
            ],
            [
             0.5555555555555556,
             "#d8576b"
            ],
            [
             0.6666666666666666,
             "#ed7953"
            ],
            [
             0.7777777777777778,
             "#fb9f3a"
            ],
            [
             0.8888888888888888,
             "#fdca26"
            ],
            [
             1,
             "#f0f921"
            ]
           ],
           "sequentialminus": [
            [
             0,
             "#0d0887"
            ],
            [
             0.1111111111111111,
             "#46039f"
            ],
            [
             0.2222222222222222,
             "#7201a8"
            ],
            [
             0.3333333333333333,
             "#9c179e"
            ],
            [
             0.4444444444444444,
             "#bd3786"
            ],
            [
             0.5555555555555556,
             "#d8576b"
            ],
            [
             0.6666666666666666,
             "#ed7953"
            ],
            [
             0.7777777777777778,
             "#fb9f3a"
            ],
            [
             0.8888888888888888,
             "#fdca26"
            ],
            [
             1,
             "#f0f921"
            ]
           ]
          },
          "colorway": [
           "#636efa",
           "#EF553B",
           "#00cc96",
           "#ab63fa",
           "#FFA15A",
           "#19d3f3",
           "#FF6692",
           "#B6E880",
           "#FF97FF",
           "#FECB52"
          ],
          "font": {
           "color": "#2a3f5f"
          },
          "geo": {
           "bgcolor": "white",
           "lakecolor": "white",
           "landcolor": "#E5ECF6",
           "showlakes": true,
           "showland": true,
           "subunitcolor": "white"
          },
          "hoverlabel": {
           "align": "left"
          },
          "hovermode": "closest",
          "mapbox": {
           "style": "light"
          },
          "paper_bgcolor": "white",
          "plot_bgcolor": "#E5ECF6",
          "polar": {
           "angularaxis": {
            "gridcolor": "white",
            "linecolor": "white",
            "ticks": ""
           },
           "bgcolor": "#E5ECF6",
           "radialaxis": {
            "gridcolor": "white",
            "linecolor": "white",
            "ticks": ""
           }
          },
          "scene": {
           "xaxis": {
            "backgroundcolor": "#E5ECF6",
            "gridcolor": "white",
            "gridwidth": 2,
            "linecolor": "white",
            "showbackground": true,
            "ticks": "",
            "zerolinecolor": "white"
           },
           "yaxis": {
            "backgroundcolor": "#E5ECF6",
            "gridcolor": "white",
            "gridwidth": 2,
            "linecolor": "white",
            "showbackground": true,
            "ticks": "",
            "zerolinecolor": "white"
           },
           "zaxis": {
            "backgroundcolor": "#E5ECF6",
            "gridcolor": "white",
            "gridwidth": 2,
            "linecolor": "white",
            "showbackground": true,
            "ticks": "",
            "zerolinecolor": "white"
           }
          },
          "shapedefaults": {
           "line": {
            "color": "#2a3f5f"
           }
          },
          "ternary": {
           "aaxis": {
            "gridcolor": "white",
            "linecolor": "white",
            "ticks": ""
           },
           "baxis": {
            "gridcolor": "white",
            "linecolor": "white",
            "ticks": ""
           },
           "bgcolor": "#E5ECF6",
           "caxis": {
            "gridcolor": "white",
            "linecolor": "white",
            "ticks": ""
           }
          },
          "title": {
           "x": 0.05
          },
          "xaxis": {
           "automargin": true,
           "gridcolor": "white",
           "linecolor": "white",
           "ticks": "",
           "title": {
            "standoff": 15
           },
           "zerolinecolor": "white",
           "zerolinewidth": 2
          },
          "yaxis": {
           "automargin": true,
           "gridcolor": "white",
           "linecolor": "white",
           "ticks": "",
           "title": {
            "standoff": 15
           },
           "zerolinecolor": "white",
           "zerolinewidth": 2
          }
         }
        },
        "title": {
         "text": "Event Locations"
        },
        "width": 800,
        "xaxis": {
         "anchor": "y",
         "domain": [
          0,
          1
         ],
         "title": {
          "text": "LONGITUDE"
         }
        },
        "yaxis": {
         "anchor": "x",
         "domain": [
          0,
          1
         ],
         "title": {
          "text": "LATITUDE"
         }
        }
       }
      }
     },
     "metadata": {},
     "output_type": "display_data"
    },
    {
     "data": {
      "application/vnd.plotly.v1+json": {
       "config": {
        "plotlyServerURL": "https://plot.ly"
       },
       "data": [
        {
         "coloraxis": "coloraxis",
         "hovertemplate": "Predicted Category: %{x}<br>Actual Category: %{y}<br>Count: %{z}<extra></extra>",
         "name": "0",
         "type": "heatmap",
         "x": [
          "Sea and Lake Ice",
          "Severe Storms",
          "Volcanoes",
          "Wildfires"
         ],
         "xaxis": "x",
         "y": [
          "Sea and Lake Ice",
          "Volcanoes",
          "Wildfires"
         ],
         "yaxis": "y",
         "z": [
          [
           2,
           0,
           0,
           0
          ],
          [
           0,
           1,
           3,
           0
          ],
          [
           0,
           0,
           0,
           301
          ]
         ]
        }
       ],
       "layout": {
        "coloraxis": {
         "colorbar": {
          "title": {
           "text": "Count"
          }
         },
         "colorscale": [
          [
           0,
           "rgb(5,48,97)"
          ],
          [
           0.1,
           "rgb(33,102,172)"
          ],
          [
           0.2,
           "rgb(67,147,195)"
          ],
          [
           0.3,
           "rgb(146,197,222)"
          ],
          [
           0.4,
           "rgb(209,229,240)"
          ],
          [
           0.5,
           "rgb(247,247,247)"
          ],
          [
           0.6,
           "rgb(253,219,199)"
          ],
          [
           0.7,
           "rgb(244,165,130)"
          ],
          [
           0.8,
           "rgb(214,96,77)"
          ],
          [
           0.9,
           "rgb(178,24,43)"
          ],
          [
           1,
           "rgb(103,0,31)"
          ]
         ]
        },
        "height": 600,
        "template": {
         "data": {
          "bar": [
           {
            "error_x": {
             "color": "#2a3f5f"
            },
            "error_y": {
             "color": "#2a3f5f"
            },
            "marker": {
             "line": {
              "color": "#E5ECF6",
              "width": 0.5
             },
             "pattern": {
              "fillmode": "overlay",
              "size": 10,
              "solidity": 0.2
             }
            },
            "type": "bar"
           }
          ],
          "barpolar": [
           {
            "marker": {
             "line": {
              "color": "#E5ECF6",
              "width": 0.5
             },
             "pattern": {
              "fillmode": "overlay",
              "size": 10,
              "solidity": 0.2
             }
            },
            "type": "barpolar"
           }
          ],
          "carpet": [
           {
            "aaxis": {
             "endlinecolor": "#2a3f5f",
             "gridcolor": "white",
             "linecolor": "white",
             "minorgridcolor": "white",
             "startlinecolor": "#2a3f5f"
            },
            "baxis": {
             "endlinecolor": "#2a3f5f",
             "gridcolor": "white",
             "linecolor": "white",
             "minorgridcolor": "white",
             "startlinecolor": "#2a3f5f"
            },
            "type": "carpet"
           }
          ],
          "choropleth": [
           {
            "colorbar": {
             "outlinewidth": 0,
             "ticks": ""
            },
            "type": "choropleth"
           }
          ],
          "contour": [
           {
            "colorbar": {
             "outlinewidth": 0,
             "ticks": ""
            },
            "colorscale": [
             [
              0,
              "#0d0887"
             ],
             [
              0.1111111111111111,
              "#46039f"
             ],
             [
              0.2222222222222222,
              "#7201a8"
             ],
             [
              0.3333333333333333,
              "#9c179e"
             ],
             [
              0.4444444444444444,
              "#bd3786"
             ],
             [
              0.5555555555555556,
              "#d8576b"
             ],
             [
              0.6666666666666666,
              "#ed7953"
             ],
             [
              0.7777777777777778,
              "#fb9f3a"
             ],
             [
              0.8888888888888888,
              "#fdca26"
             ],
             [
              1,
              "#f0f921"
             ]
            ],
            "type": "contour"
           }
          ],
          "contourcarpet": [
           {
            "colorbar": {
             "outlinewidth": 0,
             "ticks": ""
            },
            "type": "contourcarpet"
           }
          ],
          "heatmap": [
           {
            "colorbar": {
             "outlinewidth": 0,
             "ticks": ""
            },
            "colorscale": [
             [
              0,
              "#0d0887"
             ],
             [
              0.1111111111111111,
              "#46039f"
             ],
             [
              0.2222222222222222,
              "#7201a8"
             ],
             [
              0.3333333333333333,
              "#9c179e"
             ],
             [
              0.4444444444444444,
              "#bd3786"
             ],
             [
              0.5555555555555556,
              "#d8576b"
             ],
             [
              0.6666666666666666,
              "#ed7953"
             ],
             [
              0.7777777777777778,
              "#fb9f3a"
             ],
             [
              0.8888888888888888,
              "#fdca26"
             ],
             [
              1,
              "#f0f921"
             ]
            ],
            "type": "heatmap"
           }
          ],
          "heatmapgl": [
           {
            "colorbar": {
             "outlinewidth": 0,
             "ticks": ""
            },
            "colorscale": [
             [
              0,
              "#0d0887"
             ],
             [
              0.1111111111111111,
              "#46039f"
             ],
             [
              0.2222222222222222,
              "#7201a8"
             ],
             [
              0.3333333333333333,
              "#9c179e"
             ],
             [
              0.4444444444444444,
              "#bd3786"
             ],
             [
              0.5555555555555556,
              "#d8576b"
             ],
             [
              0.6666666666666666,
              "#ed7953"
             ],
             [
              0.7777777777777778,
              "#fb9f3a"
             ],
             [
              0.8888888888888888,
              "#fdca26"
             ],
             [
              1,
              "#f0f921"
             ]
            ],
            "type": "heatmapgl"
           }
          ],
          "histogram": [
           {
            "marker": {
             "pattern": {
              "fillmode": "overlay",
              "size": 10,
              "solidity": 0.2
             }
            },
            "type": "histogram"
           }
          ],
          "histogram2d": [
           {
            "colorbar": {
             "outlinewidth": 0,
             "ticks": ""
            },
            "colorscale": [
             [
              0,
              "#0d0887"
             ],
             [
              0.1111111111111111,
              "#46039f"
             ],
             [
              0.2222222222222222,
              "#7201a8"
             ],
             [
              0.3333333333333333,
              "#9c179e"
             ],
             [
              0.4444444444444444,
              "#bd3786"
             ],
             [
              0.5555555555555556,
              "#d8576b"
             ],
             [
              0.6666666666666666,
              "#ed7953"
             ],
             [
              0.7777777777777778,
              "#fb9f3a"
             ],
             [
              0.8888888888888888,
              "#fdca26"
             ],
             [
              1,
              "#f0f921"
             ]
            ],
            "type": "histogram2d"
           }
          ],
          "histogram2dcontour": [
           {
            "colorbar": {
             "outlinewidth": 0,
             "ticks": ""
            },
            "colorscale": [
             [
              0,
              "#0d0887"
             ],
             [
              0.1111111111111111,
              "#46039f"
             ],
             [
              0.2222222222222222,
              "#7201a8"
             ],
             [
              0.3333333333333333,
              "#9c179e"
             ],
             [
              0.4444444444444444,
              "#bd3786"
             ],
             [
              0.5555555555555556,
              "#d8576b"
             ],
             [
              0.6666666666666666,
              "#ed7953"
             ],
             [
              0.7777777777777778,
              "#fb9f3a"
             ],
             [
              0.8888888888888888,
              "#fdca26"
             ],
             [
              1,
              "#f0f921"
             ]
            ],
            "type": "histogram2dcontour"
           }
          ],
          "mesh3d": [
           {
            "colorbar": {
             "outlinewidth": 0,
             "ticks": ""
            },
            "type": "mesh3d"
           }
          ],
          "parcoords": [
           {
            "line": {
             "colorbar": {
              "outlinewidth": 0,
              "ticks": ""
             }
            },
            "type": "parcoords"
           }
          ],
          "pie": [
           {
            "automargin": true,
            "type": "pie"
           }
          ],
          "scatter": [
           {
            "fillpattern": {
             "fillmode": "overlay",
             "size": 10,
             "solidity": 0.2
            },
            "type": "scatter"
           }
          ],
          "scatter3d": [
           {
            "line": {
             "colorbar": {
              "outlinewidth": 0,
              "ticks": ""
             }
            },
            "marker": {
             "colorbar": {
              "outlinewidth": 0,
              "ticks": ""
             }
            },
            "type": "scatter3d"
           }
          ],
          "scattercarpet": [
           {
            "marker": {
             "colorbar": {
              "outlinewidth": 0,
              "ticks": ""
             }
            },
            "type": "scattercarpet"
           }
          ],
          "scattergeo": [
           {
            "marker": {
             "colorbar": {
              "outlinewidth": 0,
              "ticks": ""
             }
            },
            "type": "scattergeo"
           }
          ],
          "scattergl": [
           {
            "marker": {
             "colorbar": {
              "outlinewidth": 0,
              "ticks": ""
             }
            },
            "type": "scattergl"
           }
          ],
          "scattermapbox": [
           {
            "marker": {
             "colorbar": {
              "outlinewidth": 0,
              "ticks": ""
             }
            },
            "type": "scattermapbox"
           }
          ],
          "scatterpolar": [
           {
            "marker": {
             "colorbar": {
              "outlinewidth": 0,
              "ticks": ""
             }
            },
            "type": "scatterpolar"
           }
          ],
          "scatterpolargl": [
           {
            "marker": {
             "colorbar": {
              "outlinewidth": 0,
              "ticks": ""
             }
            },
            "type": "scatterpolargl"
           }
          ],
          "scatterternary": [
           {
            "marker": {
             "colorbar": {
              "outlinewidth": 0,
              "ticks": ""
             }
            },
            "type": "scatterternary"
           }
          ],
          "surface": [
           {
            "colorbar": {
             "outlinewidth": 0,
             "ticks": ""
            },
            "colorscale": [
             [
              0,
              "#0d0887"
             ],
             [
              0.1111111111111111,
              "#46039f"
             ],
             [
              0.2222222222222222,
              "#7201a8"
             ],
             [
              0.3333333333333333,
              "#9c179e"
             ],
             [
              0.4444444444444444,
              "#bd3786"
             ],
             [
              0.5555555555555556,
              "#d8576b"
             ],
             [
              0.6666666666666666,
              "#ed7953"
             ],
             [
              0.7777777777777778,
              "#fb9f3a"
             ],
             [
              0.8888888888888888,
              "#fdca26"
             ],
             [
              1,
              "#f0f921"
             ]
            ],
            "type": "surface"
           }
          ],
          "table": [
           {
            "cells": {
             "fill": {
              "color": "#EBF0F8"
             },
             "line": {
              "color": "white"
             }
            },
            "header": {
             "fill": {
              "color": "#C8D4E3"
             },
             "line": {
              "color": "white"
             }
            },
            "type": "table"
           }
          ]
         },
         "layout": {
          "annotationdefaults": {
           "arrowcolor": "#2a3f5f",
           "arrowhead": 0,
           "arrowwidth": 1
          },
          "autotypenumbers": "strict",
          "coloraxis": {
           "colorbar": {
            "outlinewidth": 0,
            "ticks": ""
           }
          },
          "colorscale": {
           "diverging": [
            [
             0,
             "#8e0152"
            ],
            [
             0.1,
             "#c51b7d"
            ],
            [
             0.2,
             "#de77ae"
            ],
            [
             0.3,
             "#f1b6da"
            ],
            [
             0.4,
             "#fde0ef"
            ],
            [
             0.5,
             "#f7f7f7"
            ],
            [
             0.6,
             "#e6f5d0"
            ],
            [
             0.7,
             "#b8e186"
            ],
            [
             0.8,
             "#7fbc41"
            ],
            [
             0.9,
             "#4d9221"
            ],
            [
             1,
             "#276419"
            ]
           ],
           "sequential": [
            [
             0,
             "#0d0887"
            ],
            [
             0.1111111111111111,
             "#46039f"
            ],
            [
             0.2222222222222222,
             "#7201a8"
            ],
            [
             0.3333333333333333,
             "#9c179e"
            ],
            [
             0.4444444444444444,
             "#bd3786"
            ],
            [
             0.5555555555555556,
             "#d8576b"
            ],
            [
             0.6666666666666666,
             "#ed7953"
            ],
            [
             0.7777777777777778,
             "#fb9f3a"
            ],
            [
             0.8888888888888888,
             "#fdca26"
            ],
            [
             1,
             "#f0f921"
            ]
           ],
           "sequentialminus": [
            [
             0,
             "#0d0887"
            ],
            [
             0.1111111111111111,
             "#46039f"
            ],
            [
             0.2222222222222222,
             "#7201a8"
            ],
            [
             0.3333333333333333,
             "#9c179e"
            ],
            [
             0.4444444444444444,
             "#bd3786"
            ],
            [
             0.5555555555555556,
             "#d8576b"
            ],
            [
             0.6666666666666666,
             "#ed7953"
            ],
            [
             0.7777777777777778,
             "#fb9f3a"
            ],
            [
             0.8888888888888888,
             "#fdca26"
            ],
            [
             1,
             "#f0f921"
            ]
           ]
          },
          "colorway": [
           "#636efa",
           "#EF553B",
           "#00cc96",
           "#ab63fa",
           "#FFA15A",
           "#19d3f3",
           "#FF6692",
           "#B6E880",
           "#FF97FF",
           "#FECB52"
          ],
          "font": {
           "color": "#2a3f5f"
          },
          "geo": {
           "bgcolor": "white",
           "lakecolor": "white",
           "landcolor": "#E5ECF6",
           "showlakes": true,
           "showland": true,
           "subunitcolor": "white"
          },
          "hoverlabel": {
           "align": "left"
          },
          "hovermode": "closest",
          "mapbox": {
           "style": "light"
          },
          "paper_bgcolor": "white",
          "plot_bgcolor": "#E5ECF6",
          "polar": {
           "angularaxis": {
            "gridcolor": "white",
            "linecolor": "white",
            "ticks": ""
           },
           "bgcolor": "#E5ECF6",
           "radialaxis": {
            "gridcolor": "white",
            "linecolor": "white",
            "ticks": ""
           }
          },
          "scene": {
           "xaxis": {
            "backgroundcolor": "#E5ECF6",
            "gridcolor": "white",
            "gridwidth": 2,
            "linecolor": "white",
            "showbackground": true,
            "ticks": "",
            "zerolinecolor": "white"
           },
           "yaxis": {
            "backgroundcolor": "#E5ECF6",
            "gridcolor": "white",
            "gridwidth": 2,
            "linecolor": "white",
            "showbackground": true,
            "ticks": "",
            "zerolinecolor": "white"
           },
           "zaxis": {
            "backgroundcolor": "#E5ECF6",
            "gridcolor": "white",
            "gridwidth": 2,
            "linecolor": "white",
            "showbackground": true,
            "ticks": "",
            "zerolinecolor": "white"
           }
          },
          "shapedefaults": {
           "line": {
            "color": "#2a3f5f"
           }
          },
          "ternary": {
           "aaxis": {
            "gridcolor": "white",
            "linecolor": "white",
            "ticks": ""
           },
           "baxis": {
            "gridcolor": "white",
            "linecolor": "white",
            "ticks": ""
           },
           "bgcolor": "#E5ECF6",
           "caxis": {
            "gridcolor": "white",
            "linecolor": "white",
            "ticks": ""
           }
          },
          "title": {
           "x": 0.05
          },
          "xaxis": {
           "automargin": true,
           "gridcolor": "white",
           "linecolor": "white",
           "ticks": "",
           "title": {
            "standoff": 15
           },
           "zerolinecolor": "white",
           "zerolinewidth": 2
          },
          "yaxis": {
           "automargin": true,
           "gridcolor": "white",
           "linecolor": "white",
           "ticks": "",
           "title": {
            "standoff": 15
           },
           "zerolinecolor": "white",
           "zerolinewidth": 2
          }
         }
        },
        "title": {
         "text": "Confusion Matrix"
        },
        "width": 800,
        "xaxis": {
         "anchor": "y",
         "domain": [
          0,
          1
         ],
         "tickangle": -45,
         "title": {
          "text": "Predicted Category"
         }
        },
        "yaxis": {
         "anchor": "x",
         "autorange": "reversed",
         "domain": [
          0,
          1
         ],
         "title": {
          "text": "Actual Category"
         }
        }
       }
      }
     },
     "metadata": {},
     "output_type": "display_data"
    },
    {
     "name": "stdout",
     "output_type": "stream",
     "text": [
      "\n",
      "Overall Accuracy: 99.67%\n"
     ]
    }
   ],
   "source": [
    "def plot_results():\n",
    "    # 1- Event distribution\n",
    "    fig1 = px.bar(\n",
    "        df_events['CATEGORY'].value_counts(),\n",
    "        title='Event Categories',\n",
    "        labels={'index': 'Category', 'value': 'Count'}\n",
    "    )\n",
    "    fig1.show()\n",
    "    \n",
    "    # 2- geographic distribution\n",
    "    fig2 = px.scatter(\n",
    "        df_events,\n",
    "        x='LONGITUDE',\n",
    "        y='LATITUDE',\n",
    "        color='CATEGORY',\n",
    "        title='Event Locations',\n",
    "        hover_data=['TITLE'],\n",
    "        width=800,\n",
    "        height=500\n",
    "    )\n",
    "    fig2.update_layout(\n",
    "        showlegend=True,\n",
    "        legend_title=\"Event Type\"\n",
    "    )\n",
    "    fig2.show()\n",
    "    \n",
    "    # 3- confusion matrix\n",
    "    # Convert numeric predictions back to categories\n",
    "    actual_categories = label_encoder.inverse_transform(y_test)\n",
    "    predicted_categories = label_encoder.inverse_transform(predictions)\n",
    "    \n",
    "    conf_matrix = pd.crosstab(\n",
    "        actual_categories,\n",
    "        predicted_categories,\n",
    "        rownames=['Actual'],\n",
    "        colnames=['Predicted']\n",
    "    )\n",
    "    \n",
    "    # make heatmap\n",
    "    fig3 = px.imshow(\n",
    "        conf_matrix,\n",
    "        title=\"Confusion Matrix\",\n",
    "        labels=dict(x=\"Predicted Category\", y=\"Actual Category\", color=\"Count\"),\n",
    "        aspect='auto',\n",
    "        color_continuous_scale='RdBu_r'\n",
    "    )\n",
    "    \n",
    "    fig3.update_layout(\n",
    "        width=800,\n",
    "        height=600,\n",
    "        xaxis_tickangle=-45\n",
    "    )\n",
    "    fig3.show()\n",
    "\n",
    "    # accuracy score\n",
    "    accuracy = (actual_categories == predicted_categories).mean()\n",
    "    print(f\"\\nOverall Accuracy: {accuracy:.2%}\")\n",
    "\n",
    "plot_results()\n"
   ]
  },
  {
   "cell_type": "code",
   "execution_count": null,
   "id": "461d23b7",
   "metadata": {},
   "outputs": [
    {
     "name": "stdout",
     "output_type": "stream",
     "text": [
      "\n",
      "Model Metrics:\n",
      "accuracy: 0.996742671009772\n",
      "n_estimators: 100\n",
      "max_depth: 10\n",
      "feature_count: 5\n",
      "training_samples: 1228\n",
      "test_samples: 307\n",
      "Saved 1000 predictions\n",
      "Saved 535 predictions\n",
      "\n",
      "Saved 1535 predictions to Snowflake\n"
     ]
    }
   ],
   "source": [
    "# save predictions and metadata to Snowflake\n",
    "def save_predictions_and_metadata():\n",
    "    \"\"\"Save model predictions and metadata to Snowflake\"\"\"\n",
    "    conn = None\n",
    "    try:\n",
    "        # make predictions on all data\n",
    "        all_predictions = model.predict(X)\n",
    "        all_probabilities = model.predict_proba(X)\n",
    "\n",
    "        results_df = pd.DataFrame({\n",
    "            'event_id': df_events['EVENT_ID'],\n",
    "            'event_time': df_events['EVENT_TIME'].dt.strftime('%Y-%m-%d %H:%M:%S'), \n",
    "            'actual_category': df_events['CATEGORY'],\n",
    "            'predicted_category': label_encoder.inverse_transform(all_predictions),\n",
    "            'confidence': all_probabilities.max(axis=1),\n",
    "            'model_version': '1.0.0',\n",
    "            'features_used': ','.join(X.columns)\n",
    "        })\n",
    "\n",
    "        metrics = {\n",
    "            'accuracy': (predictions == y_test).mean(),\n",
    "            'n_estimators': model.n_estimators,\n",
    "            'max_depth': model.max_depth,\n",
    "            'feature_count': len(X.columns),\n",
    "            'training_samples': len(X_train),\n",
    "            'test_samples': len(X_test)\n",
    "        }\n",
    "        \n",
    "        print(\"\\nModel Metrics:\")\n",
    "        for key, value in metrics.items():\n",
    "            print(f\"{key}: {value}\")\n",
    "        \n",
    "         #save to snowflake\n",
    "        conn = snowflake.connector.connect(**SNOWFLAKE_CONFIG)\n",
    "        cur = conn.cursor()\n",
    "\n",
    "        cur.execute(\"\"\"\n",
    "            CREATE TABLE IF NOT EXISTS PUBLIC.EVENT_PREDICTIONS (\n",
    "                EVENT_ID VARCHAR,\n",
    "                EVENT_TIME TIMESTAMP,\n",
    "                ACTUAL_CATEGORY VARCHAR,\n",
    "                PREDICTED_CATEGORY VARCHAR,\n",
    "                CONFIDENCE FLOAT,\n",
    "                MODEL_VERSION VARCHAR,\n",
    "                FEATURES_USED VARCHAR,\n",
    "                PREDICTION_TIMESTAMP TIMESTAMP DEFAULT CURRENT_TIMESTAMP()\n",
    "            )\n",
    "        \"\"\")\n",
    "        \n",
    "        cur.execute(\"\"\"\n",
    "            CREATE TABLE IF NOT EXISTS PUBLIC.MODEL_METADATA (\n",
    "                MODEL_VERSION VARCHAR,\n",
    "                ACCURACY FLOAT,\n",
    "                N_ESTIMATORS INTEGER,\n",
    "                MAX_DEPTH INTEGER,\n",
    "                FEATURE_COUNT INTEGER,\n",
    "                TRAINING_SAMPLES INTEGER,\n",
    "                TEST_SAMPLES INTEGER,\n",
    "                TRAINING_TIMESTAMP TIMESTAMP DEFAULT CURRENT_TIMESTAMP()\n",
    "            )\n",
    "        \"\"\")\n",
    "\n",
    "        cur.execute(\"\"\"\n",
    "            INSERT INTO MODEL_METADATA (\n",
    "                MODEL_VERSION, ACCURACY, N_ESTIMATORS, MAX_DEPTH,\n",
    "                FEATURE_COUNT, TRAINING_SAMPLES, TEST_SAMPLES\n",
    "            ) VALUES (%s, %s, %s, %s, %s, %s, %s)\n",
    "        \"\"\", (\n",
    "            '1.0.0',\n",
    "            float(metrics['accuracy']),\n",
    "            int(metrics['n_estimators']),\n",
    "            int(metrics['max_depth']),\n",
    "            int(metrics['feature_count']),\n",
    "            int(metrics['training_samples']),\n",
    "            int(metrics['test_samples'])\n",
    "        ))\n",
    "        \n",
    "        batch_size = 1000\n",
    "        for i in range(0, len(results_df), batch_size):\n",
    "            batch = results_df.iloc[i:i + batch_size]\n",
    "            values = batch[['event_id', 'event_time', 'actual_category',\n",
    "                          'predicted_category', 'confidence', 'model_version',\n",
    "                          'features_used']].values.tolist()\n",
    "            \n",
    "            cur.executemany(\"\"\"\n",
    "                INSERT INTO EVENT_PREDICTIONS (\n",
    "                    EVENT_ID, EVENT_TIME, ACTUAL_CATEGORY,\n",
    "                    PREDICTED_CATEGORY, CONFIDENCE, MODEL_VERSION,\n",
    "                    FEATURES_USED\n",
    "                ) VALUES (%s, %s, %s, %s, %s, %s, %s)\n",
    "            \"\"\", values)\n",
    "            \n",
    "            print(f\"Saved {len(batch)} predictions\")\n",
    "        \n",
    "        conn.commit()\n",
    "        print(f\"\\nSaved {len(results_df)} predictions to Snowflake\")\n",
    "        \n",
    "    except Exception as e:\n",
    "        if conn:\n",
    "            conn.rollback()\n",
    "        print(f\"Error saving to Snowflake: {str(e)}\")\n",
    "        raise\n",
    "    finally:\n",
    "        if conn:\n",
    "            conn.close()\n",
    "\n",
    "try:\n",
    "    save_predictions_and_metadata()\n",
    "except Exception as e:\n",
    "    print(f\"Failed to save results: {str(e)}\")\n",
    "    raise"
   ]
  }
 ],
 "metadata": {
  "kernelspec": {
   "display_name": "base",
   "language": "python",
   "name": "python3"
  },
  "language_info": {
   "codemirror_mode": {
    "name": "ipython",
    "version": 3
   },
   "file_extension": ".py",
   "mimetype": "text/x-python",
   "name": "python",
   "nbconvert_exporter": "python",
   "pygments_lexer": "ipython3",
   "version": "3.12.3"
  }
 },
 "nbformat": 4,
 "nbformat_minor": 5
}
